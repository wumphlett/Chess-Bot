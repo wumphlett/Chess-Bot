{
 "cells": [
  {
   "cell_type": "markdown",
   "id": "e1a0d866",
   "metadata": {
    "pycharm": {
     "name": "#%% md\n"
    }
   },
   "source": [
    "# Chess-Bot\n",
    "An implementation of DeepChess (paper in `docs/deepchess.pdf`) and its use in a chess engine\n",
    "### Differences from the original DeepChess:\n",
    "- Training of the Autoencoder uses BinaryCrossentropy as its loss function. It's unclear what is used in the paper, but I suspect MSE\n",
    "- LeakyReLU instead of ReLU?"
   ]
  },
  {
   "cell_type": "markdown",
   "id": "39990c9e",
   "metadata": {
    "pycharm": {
     "name": "#%% md\n"
    }
   },
   "source": [
    "## Setup"
   ]
  },
  {
   "cell_type": "code",
   "execution_count": 1,
   "id": "44dfb777",
   "metadata": {
    "pycharm": {
     "name": "#%%\n"
    }
   },
   "outputs": [],
   "source": [
    "%load_ext autoreload\n",
    "%autoreload 2\n",
    "\n",
    "import chessbot as cb"
   ]
  },
  {
   "cell_type": "markdown",
   "id": "e0d6da87",
   "metadata": {},
   "source": [
    "## Environment\n",
    "Downloads, unpacks, processes, and splits training data  \n",
    "Should this break, go to http://ccrl.chessdom.com/ccrl/4040/games.html and replace the variable in `chessbot/environment.py` with the updated commentless game link"
   ]
  },
  {
   "cell_type": "code",
   "execution_count": null,
   "id": "bc6accdc",
   "metadata": {
    "pycharm": {
     "name": "#%%\n"
    },
    "scrolled": false
   },
   "outputs": [],
   "source": [
    "cb.environment.create()"
   ]
  },
  {
   "cell_type": "markdown",
   "id": "0ff71152",
   "metadata": {},
   "source": [
    "## Pos2Vec\n",
    "The Pos2Vec dataset consists of 1mil positions each from white won and black won games  \n",
    "Pos2Vec is trained using a greedy layer-by-layer strategy of an unsupervised autoencoder"
   ]
  },
  {
   "cell_type": "code",
   "execution_count": null,
   "id": "55e34049",
   "metadata": {},
   "outputs": [],
   "source": [
    "train, val = cb.dataset.pos2vec_dataset()"
   ]
  },
  {
   "cell_type": "code",
   "execution_count": null,
   "id": "94862d50",
   "metadata": {},
   "outputs": [],
   "source": [
    "pos2vec = cb.model.train_pos2vec(train, val)"
   ]
  },
  {
   "cell_type": "markdown",
   "id": "9ffb6409",
   "metadata": {},
   "source": [
    "## DeepChess\n",
    "The DeepChess dataset consists of 1mil position pairs randomly ordered  \n",
    "DeepChess is trained using a shared Pos2Vec instance to perform feature extraction then fed into another neural net to determine which position is best"
   ]
  },
  {
   "cell_type": "code",
   "execution_count": 2,
   "id": "0a9edcf0",
   "metadata": {},
   "outputs": [],
   "source": [
    "train, val = cb.dataset.deepchess_dataset()"
   ]
  },
  {
   "cell_type": "code",
   "execution_count": 3,
   "id": "cf092d00",
   "metadata": {
    "scrolled": true
   },
   "outputs": [
    {
     "name": "stdout",
     "output_type": "stream",
     "text": [
      "Pos2Vec weights loading from models/pos2vec.h5\n",
      "Epoch 216/1000\n",
      "62500/62500 [==============================] - 206s 3ms/step - loss: 0.1055 - accuracy: 0.9530 - val_loss: 0.3337 - val_accuracy: 0.8930 - lr: 0.0012\n",
      "Epoch 217/1000\n",
      "62500/62500 [==============================] - 186s 3ms/step - loss: 0.1047 - accuracy: 0.9531 - val_loss: 0.3137 - val_accuracy: 0.8919 - lr: 0.0011\n",
      "Epoch 218/1000\n",
      "62500/62500 [==============================] - 184s 3ms/step - loss: 0.1049 - accuracy: 0.9528 - val_loss: 0.3214 - val_accuracy: 0.8935 - lr: 0.0011\n",
      "Epoch 219/1000\n",
      "62500/62500 [==============================] - 177s 3ms/step - loss: 0.1048 - accuracy: 0.9532 - val_loss: 0.3161 - val_accuracy: 0.8929 - lr: 0.0011\n",
      "Epoch 220/1000\n",
      "62500/62500 [==============================] - 179s 3ms/step - loss: 0.1033 - accuracy: 0.9536 - val_loss: 0.3227 - val_accuracy: 0.8958 - lr: 0.0011\n",
      "Epoch 221/1000\n",
      "62500/62500 [==============================] - 180s 3ms/step - loss: 0.1038 - accuracy: 0.9534 - val_loss: 0.3216 - val_accuracy: 0.8940 - lr: 0.0011\n",
      "Epoch 222/1000\n",
      "62500/62500 [==============================] - 184s 3ms/step - loss: 0.1034 - accuracy: 0.9536 - val_loss: 0.3135 - val_accuracy: 0.8942 - lr: 0.0011\n",
      "Epoch 223/1000\n",
      "62500/62500 [==============================] - 183s 3ms/step - loss: 0.1032 - accuracy: 0.9538 - val_loss: 0.3205 - val_accuracy: 0.8944 - lr: 0.0011\n",
      "Epoch 224/1000\n",
      "62500/62500 [==============================] - 180s 3ms/step - loss: 0.1023 - accuracy: 0.9541 - val_loss: 0.3173 - val_accuracy: 0.8934 - lr: 0.0011\n",
      "Epoch 225/1000\n",
      "62500/62500 [==============================] - 178s 3ms/step - loss: 0.1024 - accuracy: 0.9541 - val_loss: 0.3261 - val_accuracy: 0.8936 - lr: 0.0011\n",
      "Epoch 226/1000\n",
      "62500/62500 [==============================] - 184s 3ms/step - loss: 0.1018 - accuracy: 0.9545 - val_loss: 0.3285 - val_accuracy: 0.8940 - lr: 0.0010\n",
      "Epoch 227/1000\n",
      "62500/62500 [==============================] - 185s 3ms/step - loss: 0.1014 - accuracy: 0.9546 - val_loss: 0.3268 - val_accuracy: 0.8940 - lr: 0.0010\n",
      "Epoch 228/1000\n",
      "62500/62500 [==============================] - 180s 3ms/step - loss: 0.1013 - accuracy: 0.9545 - val_loss: 0.3228 - val_accuracy: 0.8942 - lr: 0.0010\n",
      "Epoch 229/1000\n",
      "62500/62500 [==============================] - 184s 3ms/step - loss: 0.1011 - accuracy: 0.9546 - val_loss: 0.3257 - val_accuracy: 0.8950 - lr: 0.0010\n",
      "Epoch 230/1000\n",
      "62500/62500 [==============================] - 182s 3ms/step - loss: 0.1004 - accuracy: 0.9549 - val_loss: 0.3305 - val_accuracy: 0.8935 - lr: 0.0010\n",
      "Epoch 231/1000\n",
      "62500/62500 [==============================] - 181s 3ms/step - loss: 0.0998 - accuracy: 0.9552 - val_loss: 0.3292 - val_accuracy: 0.8939 - lr: 9.9105e-04\n",
      "Epoch 232/1000\n",
      "62500/62500 [==============================] - 183s 3ms/step - loss: 0.0999 - accuracy: 0.9550 - val_loss: 0.3347 - val_accuracy: 0.8926 - lr: 9.8114e-04\n",
      "Epoch 233/1000\n",
      "62500/62500 [==============================] - 180s 3ms/step - loss: 0.0999 - accuracy: 0.9550 - val_loss: 0.3374 - val_accuracy: 0.8941 - lr: 9.7133e-04\n",
      "Epoch 234/1000\n",
      "62500/62500 [==============================] - 178s 3ms/step - loss: 0.0995 - accuracy: 0.9553 - val_loss: 0.3275 - val_accuracy: 0.8932 - lr: 9.6161e-04\n",
      "Epoch 235/1000\n",
      "62500/62500 [==============================] - 177s 3ms/step - loss: 0.0988 - accuracy: 0.9556 - val_loss: 0.3366 - val_accuracy: 0.8955 - lr: 9.5200e-04\n",
      "Epoch 236/1000\n",
      "62500/62500 [==============================] - 180s 3ms/step - loss: 0.0988 - accuracy: 0.9559 - val_loss: 0.3328 - val_accuracy: 0.8947 - lr: 9.4248e-04\n",
      "Epoch 237/1000\n",
      "62500/62500 [==============================] - 187s 3ms/step - loss: 0.0990 - accuracy: 0.9558 - val_loss: 0.3317 - val_accuracy: 0.8931 - lr: 9.3305e-04\n",
      "Epoch 238/1000\n",
      "62500/62500 [==============================] - 179s 3ms/step - loss: 0.0976 - accuracy: 0.9562 - val_loss: 0.3256 - val_accuracy: 0.8935 - lr: 9.2372e-04\n",
      "Epoch 239/1000\n",
      "62500/62500 [==============================] - 181s 3ms/step - loss: 0.0975 - accuracy: 0.9564 - val_loss: 0.3368 - val_accuracy: 0.8950 - lr: 9.1448e-04\n",
      "Epoch 240/1000\n",
      "62500/62500 [==============================] - 181s 3ms/step - loss: 0.0975 - accuracy: 0.9560 - val_loss: 0.3382 - val_accuracy: 0.8931 - lr: 9.0534e-04\n",
      "Epoch 241/1000\n",
      "62500/62500 [==============================] - 179s 3ms/step - loss: 0.0972 - accuracy: 0.9566 - val_loss: 0.3411 - val_accuracy: 0.8935 - lr: 8.9629e-04\n",
      "Epoch 242/1000\n",
      "62500/62500 [==============================] - 180s 3ms/step - loss: 0.0968 - accuracy: 0.9567 - val_loss: 0.3407 - val_accuracy: 0.8933 - lr: 8.8732e-04\n",
      "Epoch 243/1000\n",
      "62500/62500 [==============================] - 184s 3ms/step - loss: 0.0970 - accuracy: 0.9566 - val_loss: 0.3301 - val_accuracy: 0.8939 - lr: 8.7845e-04\n",
      "Epoch 244/1000\n",
      "62500/62500 [==============================] - 183s 3ms/step - loss: 0.0964 - accuracy: 0.9563 - val_loss: 0.3451 - val_accuracy: 0.8935 - lr: 8.6967e-04\n",
      "Epoch 245/1000\n",
      "62500/62500 [==============================] - 181s 3ms/step - loss: 0.0955 - accuracy: 0.9571 - val_loss: 0.3521 - val_accuracy: 0.8927 - lr: 8.6097e-04\n",
      "Epoch 246/1000\n",
      "62500/62500 [==============================] - 180s 3ms/step - loss: 0.0953 - accuracy: 0.9572 - val_loss: 0.3487 - val_accuracy: 0.8938 - lr: 8.5236e-04\n",
      "Epoch 247/1000\n",
      "62500/62500 [==============================] - 183s 3ms/step - loss: 0.0954 - accuracy: 0.9572 - val_loss: 0.3424 - val_accuracy: 0.8939 - lr: 8.4384e-04\n",
      "Epoch 248/1000\n",
      "62500/62500 [==============================] - 179s 3ms/step - loss: 0.0949 - accuracy: 0.9573 - val_loss: 0.3523 - val_accuracy: 0.8917 - lr: 8.3540e-04\n",
      "Epoch 249/1000\n",
      "62500/62500 [==============================] - 177s 3ms/step - loss: 0.0953 - accuracy: 0.9571 - val_loss: 0.3471 - val_accuracy: 0.8944 - lr: 8.2704e-04\n",
      "Epoch 250/1000\n",
      "62500/62500 [==============================] - 180s 3ms/step - loss: 0.0948 - accuracy: 0.9574 - val_loss: 0.3558 - val_accuracy: 0.8944 - lr: 8.1877e-04\n",
      "Epoch 251/1000\n",
      "62500/62500 [==============================] - 178s 3ms/step - loss: 0.0938 - accuracy: 0.9579 - val_loss: 0.3489 - val_accuracy: 0.8947 - lr: 8.1059e-04\n",
      "Epoch 252/1000\n",
      "62500/62500 [==============================] - 179s 3ms/step - loss: 0.0937 - accuracy: 0.9576 - val_loss: 0.3581 - val_accuracy: 0.8938 - lr: 8.0248e-04\n",
      "Epoch 253/1000\n",
      "62500/62500 [==============================] - 180s 3ms/step - loss: 0.0936 - accuracy: 0.9578 - val_loss: 0.3540 - val_accuracy: 0.8939 - lr: 7.9445e-04\n",
      "Epoch 254/1000\n",
      "62500/62500 [==============================] - 179s 3ms/step - loss: 0.0935 - accuracy: 0.9578 - val_loss: 0.3527 - val_accuracy: 0.8943 - lr: 7.8651e-04\n",
      "Epoch 255/1000\n",
      "62500/62500 [==============================] - 179s 3ms/step - loss: 0.0932 - accuracy: 0.9581 - val_loss: 0.3598 - val_accuracy: 0.8939 - lr: 7.7864e-04\n",
      "Epoch 256/1000\n",
      "62500/62500 [==============================] - 182s 3ms/step - loss: 0.0932 - accuracy: 0.9582 - val_loss: 0.3519 - val_accuracy: 0.8948 - lr: 7.7086e-04\n",
      "Epoch 257/1000\n",
      "62500/62500 [==============================] - 182s 3ms/step - loss: 0.0926 - accuracy: 0.9583 - val_loss: 0.3540 - val_accuracy: 0.8939 - lr: 7.6315e-04\n",
      "Epoch 258/1000\n",
      "62500/62500 [==============================] - 179s 3ms/step - loss: 0.0922 - accuracy: 0.9584 - val_loss: 0.3642 - val_accuracy: 0.8937 - lr: 7.5552e-04\n",
      "Epoch 259/1000\n",
      "62500/62500 [==============================] - 180s 3ms/step - loss: 0.0921 - accuracy: 0.9585 - val_loss: 0.3545 - val_accuracy: 0.8935 - lr: 7.4796e-04\n",
      "Epoch 260/1000\n",
      "62500/62500 [==============================] - 183s 3ms/step - loss: 0.0903 - accuracy: 0.9593 - val_loss: 0.3675 - val_accuracy: 0.8941 - lr: 7.4048e-04\n",
      "Epoch 261/1000\n",
      "62500/62500 [==============================] - 183s 3ms/step - loss: 0.0910 - accuracy: 0.9591 - val_loss: 0.3573 - val_accuracy: 0.8928 - lr: 7.3308e-04\n",
      "Epoch 262/1000\n",
      "62500/62500 [==============================] - 178s 3ms/step - loss: 0.0915 - accuracy: 0.9589 - val_loss: 0.3633 - val_accuracy: 0.8927 - lr: 7.2575e-04\n",
      "Epoch 263/1000\n",
      "62500/62500 [==============================] - 180s 3ms/step - loss: 0.0908 - accuracy: 0.9591 - val_loss: 0.3607 - val_accuracy: 0.8934 - lr: 7.1849e-04\n",
      "Epoch 264/1000\n"
     ]
    },
    {
     "name": "stdout",
     "output_type": "stream",
     "text": [
      "62500/62500 [==============================] - 178s 3ms/step - loss: 0.0911 - accuracy: 0.9588 - val_loss: 0.3802 - val_accuracy: 0.8918 - lr: 7.1131e-04\n",
      "Epoch 265/1000\n",
      "62500/62500 [==============================] - 181s 3ms/step - loss: 0.0903 - accuracy: 0.9597 - val_loss: 0.3640 - val_accuracy: 0.8924 - lr: 7.0419e-04\n",
      "Epoch 266/1000\n",
      "62500/62500 [==============================] - 180s 3ms/step - loss: 0.0902 - accuracy: 0.9595 - val_loss: 0.3661 - val_accuracy: 0.8936 - lr: 6.9715e-04\n",
      "Epoch 267/1000\n",
      "62500/62500 [==============================] - 187s 3ms/step - loss: 0.0890 - accuracy: 0.9600 - val_loss: 0.3765 - val_accuracy: 0.8928 - lr: 6.9018e-04\n",
      "Epoch 268/1000\n",
      "62500/62500 [==============================] - 183s 3ms/step - loss: 0.0896 - accuracy: 0.9596 - val_loss: 0.3723 - val_accuracy: 0.8945 - lr: 6.8328e-04\n",
      "Epoch 269/1000\n",
      "62500/62500 [==============================] - 186s 3ms/step - loss: 0.0892 - accuracy: 0.9599 - val_loss: 0.3838 - val_accuracy: 0.8921 - lr: 6.7644e-04\n",
      "Epoch 270/1000\n",
      "62500/62500 [==============================] - 180s 3ms/step - loss: 0.0887 - accuracy: 0.9601 - val_loss: 0.3801 - val_accuracy: 0.8934 - lr: 6.6968e-04\n",
      "Epoch 271/1000\n",
      "62500/62500 [==============================] - 179s 3ms/step - loss: 0.0891 - accuracy: 0.9599 - val_loss: 0.3803 - val_accuracy: 0.8939 - lr: 6.6298e-04\n",
      "Epoch 272/1000\n",
      "62500/62500 [==============================] - 179s 3ms/step - loss: 0.0886 - accuracy: 0.9600 - val_loss: 0.3706 - val_accuracy: 0.8926 - lr: 6.5635e-04\n",
      "Epoch 273/1000\n",
      "62500/62500 [==============================] - 181s 3ms/step - loss: 0.0884 - accuracy: 0.9603 - val_loss: 0.3766 - val_accuracy: 0.8929 - lr: 6.4979e-04\n",
      "Epoch 274/1000\n",
      "62500/62500 [==============================] - 178s 3ms/step - loss: 0.0873 - accuracy: 0.9607 - val_loss: 0.3780 - val_accuracy: 0.8931 - lr: 6.4329e-04\n",
      "Epoch 275/1000\n",
      "62500/62500 [==============================] - 181s 3ms/step - loss: 0.0874 - accuracy: 0.9608 - val_loss: 0.3832 - val_accuracy: 0.8934 - lr: 6.3686e-04\n",
      "Epoch 276/1000\n",
      "62500/62500 [==============================] - 179s 3ms/step - loss: 0.0879 - accuracy: 0.9604 - val_loss: 0.3766 - val_accuracy: 0.8925 - lr: 6.3049e-04\n",
      "Epoch 277/1000\n",
      "62500/62500 [==============================] - 180s 3ms/step - loss: 0.0874 - accuracy: 0.9604 - val_loss: 0.3783 - val_accuracy: 0.8930 - lr: 6.2419e-04\n",
      "Epoch 278/1000\n",
      "62500/62500 [==============================] - 179s 3ms/step - loss: 0.0876 - accuracy: 0.9605 - val_loss: 0.3844 - val_accuracy: 0.8929 - lr: 6.1794e-04\n",
      "Epoch 279/1000\n",
      "62500/62500 [==============================] - 182s 3ms/step - loss: 0.0868 - accuracy: 0.9609 - val_loss: 0.3924 - val_accuracy: 0.8930 - lr: 6.1176e-04\n",
      "Epoch 280/1000\n",
      "62500/62500 [==============================] - 178s 3ms/step - loss: 0.0866 - accuracy: 0.9610 - val_loss: 0.3850 - val_accuracy: 0.8924 - lr: 6.0565e-04\n",
      "Epoch 281/1000\n",
      "62500/62500 [==============================] - 182s 3ms/step - loss: 0.0860 - accuracy: 0.9614 - val_loss: 0.3875 - val_accuracy: 0.8926 - lr: 5.9959e-04\n",
      "Epoch 282/1000\n",
      "62500/62500 [==============================] - 180s 3ms/step - loss: 0.0858 - accuracy: 0.9614 - val_loss: 0.3934 - val_accuracy: 0.8935 - lr: 5.9359e-04\n",
      "Epoch 283/1000\n",
      "62500/62500 [==============================] - 178s 3ms/step - loss: 0.0854 - accuracy: 0.9613 - val_loss: 0.3837 - val_accuracy: 0.8919 - lr: 5.8766e-04\n",
      "Epoch 284/1000\n",
      "62500/62500 [==============================] - 178s 3ms/step - loss: 0.0853 - accuracy: 0.9616 - val_loss: 0.3970 - val_accuracy: 0.8933 - lr: 5.8178e-04\n",
      "Epoch 285/1000\n",
      "62500/62500 [==============================] - 181s 3ms/step - loss: 0.0853 - accuracy: 0.9614 - val_loss: 0.4020 - val_accuracy: 0.8925 - lr: 5.7596e-04\n",
      "Epoch 286/1000\n",
      "62500/62500 [==============================] - 179s 3ms/step - loss: 0.0854 - accuracy: 0.9616 - val_loss: 0.3850 - val_accuracy: 0.8940 - lr: 5.7020e-04\n",
      "Epoch 287/1000\n",
      "62500/62500 [==============================] - 181s 3ms/step - loss: 0.0850 - accuracy: 0.9616 - val_loss: 0.4019 - val_accuracy: 0.8928 - lr: 5.6450e-04\n",
      "Epoch 288/1000\n",
      "62500/62500 [==============================] - 179s 3ms/step - loss: 0.0850 - accuracy: 0.9617 - val_loss: 0.3942 - val_accuracy: 0.8928 - lr: 5.5886e-04\n",
      "Epoch 289/1000\n",
      "62500/62500 [==============================] - 182s 3ms/step - loss: 0.0848 - accuracy: 0.9618 - val_loss: 0.4065 - val_accuracy: 0.8916 - lr: 5.5327e-04\n",
      "Epoch 290/1000\n",
      "62500/62500 [==============================] - 180s 3ms/step - loss: 0.0841 - accuracy: 0.9620 - val_loss: 0.4075 - val_accuracy: 0.8913 - lr: 5.4774e-04\n",
      "Epoch 291/1000\n",
      "62500/62500 [==============================] - 185s 3ms/step - loss: 0.0838 - accuracy: 0.9622 - val_loss: 0.3969 - val_accuracy: 0.8925 - lr: 5.4226e-04\n",
      "Epoch 292/1000\n",
      "62500/62500 [==============================] - 180s 3ms/step - loss: 0.0835 - accuracy: 0.9622 - val_loss: 0.4005 - val_accuracy: 0.8920 - lr: 5.3684e-04\n",
      "Epoch 293/1000\n",
      "62500/62500 [==============================] - 180s 3ms/step - loss: 0.0831 - accuracy: 0.9624 - val_loss: 0.3982 - val_accuracy: 0.8928 - lr: 5.3147e-04\n",
      "Epoch 294/1000\n",
      "62500/62500 [==============================] - 179s 3ms/step - loss: 0.0825 - accuracy: 0.9628 - val_loss: 0.4145 - val_accuracy: 0.8929 - lr: 5.2615e-04\n",
      "Epoch 295/1000\n",
      "62500/62500 [==============================] - 180s 3ms/step - loss: 0.0830 - accuracy: 0.9625 - val_loss: 0.3974 - val_accuracy: 0.8928 - lr: 5.2089e-04\n",
      "Epoch 296/1000\n",
      "62500/62500 [==============================] - 184s 3ms/step - loss: 0.0830 - accuracy: 0.9625 - val_loss: 0.4049 - val_accuracy: 0.8920 - lr: 5.1568e-04\n",
      "Epoch 297/1000\n",
      "62500/62500 [==============================] - 180s 3ms/step - loss: 0.0831 - accuracy: 0.9625 - val_loss: 0.4160 - val_accuracy: 0.8904 - lr: 5.1053e-04\n",
      "Epoch 298/1000\n",
      "62500/62500 [==============================] - 180s 3ms/step - loss: 0.0823 - accuracy: 0.9629 - val_loss: 0.4190 - val_accuracy: 0.8921 - lr: 5.0542e-04\n",
      "Epoch 299/1000\n",
      "62500/62500 [==============================] - 180s 3ms/step - loss: 0.0820 - accuracy: 0.9630 - val_loss: 0.4138 - val_accuracy: 0.8935 - lr: 5.0037e-04\n",
      "Epoch 300/1000\n",
      "62500/62500 [==============================] - 178s 3ms/step - loss: 0.0817 - accuracy: 0.9632 - val_loss: 0.4333 - val_accuracy: 0.8910 - lr: 4.9536e-04\n",
      "Epoch 301/1000\n",
      "62500/62500 [==============================] - 179s 3ms/step - loss: 0.0823 - accuracy: 0.9627 - val_loss: 0.4227 - val_accuracy: 0.8926 - lr: 4.9041e-04\n",
      "Epoch 302/1000\n",
      "62500/62500 [==============================] - 177s 3ms/step - loss: 0.0817 - accuracy: 0.9630 - val_loss: 0.4129 - val_accuracy: 0.8918 - lr: 4.8550e-04\n",
      "Epoch 303/1000\n",
      "62500/62500 [==============================] - 180s 3ms/step - loss: 0.0812 - accuracy: 0.9634 - val_loss: 0.4356 - val_accuracy: 0.8913 - lr: 4.8065e-04\n",
      "Epoch 304/1000\n",
      "62500/62500 [==============================] - 180s 3ms/step - loss: 0.0815 - accuracy: 0.9631 - val_loss: 0.4167 - val_accuracy: 0.8921 - lr: 4.7584e-04\n",
      "Epoch 305/1000\n",
      "62500/62500 [==============================] - 177s 3ms/step - loss: 0.0812 - accuracy: 0.9633 - val_loss: 0.4155 - val_accuracy: 0.8907 - lr: 4.7108e-04\n",
      "Epoch 306/1000\n",
      "62500/62500 [==============================] - 181s 3ms/step - loss: 0.0807 - accuracy: 0.9635 - val_loss: 0.4238 - val_accuracy: 0.8925 - lr: 4.6637e-04\n",
      "Epoch 307/1000\n",
      "62500/62500 [==============================] - 180s 3ms/step - loss: 0.0804 - accuracy: 0.9636 - val_loss: 0.4424 - val_accuracy: 0.8905 - lr: 4.6171e-04\n",
      "Epoch 308/1000\n",
      "62500/62500 [==============================] - 181s 3ms/step - loss: 0.0801 - accuracy: 0.9638 - val_loss: 0.4367 - val_accuracy: 0.8922 - lr: 4.5709e-04\n",
      "Epoch 309/1000\n",
      "62500/62500 [==============================] - 178s 3ms/step - loss: 0.0802 - accuracy: 0.9639 - val_loss: 0.4335 - val_accuracy: 0.8920 - lr: 4.5252e-04\n",
      "Epoch 310/1000\n",
      "62500/62500 [==============================] - 181s 3ms/step - loss: 0.0803 - accuracy: 0.9636 - val_loss: 0.4268 - val_accuracy: 0.8911 - lr: 4.4800e-04\n",
      "Epoch 311/1000\n",
      "62500/62500 [==============================] - 176s 3ms/step - loss: 0.0799 - accuracy: 0.9638 - val_loss: 0.4240 - val_accuracy: 0.8932 - lr: 4.4352e-04\n",
      "Epoch 312/1000\n"
     ]
    },
    {
     "name": "stdout",
     "output_type": "stream",
     "text": [
      "62500/62500 [==============================] - 179s 3ms/step - loss: 0.0798 - accuracy: 0.9639 - val_loss: 0.4247 - val_accuracy: 0.8922 - lr: 4.3908e-04\n",
      "Epoch 313/1000\n",
      "62500/62500 [==============================] - 177s 3ms/step - loss: 0.0796 - accuracy: 0.9640 - val_loss: 0.4282 - val_accuracy: 0.8919 - lr: 4.3469e-04\n",
      "Epoch 314/1000\n",
      "62500/62500 [==============================] - 180s 3ms/step - loss: 0.0794 - accuracy: 0.9640 - val_loss: 0.4294 - val_accuracy: 0.8915 - lr: 4.3034e-04\n",
      "Epoch 315/1000\n",
      "62500/62500 [==============================] - 178s 3ms/step - loss: 0.0791 - accuracy: 0.9642 - val_loss: 0.4338 - val_accuracy: 0.8930 - lr: 4.2604e-04\n",
      "Epoch 316/1000\n",
      "62500/62500 [==============================] - 176s 3ms/step - loss: 0.0787 - accuracy: 0.9644 - val_loss: 0.4282 - val_accuracy: 0.8907 - lr: 4.2178e-04\n",
      "Epoch 317/1000\n",
      "62500/62500 [==============================] - 177s 3ms/step - loss: 0.0788 - accuracy: 0.9643 - val_loss: 0.4362 - val_accuracy: 0.8918 - lr: 4.1756e-04\n",
      "Epoch 318/1000\n",
      "62500/62500 [==============================] - 184s 3ms/step - loss: 0.0784 - accuracy: 0.9644 - val_loss: 0.4446 - val_accuracy: 0.8916 - lr: 4.1339e-04\n",
      "Epoch 319/1000\n",
      "62500/62500 [==============================] - 183s 3ms/step - loss: 0.0783 - accuracy: 0.9645 - val_loss: 0.4402 - val_accuracy: 0.8916 - lr: 4.0925e-04\n",
      "Epoch 320/1000\n",
      "62500/62500 [==============================] - 181s 3ms/step - loss: 0.0779 - accuracy: 0.9646 - val_loss: 0.4491 - val_accuracy: 0.8927 - lr: 4.0516e-04\n",
      "Epoch 321/1000\n",
      "62500/62500 [==============================] - 178s 3ms/step - loss: 0.0775 - accuracy: 0.9650 - val_loss: 0.4383 - val_accuracy: 0.8911 - lr: 4.0111e-04\n",
      "Epoch 322/1000\n",
      "62500/62500 [==============================] - 181s 3ms/step - loss: 0.0776 - accuracy: 0.9647 - val_loss: 0.4488 - val_accuracy: 0.8913 - lr: 3.9710e-04\n",
      "Epoch 323/1000\n",
      "62500/62500 [==============================] - 178s 3ms/step - loss: 0.0778 - accuracy: 0.9649 - val_loss: 0.4385 - val_accuracy: 0.8923 - lr: 3.9313e-04\n",
      "Epoch 324/1000\n",
      "62500/62500 [==============================] - 176s 3ms/step - loss: 0.0775 - accuracy: 0.9648 - val_loss: 0.4391 - val_accuracy: 0.8921 - lr: 3.8920e-04\n",
      "Epoch 325/1000\n",
      "62500/62500 [==============================] - 176s 3ms/step - loss: 0.0773 - accuracy: 0.9650 - val_loss: 0.4419 - val_accuracy: 0.8925 - lr: 3.8530e-04\n",
      "Epoch 326/1000\n",
      "62500/62500 [==============================] - 181s 3ms/step - loss: 0.0775 - accuracy: 0.9649 - val_loss: 0.4499 - val_accuracy: 0.8915 - lr: 3.8145e-04\n",
      "Epoch 327/1000\n",
      "62500/62500 [==============================] - 177s 3ms/step - loss: 0.0769 - accuracy: 0.9651 - val_loss: 0.4437 - val_accuracy: 0.8911 - lr: 3.7764e-04\n",
      "Epoch 328/1000\n",
      "62500/62500 [==============================] - 181s 3ms/step - loss: 0.0763 - accuracy: 0.9652 - val_loss: 0.4545 - val_accuracy: 0.8912 - lr: 3.7386e-04\n",
      "Epoch 329/1000\n",
      "62500/62500 [==============================] - 178s 3ms/step - loss: 0.0761 - accuracy: 0.9656 - val_loss: 0.4631 - val_accuracy: 0.8898 - lr: 3.7012e-04\n",
      "Epoch 330/1000\n",
      "62500/62500 [==============================] - 179s 3ms/step - loss: 0.0767 - accuracy: 0.9650 - val_loss: 0.4629 - val_accuracy: 0.8908 - lr: 3.6642e-04\n",
      "Epoch 331/1000\n",
      "62500/62500 [==============================] - 177s 3ms/step - loss: 0.0762 - accuracy: 0.9653 - val_loss: 0.4621 - val_accuracy: 0.8914 - lr: 3.6276e-04\n",
      "Epoch 332/1000\n",
      "62500/62500 [==============================] - 176s 3ms/step - loss: 0.0763 - accuracy: 0.9655 - val_loss: 0.4490 - val_accuracy: 0.8912 - lr: 3.5913e-04\n",
      "Epoch 333/1000\n",
      "62500/62500 [==============================] - 178s 3ms/step - loss: 0.0761 - accuracy: 0.9656 - val_loss: 0.4568 - val_accuracy: 0.8917 - lr: 3.5554e-04\n",
      "Epoch 334/1000\n",
      "62500/62500 [==============================] - 180s 3ms/step - loss: 0.0755 - accuracy: 0.9656 - val_loss: 0.4681 - val_accuracy: 0.8918 - lr: 3.5198e-04\n",
      "Epoch 335/1000\n",
      "62500/62500 [==============================] - 179s 3ms/step - loss: 0.0751 - accuracy: 0.9661 - val_loss: 0.4726 - val_accuracy: 0.8919 - lr: 3.4846e-04\n",
      "Epoch 336/1000\n",
      "62500/62500 [==============================] - 176s 3ms/step - loss: 0.0751 - accuracy: 0.9657 - val_loss: 0.4666 - val_accuracy: 0.8920 - lr: 3.4498e-04\n",
      "Epoch 337/1000\n",
      "62500/62500 [==============================] - 177s 3ms/step - loss: 0.0756 - accuracy: 0.9657 - val_loss: 0.4643 - val_accuracy: 0.8909 - lr: 3.4153e-04\n",
      "Epoch 338/1000\n",
      "62500/62500 [==============================] - 179s 3ms/step - loss: 0.0753 - accuracy: 0.9660 - val_loss: 0.4621 - val_accuracy: 0.8923 - lr: 3.3811e-04\n",
      "Epoch 339/1000\n",
      "62500/62500 [==============================] - 182s 3ms/step - loss: 0.0748 - accuracy: 0.9660 - val_loss: 0.4628 - val_accuracy: 0.8923 - lr: 3.3473e-04\n",
      "Epoch 340/1000\n",
      "62500/62500 [==============================] - 188s 3ms/step - loss: 0.0748 - accuracy: 0.9660 - val_loss: 0.4694 - val_accuracy: 0.8906 - lr: 3.3138e-04\n",
      "Epoch 341/1000\n",
      "62500/62500 [==============================] - 177s 3ms/step - loss: 0.0748 - accuracy: 0.9659 - val_loss: 0.4882 - val_accuracy: 0.8902 - lr: 3.2807e-04\n",
      "Epoch 342/1000\n",
      "62500/62500 [==============================] - 178s 3ms/step - loss: 0.0742 - accuracy: 0.9664 - val_loss: 0.4817 - val_accuracy: 0.8898 - lr: 3.2479e-04\n",
      "Epoch 343/1000\n",
      "62500/62500 [==============================] - 177s 3ms/step - loss: 0.0738 - accuracy: 0.9665 - val_loss: 0.4800 - val_accuracy: 0.8892 - lr: 3.2154e-04\n",
      "Epoch 344/1000\n",
      "62500/62500 [==============================] - 177s 3ms/step - loss: 0.0738 - accuracy: 0.9664 - val_loss: 0.4877 - val_accuracy: 0.8926 - lr: 3.1833e-04\n",
      "Epoch 345/1000\n",
      "62500/62500 [==============================] - 178s 3ms/step - loss: 0.0740 - accuracy: 0.9664 - val_loss: 0.4781 - val_accuracy: 0.8917 - lr: 3.1514e-04\n",
      "Epoch 346/1000\n",
      "62500/62500 [==============================] - 181s 3ms/step - loss: 0.0739 - accuracy: 0.9664 - val_loss: 0.4877 - val_accuracy: 0.8911 - lr: 3.1199e-04\n",
      "Epoch 347/1000\n",
      "62500/62500 [==============================] - 178s 3ms/step - loss: 0.0740 - accuracy: 0.9665 - val_loss: 0.4617 - val_accuracy: 0.8906 - lr: 3.0887e-04\n",
      "Epoch 348/1000\n",
      "62500/62500 [==============================] - 175s 3ms/step - loss: 0.0736 - accuracy: 0.9665 - val_loss: 0.4757 - val_accuracy: 0.8909 - lr: 3.0578e-04\n",
      "Epoch 349/1000\n",
      "62500/62500 [==============================] - 186s 3ms/step - loss: 0.0738 - accuracy: 0.9663 - val_loss: 0.4767 - val_accuracy: 0.8918 - lr: 3.0272e-04\n",
      "Epoch 350/1000\n",
      "62500/62500 [==============================] - 179s 3ms/step - loss: 0.0735 - accuracy: 0.9665 - val_loss: 0.4974 - val_accuracy: 0.8906 - lr: 2.9970e-04\n",
      "Epoch 351/1000\n",
      "62500/62500 [==============================] - 183s 3ms/step - loss: 0.0733 - accuracy: 0.9667 - val_loss: 0.4853 - val_accuracy: 0.8919 - lr: 2.9670e-04\n",
      "Epoch 352/1000\n",
      "62500/62500 [==============================] - 179s 3ms/step - loss: 0.0727 - accuracy: 0.9670 - val_loss: 0.4854 - val_accuracy: 0.8896 - lr: 2.9373e-04\n",
      "Epoch 353/1000\n",
      "62500/62500 [==============================] - 181s 3ms/step - loss: 0.0725 - accuracy: 0.9670 - val_loss: 0.4903 - val_accuracy: 0.8925 - lr: 2.9080e-04\n",
      "Epoch 354/1000\n",
      "62500/62500 [==============================] - 179s 3ms/step - loss: 0.0727 - accuracy: 0.9668 - val_loss: 0.4833 - val_accuracy: 0.8916 - lr: 2.8789e-04\n",
      "Epoch 355/1000\n",
      "62500/62500 [==============================] - 177s 3ms/step - loss: 0.0721 - accuracy: 0.9672 - val_loss: 0.4910 - val_accuracy: 0.8893 - lr: 2.8501e-04\n",
      "Epoch 356/1000\n",
      "62500/62500 [==============================] - 180s 3ms/step - loss: 0.0724 - accuracy: 0.9673 - val_loss: 0.4933 - val_accuracy: 0.8905 - lr: 2.8216e-04\n",
      "Epoch 357/1000\n",
      "62500/62500 [==============================] - 177s 3ms/step - loss: 0.0722 - accuracy: 0.9673 - val_loss: 0.4928 - val_accuracy: 0.8906 - lr: 2.7934e-04\n",
      "Epoch 358/1000\n",
      "62500/62500 [==============================] - 178s 3ms/step - loss: 0.0714 - accuracy: 0.9674 - val_loss: 0.4975 - val_accuracy: 0.8909 - lr: 2.7654e-04\n",
      "Epoch 359/1000\n",
      "62500/62500 [==============================] - 181s 3ms/step - loss: 0.0716 - accuracy: 0.9672 - val_loss: 0.4871 - val_accuracy: 0.8914 - lr: 2.7378e-04\n",
      "Epoch 360/1000\n"
     ]
    },
    {
     "name": "stdout",
     "output_type": "stream",
     "text": [
      "62500/62500 [==============================] - 179s 3ms/step - loss: 0.0713 - accuracy: 0.9675 - val_loss: 0.5099 - val_accuracy: 0.8903 - lr: 2.7104e-04\n",
      "Epoch 361/1000\n",
      "62500/62500 [==============================] - 181s 3ms/step - loss: 0.0710 - accuracy: 0.9679 - val_loss: 0.5111 - val_accuracy: 0.8902 - lr: 2.6833e-04\n",
      "Epoch 362/1000\n",
      "62500/62500 [==============================] - 181s 3ms/step - loss: 0.0718 - accuracy: 0.9673 - val_loss: 0.4922 - val_accuracy: 0.8914 - lr: 2.6565e-04\n",
      "Epoch 363/1000\n",
      "62500/62500 [==============================] - 184s 3ms/step - loss: 0.0715 - accuracy: 0.9676 - val_loss: 0.5138 - val_accuracy: 0.8909 - lr: 2.6299e-04\n",
      "Epoch 364/1000\n",
      "62500/62500 [==============================] - 215s 3ms/step - loss: 0.0713 - accuracy: 0.9675 - val_loss: 0.5075 - val_accuracy: 0.8891 - lr: 2.6036e-04\n",
      "Epoch 365/1000\n",
      "62500/62500 [==============================] - 194s 3ms/step - loss: 0.0708 - accuracy: 0.9679 - val_loss: 0.4892 - val_accuracy: 0.8912 - lr: 2.5776e-04\n",
      "Epoch 366/1000\n",
      " 5406/62500 [=>............................] - ETA: 2:42 - loss: 0.0695 - accuracy: 0.9681"
     ]
    },
    {
     "ename": "KeyboardInterrupt",
     "evalue": "",
     "output_type": "error",
     "traceback": [
      "\u001b[0;31m---------------------------------------------------------------------------\u001b[0m",
      "\u001b[0;31mKeyboardInterrupt\u001b[0m                         Traceback (most recent call last)",
      "Cell \u001b[0;32mIn[3], line 1\u001b[0m\n\u001b[0;32m----> 1\u001b[0m deepchess \u001b[38;5;241m=\u001b[39m \u001b[43mcb\u001b[49m\u001b[38;5;241;43m.\u001b[39;49m\u001b[43mmodel\u001b[49m\u001b[38;5;241;43m.\u001b[39;49m\u001b[43mtrain_deepchess\u001b[49m\u001b[43m(\u001b[49m\u001b[43mtrain\u001b[49m\u001b[43m,\u001b[49m\u001b[43m \u001b[49m\u001b[43mval\u001b[49m\u001b[43m)\u001b[49m\n",
      "File \u001b[0;32m~/personal/Chess-Bot/chessbot/model.py:126\u001b[0m, in \u001b[0;36mtrain_deepchess\u001b[0;34m(train, val)\u001b[0m\n\u001b[1;32m    121\u001b[0m dc \u001b[38;5;241m=\u001b[39m DeepChess()\n\u001b[1;32m    123\u001b[0m dc\u001b[38;5;241m.\u001b[39mcompile(\n\u001b[1;32m    124\u001b[0m     optimizer\u001b[38;5;241m=\u001b[39mSGD(learning_rate\u001b[38;5;241m=\u001b[39m\u001b[38;5;241m0.01\u001b[39m), loss\u001b[38;5;241m=\u001b[39mCategoricalCrossentropy(), metrics\u001b[38;5;241m=\u001b[39m[\u001b[38;5;124m\"\u001b[39m\u001b[38;5;124maccuracy\u001b[39m\u001b[38;5;124m\"\u001b[39m], jit_compile\u001b[38;5;241m=\u001b[39m\u001b[38;5;28;01mTrue\u001b[39;00m\n\u001b[1;32m    125\u001b[0m )\n\u001b[0;32m--> 126\u001b[0m \u001b[43mdc\u001b[49m\u001b[38;5;241;43m.\u001b[39;49m\u001b[43mfit\u001b[49m\u001b[43m(\u001b[49m\n\u001b[1;32m    127\u001b[0m \u001b[43m    \u001b[49m\u001b[43mtrain\u001b[49m\u001b[43m,\u001b[49m\n\u001b[1;32m    128\u001b[0m \u001b[43m    \u001b[49m\u001b[43mepochs\u001b[49m\u001b[38;5;241;43m=\u001b[39;49m\u001b[38;5;241;43m1_000\u001b[39;49m\u001b[43m,\u001b[49m\n\u001b[1;32m    129\u001b[0m \u001b[43m    \u001b[49m\u001b[43mcallbacks\u001b[49m\u001b[38;5;241;43m=\u001b[39;49m\u001b[43m[\u001b[49m\n\u001b[1;32m    130\u001b[0m \u001b[43m        \u001b[49m\u001b[43mLearningRateScheduler\u001b[49m\u001b[43m(\u001b[49m\u001b[43mDeepChess\u001b[49m\u001b[38;5;241;43m.\u001b[39;49m\u001b[43mlr_schedule\u001b[49m\u001b[43m)\u001b[49m\u001b[43m,\u001b[49m\n\u001b[1;32m    131\u001b[0m \u001b[43m        \u001b[49m\u001b[43mBackupAndRestore\u001b[49m\u001b[43m(\u001b[49m\u001b[43mCHECKPOINT_DIR\u001b[49m\u001b[43m)\u001b[49m\u001b[43m,\u001b[49m\n\u001b[1;32m    132\u001b[0m \u001b[43m        \u001b[49m\u001b[43mCSVLogger\u001b[49m\u001b[43m(\u001b[49m\u001b[43mDC_LOG\u001b[49m\u001b[43m,\u001b[49m\u001b[43m \u001b[49m\u001b[43mappend\u001b[49m\u001b[38;5;241;43m=\u001b[39;49m\u001b[38;5;28;43;01mTrue\u001b[39;49;00m\u001b[43m)\u001b[49m\n\u001b[1;32m    133\u001b[0m \u001b[43m    \u001b[49m\u001b[43m]\u001b[49m\u001b[43m,\u001b[49m\n\u001b[1;32m    134\u001b[0m \u001b[43m    \u001b[49m\u001b[43mworkers\u001b[49m\u001b[38;5;241;43m=\u001b[39;49m\u001b[38;5;241;43m8\u001b[39;49m\u001b[43m,\u001b[49m\n\u001b[1;32m    135\u001b[0m \u001b[43m    \u001b[49m\u001b[43mvalidation_data\u001b[49m\u001b[38;5;241;43m=\u001b[39;49m\u001b[43mval\u001b[49m\u001b[43m,\u001b[49m\n\u001b[1;32m    136\u001b[0m \u001b[43m\u001b[49m\u001b[43m)\u001b[49m\n\u001b[1;32m    138\u001b[0m dc\u001b[38;5;241m.\u001b[39mdeepchess\u001b[38;5;241m.\u001b[39msave_weights(DEEPCHESS_WEIGHTS)\n\u001b[1;32m    140\u001b[0m \u001b[38;5;28;01mreturn\u001b[39;00m deepchess()\n",
      "File \u001b[0;32m~/anaconda3/envs/chess/lib/python3.10/site-packages/keras/utils/traceback_utils.py:65\u001b[0m, in \u001b[0;36mfilter_traceback.<locals>.error_handler\u001b[0;34m(*args, **kwargs)\u001b[0m\n\u001b[1;32m     63\u001b[0m filtered_tb \u001b[38;5;241m=\u001b[39m \u001b[38;5;28;01mNone\u001b[39;00m\n\u001b[1;32m     64\u001b[0m \u001b[38;5;28;01mtry\u001b[39;00m:\n\u001b[0;32m---> 65\u001b[0m     \u001b[38;5;28;01mreturn\u001b[39;00m \u001b[43mfn\u001b[49m\u001b[43m(\u001b[49m\u001b[38;5;241;43m*\u001b[39;49m\u001b[43margs\u001b[49m\u001b[43m,\u001b[49m\u001b[43m \u001b[49m\u001b[38;5;241;43m*\u001b[39;49m\u001b[38;5;241;43m*\u001b[39;49m\u001b[43mkwargs\u001b[49m\u001b[43m)\u001b[49m\n\u001b[1;32m     66\u001b[0m \u001b[38;5;28;01mexcept\u001b[39;00m \u001b[38;5;167;01mException\u001b[39;00m \u001b[38;5;28;01mas\u001b[39;00m e:\n\u001b[1;32m     67\u001b[0m     filtered_tb \u001b[38;5;241m=\u001b[39m _process_traceback_frames(e\u001b[38;5;241m.\u001b[39m__traceback__)\n",
      "File \u001b[0;32m~/anaconda3/envs/chess/lib/python3.10/site-packages/keras/engine/training.py:1656\u001b[0m, in \u001b[0;36mModel.fit\u001b[0;34m(self, x, y, batch_size, epochs, verbose, callbacks, validation_split, validation_data, shuffle, class_weight, sample_weight, initial_epoch, steps_per_epoch, validation_steps, validation_batch_size, validation_freq, max_queue_size, workers, use_multiprocessing)\u001b[0m\n\u001b[1;32m   1654\u001b[0m logs \u001b[38;5;241m=\u001b[39m tmp_logs\n\u001b[1;32m   1655\u001b[0m end_step \u001b[38;5;241m=\u001b[39m step \u001b[38;5;241m+\u001b[39m data_handler\u001b[38;5;241m.\u001b[39mstep_increment\n\u001b[0;32m-> 1656\u001b[0m \u001b[43mcallbacks\u001b[49m\u001b[38;5;241;43m.\u001b[39;49m\u001b[43mon_train_batch_end\u001b[49m\u001b[43m(\u001b[49m\u001b[43mend_step\u001b[49m\u001b[43m,\u001b[49m\u001b[43m \u001b[49m\u001b[43mlogs\u001b[49m\u001b[43m)\u001b[49m\n\u001b[1;32m   1657\u001b[0m \u001b[38;5;28;01mif\u001b[39;00m \u001b[38;5;28mself\u001b[39m\u001b[38;5;241m.\u001b[39mstop_training:\n\u001b[1;32m   1658\u001b[0m     \u001b[38;5;28;01mbreak\u001b[39;00m\n",
      "File \u001b[0;32m~/anaconda3/envs/chess/lib/python3.10/site-packages/keras/callbacks.py:476\u001b[0m, in \u001b[0;36mCallbackList.on_train_batch_end\u001b[0;34m(self, batch, logs)\u001b[0m\n\u001b[1;32m    469\u001b[0m \u001b[38;5;124;03m\"\"\"Calls the `on_train_batch_end` methods of its callbacks.\u001b[39;00m\n\u001b[1;32m    470\u001b[0m \n\u001b[1;32m    471\u001b[0m \u001b[38;5;124;03mArgs:\u001b[39;00m\n\u001b[1;32m    472\u001b[0m \u001b[38;5;124;03m    batch: Integer, index of batch within the current epoch.\u001b[39;00m\n\u001b[1;32m    473\u001b[0m \u001b[38;5;124;03m    logs: Dict. Aggregated metric results up until this batch.\u001b[39;00m\n\u001b[1;32m    474\u001b[0m \u001b[38;5;124;03m\"\"\"\u001b[39;00m\n\u001b[1;32m    475\u001b[0m \u001b[38;5;28;01mif\u001b[39;00m \u001b[38;5;28mself\u001b[39m\u001b[38;5;241m.\u001b[39m_should_call_train_batch_hooks:\n\u001b[0;32m--> 476\u001b[0m     \u001b[38;5;28;43mself\u001b[39;49m\u001b[38;5;241;43m.\u001b[39;49m\u001b[43m_call_batch_hook\u001b[49m\u001b[43m(\u001b[49m\u001b[43mModeKeys\u001b[49m\u001b[38;5;241;43m.\u001b[39;49m\u001b[43mTRAIN\u001b[49m\u001b[43m,\u001b[49m\u001b[43m \u001b[49m\u001b[38;5;124;43m\"\u001b[39;49m\u001b[38;5;124;43mend\u001b[39;49m\u001b[38;5;124;43m\"\u001b[39;49m\u001b[43m,\u001b[49m\u001b[43m \u001b[49m\u001b[43mbatch\u001b[49m\u001b[43m,\u001b[49m\u001b[43m \u001b[49m\u001b[43mlogs\u001b[49m\u001b[38;5;241;43m=\u001b[39;49m\u001b[43mlogs\u001b[49m\u001b[43m)\u001b[49m\n",
      "File \u001b[0;32m~/anaconda3/envs/chess/lib/python3.10/site-packages/keras/callbacks.py:323\u001b[0m, in \u001b[0;36mCallbackList._call_batch_hook\u001b[0;34m(self, mode, hook, batch, logs)\u001b[0m\n\u001b[1;32m    321\u001b[0m     \u001b[38;5;28mself\u001b[39m\u001b[38;5;241m.\u001b[39m_call_batch_begin_hook(mode, batch, logs)\n\u001b[1;32m    322\u001b[0m \u001b[38;5;28;01melif\u001b[39;00m hook \u001b[38;5;241m==\u001b[39m \u001b[38;5;124m\"\u001b[39m\u001b[38;5;124mend\u001b[39m\u001b[38;5;124m\"\u001b[39m:\n\u001b[0;32m--> 323\u001b[0m     \u001b[38;5;28;43mself\u001b[39;49m\u001b[38;5;241;43m.\u001b[39;49m\u001b[43m_call_batch_end_hook\u001b[49m\u001b[43m(\u001b[49m\u001b[43mmode\u001b[49m\u001b[43m,\u001b[49m\u001b[43m \u001b[49m\u001b[43mbatch\u001b[49m\u001b[43m,\u001b[49m\u001b[43m \u001b[49m\u001b[43mlogs\u001b[49m\u001b[43m)\u001b[49m\n\u001b[1;32m    324\u001b[0m \u001b[38;5;28;01melse\u001b[39;00m:\n\u001b[1;32m    325\u001b[0m     \u001b[38;5;28;01mraise\u001b[39;00m \u001b[38;5;167;01mValueError\u001b[39;00m(\n\u001b[1;32m    326\u001b[0m         \u001b[38;5;124mf\u001b[39m\u001b[38;5;124m\"\u001b[39m\u001b[38;5;124mUnrecognized hook: \u001b[39m\u001b[38;5;132;01m{\u001b[39;00mhook\u001b[38;5;132;01m}\u001b[39;00m\u001b[38;5;124m. \u001b[39m\u001b[38;5;124m\"\u001b[39m\n\u001b[1;32m    327\u001b[0m         \u001b[38;5;124m'\u001b[39m\u001b[38;5;124mExpected values are [\u001b[39m\u001b[38;5;124m\"\u001b[39m\u001b[38;5;124mbegin\u001b[39m\u001b[38;5;124m\"\u001b[39m\u001b[38;5;124m, \u001b[39m\u001b[38;5;124m\"\u001b[39m\u001b[38;5;124mend\u001b[39m\u001b[38;5;124m\"\u001b[39m\u001b[38;5;124m]\u001b[39m\u001b[38;5;124m'\u001b[39m\n\u001b[1;32m    328\u001b[0m     )\n",
      "File \u001b[0;32m~/anaconda3/envs/chess/lib/python3.10/site-packages/keras/callbacks.py:346\u001b[0m, in \u001b[0;36mCallbackList._call_batch_end_hook\u001b[0;34m(self, mode, batch, logs)\u001b[0m\n\u001b[1;32m    343\u001b[0m     batch_time \u001b[38;5;241m=\u001b[39m time\u001b[38;5;241m.\u001b[39mtime() \u001b[38;5;241m-\u001b[39m \u001b[38;5;28mself\u001b[39m\u001b[38;5;241m.\u001b[39m_batch_start_time\n\u001b[1;32m    344\u001b[0m     \u001b[38;5;28mself\u001b[39m\u001b[38;5;241m.\u001b[39m_batch_times\u001b[38;5;241m.\u001b[39mappend(batch_time)\n\u001b[0;32m--> 346\u001b[0m \u001b[38;5;28;43mself\u001b[39;49m\u001b[38;5;241;43m.\u001b[39;49m\u001b[43m_call_batch_hook_helper\u001b[49m\u001b[43m(\u001b[49m\u001b[43mhook_name\u001b[49m\u001b[43m,\u001b[49m\u001b[43m \u001b[49m\u001b[43mbatch\u001b[49m\u001b[43m,\u001b[49m\u001b[43m \u001b[49m\u001b[43mlogs\u001b[49m\u001b[43m)\u001b[49m\n\u001b[1;32m    348\u001b[0m \u001b[38;5;28;01mif\u001b[39;00m \u001b[38;5;28mlen\u001b[39m(\u001b[38;5;28mself\u001b[39m\u001b[38;5;241m.\u001b[39m_batch_times) \u001b[38;5;241m>\u001b[39m\u001b[38;5;241m=\u001b[39m \u001b[38;5;28mself\u001b[39m\u001b[38;5;241m.\u001b[39m_num_batches_for_timing_check:\n\u001b[1;32m    349\u001b[0m     end_hook_name \u001b[38;5;241m=\u001b[39m hook_name\n",
      "File \u001b[0;32m~/anaconda3/envs/chess/lib/python3.10/site-packages/keras/callbacks.py:394\u001b[0m, in \u001b[0;36mCallbackList._call_batch_hook_helper\u001b[0;34m(self, hook_name, batch, logs)\u001b[0m\n\u001b[1;32m    392\u001b[0m \u001b[38;5;28;01mfor\u001b[39;00m callback \u001b[38;5;129;01min\u001b[39;00m \u001b[38;5;28mself\u001b[39m\u001b[38;5;241m.\u001b[39mcallbacks:\n\u001b[1;32m    393\u001b[0m     hook \u001b[38;5;241m=\u001b[39m \u001b[38;5;28mgetattr\u001b[39m(callback, hook_name)\n\u001b[0;32m--> 394\u001b[0m     \u001b[43mhook\u001b[49m\u001b[43m(\u001b[49m\u001b[43mbatch\u001b[49m\u001b[43m,\u001b[49m\u001b[43m \u001b[49m\u001b[43mlogs\u001b[49m\u001b[43m)\u001b[49m\n\u001b[1;32m    396\u001b[0m \u001b[38;5;28;01mif\u001b[39;00m \u001b[38;5;28mself\u001b[39m\u001b[38;5;241m.\u001b[39m_check_timing:\n\u001b[1;32m    397\u001b[0m     \u001b[38;5;28;01mif\u001b[39;00m hook_name \u001b[38;5;129;01mnot\u001b[39;00m \u001b[38;5;129;01min\u001b[39;00m \u001b[38;5;28mself\u001b[39m\u001b[38;5;241m.\u001b[39m_hook_times:\n",
      "File \u001b[0;32m~/anaconda3/envs/chess/lib/python3.10/site-packages/keras/callbacks.py:1094\u001b[0m, in \u001b[0;36mProgbarLogger.on_train_batch_end\u001b[0;34m(self, batch, logs)\u001b[0m\n\u001b[1;32m   1093\u001b[0m \u001b[38;5;28;01mdef\u001b[39;00m \u001b[38;5;21mon_train_batch_end\u001b[39m(\u001b[38;5;28mself\u001b[39m, batch, logs\u001b[38;5;241m=\u001b[39m\u001b[38;5;28;01mNone\u001b[39;00m):\n\u001b[0;32m-> 1094\u001b[0m     \u001b[38;5;28;43mself\u001b[39;49m\u001b[38;5;241;43m.\u001b[39;49m\u001b[43m_batch_update_progbar\u001b[49m\u001b[43m(\u001b[49m\u001b[43mbatch\u001b[49m\u001b[43m,\u001b[49m\u001b[43m \u001b[49m\u001b[43mlogs\u001b[49m\u001b[43m)\u001b[49m\n",
      "File \u001b[0;32m~/anaconda3/envs/chess/lib/python3.10/site-packages/keras/callbacks.py:1170\u001b[0m, in \u001b[0;36mProgbarLogger._batch_update_progbar\u001b[0;34m(self, batch, logs)\u001b[0m\n\u001b[1;32m   1166\u001b[0m     \u001b[38;5;28mself\u001b[39m\u001b[38;5;241m.\u001b[39mseen \u001b[38;5;241m+\u001b[39m\u001b[38;5;241m=\u001b[39m add_seen\n\u001b[1;32m   1168\u001b[0m \u001b[38;5;28;01mif\u001b[39;00m \u001b[38;5;28mself\u001b[39m\u001b[38;5;241m.\u001b[39mverbose \u001b[38;5;241m==\u001b[39m \u001b[38;5;241m1\u001b[39m:\n\u001b[1;32m   1169\u001b[0m     \u001b[38;5;66;03m# Only block async when verbose = 1.\u001b[39;00m\n\u001b[0;32m-> 1170\u001b[0m     logs \u001b[38;5;241m=\u001b[39m \u001b[43mtf_utils\u001b[49m\u001b[38;5;241;43m.\u001b[39;49m\u001b[43msync_to_numpy_or_python_type\u001b[49m\u001b[43m(\u001b[49m\u001b[43mlogs\u001b[49m\u001b[43m)\u001b[49m\n\u001b[1;32m   1171\u001b[0m     \u001b[38;5;28mself\u001b[39m\u001b[38;5;241m.\u001b[39mprogbar\u001b[38;5;241m.\u001b[39mupdate(\u001b[38;5;28mself\u001b[39m\u001b[38;5;241m.\u001b[39mseen, \u001b[38;5;28mlist\u001b[39m(logs\u001b[38;5;241m.\u001b[39mitems()), finalize\u001b[38;5;241m=\u001b[39m\u001b[38;5;28;01mFalse\u001b[39;00m)\n",
      "File \u001b[0;32m~/anaconda3/envs/chess/lib/python3.10/site-packages/keras/utils/tf_utils.py:665\u001b[0m, in \u001b[0;36msync_to_numpy_or_python_type\u001b[0;34m(tensors)\u001b[0m\n\u001b[1;32m    662\u001b[0m         \u001b[38;5;28;01mreturn\u001b[39;00m t\n\u001b[1;32m    663\u001b[0m     \u001b[38;5;28;01mreturn\u001b[39;00m t\u001b[38;5;241m.\u001b[39mitem() \u001b[38;5;28;01mif\u001b[39;00m np\u001b[38;5;241m.\u001b[39mndim(t) \u001b[38;5;241m==\u001b[39m \u001b[38;5;241m0\u001b[39m \u001b[38;5;28;01melse\u001b[39;00m t\n\u001b[0;32m--> 665\u001b[0m \u001b[38;5;28;01mreturn\u001b[39;00m \u001b[43mtf\u001b[49m\u001b[38;5;241;43m.\u001b[39;49m\u001b[43mnest\u001b[49m\u001b[38;5;241;43m.\u001b[39;49m\u001b[43mmap_structure\u001b[49m\u001b[43m(\u001b[49m\u001b[43m_to_single_numpy_or_python_type\u001b[49m\u001b[43m,\u001b[49m\u001b[43m \u001b[49m\u001b[43mtensors\u001b[49m\u001b[43m)\u001b[49m\n",
      "File \u001b[0;32m~/anaconda3/envs/chess/lib/python3.10/site-packages/tensorflow/python/util/nest.py:917\u001b[0m, in \u001b[0;36mmap_structure\u001b[0;34m(func, *structure, **kwargs)\u001b[0m\n\u001b[1;32m    913\u001b[0m flat_structure \u001b[38;5;241m=\u001b[39m (flatten(s, expand_composites) \u001b[38;5;28;01mfor\u001b[39;00m s \u001b[38;5;129;01min\u001b[39;00m structure)\n\u001b[1;32m    914\u001b[0m entries \u001b[38;5;241m=\u001b[39m \u001b[38;5;28mzip\u001b[39m(\u001b[38;5;241m*\u001b[39mflat_structure)\n\u001b[1;32m    916\u001b[0m \u001b[38;5;28;01mreturn\u001b[39;00m pack_sequence_as(\n\u001b[0;32m--> 917\u001b[0m     structure[\u001b[38;5;241m0\u001b[39m], [func(\u001b[38;5;241m*\u001b[39mx) \u001b[38;5;28;01mfor\u001b[39;00m x \u001b[38;5;129;01min\u001b[39;00m entries],\n\u001b[1;32m    918\u001b[0m     expand_composites\u001b[38;5;241m=\u001b[39mexpand_composites)\n",
      "File \u001b[0;32m~/anaconda3/envs/chess/lib/python3.10/site-packages/tensorflow/python/util/nest.py:917\u001b[0m, in \u001b[0;36m<listcomp>\u001b[0;34m(.0)\u001b[0m\n\u001b[1;32m    913\u001b[0m flat_structure \u001b[38;5;241m=\u001b[39m (flatten(s, expand_composites) \u001b[38;5;28;01mfor\u001b[39;00m s \u001b[38;5;129;01min\u001b[39;00m structure)\n\u001b[1;32m    914\u001b[0m entries \u001b[38;5;241m=\u001b[39m \u001b[38;5;28mzip\u001b[39m(\u001b[38;5;241m*\u001b[39mflat_structure)\n\u001b[1;32m    916\u001b[0m \u001b[38;5;28;01mreturn\u001b[39;00m pack_sequence_as(\n\u001b[0;32m--> 917\u001b[0m     structure[\u001b[38;5;241m0\u001b[39m], [\u001b[43mfunc\u001b[49m\u001b[43m(\u001b[49m\u001b[38;5;241;43m*\u001b[39;49m\u001b[43mx\u001b[49m\u001b[43m)\u001b[49m \u001b[38;5;28;01mfor\u001b[39;00m x \u001b[38;5;129;01min\u001b[39;00m entries],\n\u001b[1;32m    918\u001b[0m     expand_composites\u001b[38;5;241m=\u001b[39mexpand_composites)\n",
      "File \u001b[0;32m~/anaconda3/envs/chess/lib/python3.10/site-packages/keras/utils/tf_utils.py:658\u001b[0m, in \u001b[0;36msync_to_numpy_or_python_type.<locals>._to_single_numpy_or_python_type\u001b[0;34m(t)\u001b[0m\n\u001b[1;32m    655\u001b[0m \u001b[38;5;28;01mdef\u001b[39;00m \u001b[38;5;21m_to_single_numpy_or_python_type\u001b[39m(t):\n\u001b[1;32m    656\u001b[0m     \u001b[38;5;66;03m# Don't turn ragged or sparse tensors to NumPy.\u001b[39;00m\n\u001b[1;32m    657\u001b[0m     \u001b[38;5;28;01mif\u001b[39;00m \u001b[38;5;28misinstance\u001b[39m(t, tf\u001b[38;5;241m.\u001b[39mTensor):\n\u001b[0;32m--> 658\u001b[0m         t \u001b[38;5;241m=\u001b[39m \u001b[43mt\u001b[49m\u001b[38;5;241;43m.\u001b[39;49m\u001b[43mnumpy\u001b[49m\u001b[43m(\u001b[49m\u001b[43m)\u001b[49m\n\u001b[1;32m    659\u001b[0m     \u001b[38;5;66;03m# Strings, ragged and sparse tensors don't have .item(). Return them\u001b[39;00m\n\u001b[1;32m    660\u001b[0m     \u001b[38;5;66;03m# as-is.\u001b[39;00m\n\u001b[1;32m    661\u001b[0m     \u001b[38;5;28;01mif\u001b[39;00m \u001b[38;5;129;01mnot\u001b[39;00m \u001b[38;5;28misinstance\u001b[39m(t, (np\u001b[38;5;241m.\u001b[39mndarray, np\u001b[38;5;241m.\u001b[39mgeneric)):\n",
      "File \u001b[0;32m~/anaconda3/envs/chess/lib/python3.10/site-packages/tensorflow/python/framework/ops.py:1155\u001b[0m, in \u001b[0;36m_EagerTensorBase.numpy\u001b[0;34m(self)\u001b[0m\n\u001b[1;32m   1132\u001b[0m \u001b[38;5;124;03m\"\"\"Copy of the contents of this Tensor into a NumPy array or scalar.\u001b[39;00m\n\u001b[1;32m   1133\u001b[0m \n\u001b[1;32m   1134\u001b[0m \u001b[38;5;124;03mUnlike NumPy arrays, Tensors are immutable, so this method has to copy\u001b[39;00m\n\u001b[0;32m   (...)\u001b[0m\n\u001b[1;32m   1152\u001b[0m \u001b[38;5;124;03m    NumPy dtype.\u001b[39;00m\n\u001b[1;32m   1153\u001b[0m \u001b[38;5;124;03m\"\"\"\u001b[39;00m\n\u001b[1;32m   1154\u001b[0m \u001b[38;5;66;03m# TODO(slebedev): Consider avoiding a copy for non-CPU or remote tensors.\u001b[39;00m\n\u001b[0;32m-> 1155\u001b[0m maybe_arr \u001b[38;5;241m=\u001b[39m \u001b[38;5;28;43mself\u001b[39;49m\u001b[38;5;241;43m.\u001b[39;49m\u001b[43m_numpy\u001b[49m\u001b[43m(\u001b[49m\u001b[43m)\u001b[49m  \u001b[38;5;66;03m# pylint: disable=protected-access\u001b[39;00m\n\u001b[1;32m   1156\u001b[0m \u001b[38;5;28;01mreturn\u001b[39;00m maybe_arr\u001b[38;5;241m.\u001b[39mcopy() \u001b[38;5;28;01mif\u001b[39;00m \u001b[38;5;28misinstance\u001b[39m(maybe_arr, np\u001b[38;5;241m.\u001b[39mndarray) \u001b[38;5;28;01melse\u001b[39;00m maybe_arr\n",
      "File \u001b[0;32m~/anaconda3/envs/chess/lib/python3.10/site-packages/tensorflow/python/framework/ops.py:1121\u001b[0m, in \u001b[0;36m_EagerTensorBase._numpy\u001b[0;34m(self)\u001b[0m\n\u001b[1;32m   1119\u001b[0m \u001b[38;5;28;01mdef\u001b[39;00m \u001b[38;5;21m_numpy\u001b[39m(\u001b[38;5;28mself\u001b[39m):\n\u001b[1;32m   1120\u001b[0m   \u001b[38;5;28;01mtry\u001b[39;00m:\n\u001b[0;32m-> 1121\u001b[0m     \u001b[38;5;28;01mreturn\u001b[39;00m \u001b[38;5;28;43mself\u001b[39;49m\u001b[38;5;241;43m.\u001b[39;49m\u001b[43m_numpy_internal\u001b[49m\u001b[43m(\u001b[49m\u001b[43m)\u001b[49m\n\u001b[1;32m   1122\u001b[0m   \u001b[38;5;28;01mexcept\u001b[39;00m core\u001b[38;5;241m.\u001b[39m_NotOkStatusException \u001b[38;5;28;01mas\u001b[39;00m e:  \u001b[38;5;66;03m# pylint: disable=protected-access\u001b[39;00m\n\u001b[1;32m   1123\u001b[0m     \u001b[38;5;28;01mraise\u001b[39;00m core\u001b[38;5;241m.\u001b[39m_status_to_exception(e) \u001b[38;5;28;01mfrom\u001b[39;00m \u001b[38;5;28mNone\u001b[39m\n",
      "\u001b[0;31mKeyboardInterrupt\u001b[0m: "
     ]
    }
   ],
   "source": [
    "deepchess = cb.model.train_deepchess(train, val)"
   ]
  },
  {
   "cell_type": "markdown",
   "id": "17a66f82",
   "metadata": {},
   "source": [
    "## Evaluation"
   ]
  },
  {
   "cell_type": "code",
   "execution_count": null,
   "id": "87064140",
   "metadata": {
    "pycharm": {
     "name": "#%%\n"
    }
   },
   "outputs": [],
   "source": [
    "deepchess = cb.model.get_deepchess()\n",
    "val = cb.dataset.deepchess_evaluation_dataset()\n",
    "deepchess.evaluate(train)\n",
    "deepchess.evaluate(val)"
   ]
  },
  {
   "cell_type": "code",
   "execution_count": null,
   "id": "87c3930b",
   "metadata": {},
   "outputs": [],
   "source": [
    "deepchess.deepchess.summary()"
   ]
  },
  {
   "cell_type": "markdown",
   "id": "20395b5d",
   "metadata": {},
   "source": [
    "## Play"
   ]
  },
  {
   "cell_type": "code",
   "execution_count": null,
   "id": "5d3233cc",
   "metadata": {},
   "outputs": [],
   "source": [
    "from IPython.display import SVG, display, clear_output\n",
    "import chess\n",
    "\n",
    "PLAY_WHITE = True\n",
    "\n",
    "engine = cb.engine.Engine(not PLAY_WHITE)\n",
    "player_turn = not engine.play_white\n",
    "\n",
    "while not engine.board.is_game_over():\n",
    "    display(SVG(chess.svg.board(engine.board, orientation=not engine.play_white, size=500)))\n",
    "\n",
    "    if player_turn:\n",
    "        move = chess.Move.from_uci(input(\"Enter a move: \"))\n",
    "    else:\n",
    "        print(\"Computer calculating...\")\n",
    "        move = engine.calculate_move()\n",
    "\n",
    "    clear_output(wait=False)\n",
    "\n",
    "    if not engine.board.is_legal(move):\n",
    "        continue\n",
    "\n",
    "    player_turn = not player_turn\n",
    "    engine.board.push(move)\n",
    "\n",
    "display(SVG(chess.svg.board(engine.board, orientation=not engine.play_white, size=500)))\n",
    "engine.board.outcome()"
   ]
  },
  {
   "cell_type": "markdown",
   "id": "2e135bae",
   "metadata": {
    "pycharm": {
     "name": "#%% md\n"
    }
   },
   "source": [
    "## Sandbox"
   ]
  },
  {
   "cell_type": "code",
   "execution_count": null,
   "id": "6dae5c79",
   "metadata": {},
   "outputs": [],
   "source": [
    "board = chess.Board()\n",
    "print(board.pieces(chess.WHITE, chess.PAWN).tolist())"
   ]
  },
  {
   "cell_type": "code",
   "execution_count": null,
   "id": "fab0fd75",
   "metadata": {},
   "outputs": [],
   "source": [
    "train, val = cb.dataset.deepchess_dataset()"
   ]
  },
  {
   "cell_type": "code",
   "execution_count": null,
   "id": "62cc938b",
   "metadata": {},
   "outputs": [],
   "source": [
    "deepchess = cb.model.get_deepchess()\n",
    "deepchess.evaluate(train)"
   ]
  },
  {
   "cell_type": "code",
   "execution_count": null,
   "id": "6c16ba8c",
   "metadata": {},
   "outputs": [],
   "source": [
    "deepchess.metrics"
   ]
  },
  {
   "cell_type": "code",
   "execution_count": null,
   "id": "2d3bae3e",
   "metadata": {},
   "outputs": [],
   "source": [
    "# [1.2469837665557861, 0.6108400225639343]"
   ]
  },
  {
   "cell_type": "code",
   "execution_count": null,
   "id": "5e5417c4",
   "metadata": {},
   "outputs": [],
   "source": [
    "import pandas as pd\n",
    "\n",
    "win = pd.read_pickle(cb.environment.WIN_DATASET)"
   ]
  },
  {
   "cell_type": "code",
   "execution_count": null,
   "id": "07f1e4d8",
   "metadata": {},
   "outputs": [],
   "source": [
    "import numpy as np\n",
    "\n",
    "train.on_epoch_end()\n",
    "print(np.unique(train.y, axis=0, return_counts=True))"
   ]
  },
  {
   "cell_type": "code",
   "execution_count": null,
   "id": "65843245",
   "metadata": {},
   "outputs": [],
   "source": [
    "# 955090"
   ]
  }
 ],
 "metadata": {
  "kernelspec": {
   "display_name": "Python 3 (ipykernel)",
   "language": "python",
   "name": "python3"
  },
  "language_info": {
   "codemirror_mode": {
    "name": "ipython",
    "version": 3
   },
   "file_extension": ".py",
   "mimetype": "text/x-python",
   "name": "python",
   "nbconvert_exporter": "python",
   "pygments_lexer": "ipython3",
   "version": "3.10.4"
  }
 },
 "nbformat": 4,
 "nbformat_minor": 5
}
