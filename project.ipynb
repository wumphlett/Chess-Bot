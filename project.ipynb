{
 "cells": [
  {
   "cell_type": "markdown",
   "id": "e1a0d866",
   "metadata": {
    "pycharm": {
     "name": "#%% md\n"
    }
   },
   "source": [
    "# Chess-Bot"
   ]
  },
  {
   "cell_type": "markdown",
   "id": "39990c9e",
   "metadata": {
    "pycharm": {
     "name": "#%% md\n"
    }
   },
   "source": [
    "## Setup"
   ]
  },
  {
   "cell_type": "code",
   "execution_count": null,
   "id": "44dfb777",
   "metadata": {
    "pycharm": {
     "name": "#%%\n"
    }
   },
   "outputs": [],
   "source": [
    "%load_ext autoreload\n",
    "%autoreload 2\n",
    "\n",
    "import chessbot as cb"
   ]
  },
  {
   "cell_type": "markdown",
   "id": "e0d6da87",
   "metadata": {},
   "source": [
    "## Environment"
   ]
  },
  {
   "cell_type": "code",
   "execution_count": null,
   "id": "bc6accdc",
   "metadata": {
    "pycharm": {
     "name": "#%%\n"
    },
    "scrolled": false
   },
   "outputs": [],
   "source": [
    "cb.environment.create()"
   ]
  },
  {
   "cell_type": "markdown",
   "id": "0ff71152",
   "metadata": {},
   "source": [
    "## Pos2Vec"
   ]
  },
  {
   "cell_type": "code",
   "execution_count": null,
   "id": "55e34049",
   "metadata": {},
   "outputs": [],
   "source": [
    "x_train, x_val = cb.dataset.pos2vec_dataset()"
   ]
  },
  {
   "cell_type": "code",
   "execution_count": null,
   "id": "94862d50",
   "metadata": {},
   "outputs": [],
   "source": [
    "pos2vec = cb.model.train_pos2vec(x_train, x_val)"
   ]
  },
  {
   "cell_type": "code",
   "execution_count": null,
   "id": "6a4dd94d",
   "metadata": {},
   "outputs": [],
   "source": [
    "import numpy as np\n",
    "\n",
    "ex = np.reshape(x_train[0][0][0], (1, 773))\n",
    "\n",
    "print(\"ex\")\n",
    "print(ex)\n",
    "\n",
    "print(\"enc\")\n",
    "print(pos2vec(ex)[0])"
   ]
  },
  {
   "cell_type": "markdown",
   "id": "2e135bae",
   "metadata": {
    "pycharm": {
     "name": "#%% md\n"
    }
   },
   "source": [
    "## Sandbox"
   ]
  },
  {
   "cell_type": "code",
   "execution_count": null,
   "id": "73b4524b",
   "metadata": {},
   "outputs": [],
   "source": []
  }
 ],
 "metadata": {
  "kernelspec": {
   "display_name": "Python 3 (ipykernel)",
   "language": "python",
   "name": "python3"
  },
  "language_info": {
   "codemirror_mode": {
    "name": "ipython",
    "version": 3
   },
   "file_extension": ".py",
   "mimetype": "text/x-python",
   "name": "python",
   "nbconvert_exporter": "python",
   "pygments_lexer": "ipython3",
   "version": "3.10.4"
  }
 },
 "nbformat": 4,
 "nbformat_minor": 5
}
