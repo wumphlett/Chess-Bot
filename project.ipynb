{
 "cells": [
  {
   "cell_type": "markdown",
   "id": "e1a0d866",
   "metadata": {
    "pycharm": {
     "name": "#%% md\n"
    }
   },
   "source": [
    "# Chess-Bot\n",
    "An implementation of DeepChess (paper in `docs/deepchess.pdf`) and its use in a chess engine\n",
    "### Differences from the original DeepChess:\n",
    "- Training of the Autoencoder uses BinaryCrossentropy as its loss function. It's unclear what is used in the paper, but I suspect MSE\n",
    "- LeakyReLU instead of ReLU?"
   ]
  },
  {
   "cell_type": "markdown",
   "id": "39990c9e",
   "metadata": {
    "pycharm": {
     "name": "#%% md\n"
    }
   },
   "source": [
    "## Setup"
   ]
  },
  {
   "cell_type": "code",
   "execution_count": 1,
   "id": "44dfb777",
   "metadata": {
    "pycharm": {
     "name": "#%%\n"
    }
   },
   "outputs": [],
   "source": [
    "%load_ext autoreload\n",
    "%autoreload 2\n",
    "\n",
    "import chessbot as cb"
   ]
  },
  {
   "cell_type": "markdown",
   "id": "e0d6da87",
   "metadata": {},
   "source": [
    "## Environment\n",
    "Downloads, unpacks, processes, and splits training data  \n",
    "Should this break, go to http://ccrl.chessdom.com/ccrl/4040/games.html and replace the variable in `chessbot/environment.py` with the updated no-comments game link"
   ]
  },
  {
   "cell_type": "code",
   "execution_count": 2,
   "id": "bc6accdc",
   "metadata": {
    "pycharm": {
     "name": "#%%\n"
    },
    "scrolled": false
   },
   "outputs": [
    {
     "name": "stdout",
     "output_type": "stream",
     "text": [
      "Dataset archive file found at /home/wumphlett/personal/Chess-Bot/data/CCRL-4040.[1505357].pgn.7z\n",
      "Dataset file found at /home/wumphlett/personal/Chess-Bot/data/CCRL-4040.[1505357].pgn\n"
     ]
    },
    {
     "data": {
      "application/vnd.jupyter.widget-view+json": {
       "model_id": "7e7ccca86fcb46ad9f267f4caa09d70e",
       "version_major": 2,
       "version_minor": 0
      },
      "text/plain": [
       "Processing:   0%|          | 0/1505357 [00:00<?, ?it/s]"
      ]
     },
     "metadata": {},
     "output_type": "display_data"
    },
    {
     "data": {
      "application/vnd.jupyter.widget-view+json": {
       "model_id": "7f04a9191e1741998b4e0ccd63427106",
       "version_major": 2,
       "version_minor": 0
      },
      "text/plain": [
       "Sampling:   0%|          | 0/2 [00:00<?, ?it/s]"
      ]
     },
     "metadata": {},
     "output_type": "display_data"
    },
    {
     "name": "stdout",
     "output_type": "stream",
     "text": [
      "Done\n"
     ]
    }
   ],
   "source": [
    "cb.environment.create()"
   ]
  },
  {
   "cell_type": "markdown",
   "id": "0ff71152",
   "metadata": {},
   "source": [
    "## Pos2Vec\n",
    "The Pos2Vec dataset consists of 1mil positions each from white won and black won games  \n",
    "Pos2Vec is trained using a greedy layer-by-layer strategy of an unsupervised autoencoder"
   ]
  },
  {
   "cell_type": "code",
   "execution_count": 3,
   "id": "55e34049",
   "metadata": {},
   "outputs": [],
   "source": [
    "train, val = cb.dataset.pos2vec_dataset()"
   ]
  },
  {
   "cell_type": "code",
   "execution_count": 4,
   "id": "94862d50",
   "metadata": {},
   "outputs": [
    {
     "name": "stdout",
     "output_type": "stream",
     "text": [
      "Training layer 1/4\n",
      "Epoch 1/200\n",
      "125000/125000 [==============================] - 241s 2ms/step - loss: 0.0454 - binary_accuracy: 0.9511 - val_loss: 0.0235 - val_binary_accuracy: 0.9750 - lr: 0.0050\n",
      "Epoch 2/200\n",
      "125000/125000 [==============================] - 244s 2ms/step - loss: 0.0224 - binary_accuracy: 0.9760 - val_loss: 0.0215 - val_binary_accuracy: 0.9765 - lr: 0.0049\n",
      "Epoch 3/200\n",
      "125000/125000 [==============================] - 242s 2ms/step - loss: 0.0208 - binary_accuracy: 0.9768 - val_loss: 0.0202 - val_binary_accuracy: 0.9776 - lr: 0.0048\n",
      "Epoch 4/200\n",
      "125000/125000 [==============================] - 243s 2ms/step - loss: 0.0197 - binary_accuracy: 0.9776 - val_loss: 0.0192 - val_binary_accuracy: 0.9786 - lr: 0.0047\n",
      "Epoch 5/200\n",
      "125000/125000 [==============================] - 246s 2ms/step - loss: 0.0188 - binary_accuracy: 0.9787 - val_loss: 0.0184 - val_binary_accuracy: 0.9797 - lr: 0.0046\n",
      "Epoch 6/200\n",
      "125000/125000 [==============================] - 247s 2ms/step - loss: 0.0180 - binary_accuracy: 0.9804 - val_loss: 0.0176 - val_binary_accuracy: 0.9808 - lr: 0.0045\n",
      "Epoch 7/200\n",
      "125000/125000 [==============================] - 245s 2ms/step - loss: 0.0172 - binary_accuracy: 0.9818 - val_loss: 0.0169 - val_binary_accuracy: 0.9818 - lr: 0.0044\n",
      "Epoch 8/200\n",
      "125000/125000 [==============================] - 244s 2ms/step - loss: 0.0166 - binary_accuracy: 0.9829 - val_loss: 0.0162 - val_binary_accuracy: 0.9827 - lr: 0.0043\n",
      "Epoch 9/200\n",
      "125000/125000 [==============================] - 244s 2ms/step - loss: 0.0160 - binary_accuracy: 0.9835 - val_loss: 0.0157 - val_binary_accuracy: 0.9834 - lr: 0.0043\n",
      "Epoch 10/200\n",
      "125000/125000 [==============================] - 245s 2ms/step - loss: 0.0154 - binary_accuracy: 0.9840 - val_loss: 0.0152 - val_binary_accuracy: 0.9841 - lr: 0.0042\n",
      "Epoch 11/200\n",
      "125000/125000 [==============================] - 245s 2ms/step - loss: 0.0149 - binary_accuracy: 0.9843 - val_loss: 0.0147 - val_binary_accuracy: 0.9847 - lr: 0.0041\n",
      "Epoch 12/200\n",
      "125000/125000 [==============================] - 246s 2ms/step - loss: 0.0145 - binary_accuracy: 0.9846 - val_loss: 0.0143 - val_binary_accuracy: 0.9852 - lr: 0.0040\n",
      "Epoch 13/200\n",
      "125000/125000 [==============================] - 246s 2ms/step - loss: 0.0141 - binary_accuracy: 0.9849 - val_loss: 0.0139 - val_binary_accuracy: 0.9857 - lr: 0.0039\n",
      "Epoch 14/200\n",
      "125000/125000 [==============================] - 243s 2ms/step - loss: 0.0137 - binary_accuracy: 0.9852 - val_loss: 0.0135 - val_binary_accuracy: 0.9862 - lr: 0.0038\n",
      "Epoch 15/200\n",
      "125000/125000 [==============================] - 244s 2ms/step - loss: 0.0133 - binary_accuracy: 0.9856 - val_loss: 0.0132 - val_binary_accuracy: 0.9866 - lr: 0.0038\n",
      "Epoch 16/200\n",
      "125000/125000 [==============================] - 244s 2ms/step - loss: 0.0130 - binary_accuracy: 0.9860 - val_loss: 0.0129 - val_binary_accuracy: 0.9869 - lr: 0.0037\n",
      "Epoch 17/200\n",
      "125000/125000 [==============================] - 244s 2ms/step - loss: 0.0127 - binary_accuracy: 0.9864 - val_loss: 0.0126 - val_binary_accuracy: 0.9873 - lr: 0.0036\n",
      "Epoch 18/200\n",
      "125000/125000 [==============================] - 243s 2ms/step - loss: 0.0125 - binary_accuracy: 0.9868 - val_loss: 0.0123 - val_binary_accuracy: 0.9876 - lr: 0.0035\n",
      "Epoch 19/200\n",
      "125000/125000 [==============================] - 242s 2ms/step - loss: 0.0122 - binary_accuracy: 0.9873 - val_loss: 0.0121 - val_binary_accuracy: 0.9879 - lr: 0.0035\n",
      "Epoch 20/200\n",
      "125000/125000 [==============================] - 247s 2ms/step - loss: 0.0120 - binary_accuracy: 0.9878 - val_loss: 0.0119 - val_binary_accuracy: 0.9881 - lr: 0.0034\n",
      "Epoch 21/200\n",
      "125000/125000 [==============================] - 244s 2ms/step - loss: 0.0118 - binary_accuracy: 0.9882 - val_loss: 0.0117 - val_binary_accuracy: 0.9883 - lr: 0.0033\n",
      "Epoch 22/200\n",
      "125000/125000 [==============================] - 246s 2ms/step - loss: 0.0116 - binary_accuracy: 0.9887 - val_loss: 0.0115 - val_binary_accuracy: 0.9886 - lr: 0.0033\n",
      "Epoch 23/200\n",
      "125000/125000 [==============================] - 245s 2ms/step - loss: 0.0114 - binary_accuracy: 0.9890 - val_loss: 0.0113 - val_binary_accuracy: 0.9888 - lr: 0.0032\n",
      "Epoch 24/200\n",
      "125000/125000 [==============================] - 244s 2ms/step - loss: 0.0112 - binary_accuracy: 0.9894 - val_loss: 0.0111 - val_binary_accuracy: 0.9889 - lr: 0.0031\n",
      "Epoch 25/200\n",
      "125000/125000 [==============================] - 245s 2ms/step - loss: 0.0111 - binary_accuracy: 0.9896 - val_loss: 0.0110 - val_binary_accuracy: 0.9891 - lr: 0.0031\n",
      "Epoch 26/200\n",
      "125000/125000 [==============================] - 246s 2ms/step - loss: 0.0109 - binary_accuracy: 0.9899 - val_loss: 0.0108 - val_binary_accuracy: 0.9893 - lr: 0.0030\n",
      "Epoch 27/200\n",
      "125000/125000 [==============================] - 245s 2ms/step - loss: 0.0108 - binary_accuracy: 0.9901 - val_loss: 0.0107 - val_binary_accuracy: 0.9894 - lr: 0.0030\n",
      "Epoch 28/200\n",
      "125000/125000 [==============================] - 246s 2ms/step - loss: 0.0106 - binary_accuracy: 0.9903 - val_loss: 0.0106 - val_binary_accuracy: 0.9895 - lr: 0.0029\n",
      "Epoch 29/200\n",
      "125000/125000 [==============================] - 246s 2ms/step - loss: 0.0105 - binary_accuracy: 0.9905 - val_loss: 0.0105 - val_binary_accuracy: 0.9897 - lr: 0.0028\n",
      "Epoch 30/200\n",
      "125000/125000 [==============================] - 246s 2ms/step - loss: 0.0104 - binary_accuracy: 0.9906 - val_loss: 0.0104 - val_binary_accuracy: 0.9898 - lr: 0.0028\n",
      "Epoch 31/200\n",
      "125000/125000 [==============================] - 246s 2ms/step - loss: 0.0103 - binary_accuracy: 0.9907 - val_loss: 0.0103 - val_binary_accuracy: 0.9899 - lr: 0.0027\n",
      "Epoch 32/200\n",
      "125000/125000 [==============================] - 247s 2ms/step - loss: 0.0102 - binary_accuracy: 0.9908 - val_loss: 0.0102 - val_binary_accuracy: 0.9900 - lr: 0.0027\n",
      "Epoch 33/200\n",
      "125000/125000 [==============================] - 247s 2ms/step - loss: 0.0101 - binary_accuracy: 0.9909 - val_loss: 0.0101 - val_binary_accuracy: 0.9901 - lr: 0.0026\n",
      "Epoch 34/200\n",
      "125000/125000 [==============================] - 250s 2ms/step - loss: 0.0100 - binary_accuracy: 0.9910 - val_loss: 0.0100 - val_binary_accuracy: 0.9902 - lr: 0.0026\n",
      "Epoch 35/200\n",
      "125000/125000 [==============================] - 247s 2ms/step - loss: 0.0099 - binary_accuracy: 0.9911 - val_loss: 0.0099 - val_binary_accuracy: 0.9903 - lr: 0.0025\n",
      "Epoch 36/200\n",
      "125000/125000 [==============================] - 238s 2ms/step - loss: 0.0098 - binary_accuracy: 0.9912 - val_loss: 0.0098 - val_binary_accuracy: 0.9903 - lr: 0.0025\n",
      "Epoch 37/200\n",
      "125000/125000 [==============================] - 239s 2ms/step - loss: 0.0098 - binary_accuracy: 0.9912 - val_loss: 0.0097 - val_binary_accuracy: 0.9904 - lr: 0.0024\n",
      "Epoch 38/200\n",
      "125000/125000 [==============================] - 242s 2ms/step - loss: 0.0097 - binary_accuracy: 0.9913 - val_loss: 0.0097 - val_binary_accuracy: 0.9905 - lr: 0.0024\n",
      "Epoch 39/200\n",
      "125000/125000 [==============================] - 241s 2ms/step - loss: 0.0096 - binary_accuracy: 0.9914 - val_loss: 0.0096 - val_binary_accuracy: 0.9906 - lr: 0.0023\n",
      "Epoch 40/200\n",
      "125000/125000 [==============================] - 240s 2ms/step - loss: 0.0096 - binary_accuracy: 0.9914 - val_loss: 0.0095 - val_binary_accuracy: 0.9906 - lr: 0.0023\n",
      "Epoch 41/200\n",
      "125000/125000 [==============================] - 241s 2ms/step - loss: 0.0095 - binary_accuracy: 0.9914 - val_loss: 0.0095 - val_binary_accuracy: 0.9907 - lr: 0.0022\n",
      "Epoch 42/200\n",
      "125000/125000 [==============================] - 242s 2ms/step - loss: 0.0094 - binary_accuracy: 0.9915 - val_loss: 0.0094 - val_binary_accuracy: 0.9908 - lr: 0.0022\n",
      "Epoch 43/200\n",
      "125000/125000 [==============================] - 240s 2ms/step - loss: 0.0094 - binary_accuracy: 0.9915 - val_loss: 0.0093 - val_binary_accuracy: 0.9908 - lr: 0.0021\n",
      "Epoch 44/200\n",
      "125000/125000 [==============================] - 241s 2ms/step - loss: 0.0093 - binary_accuracy: 0.9916 - val_loss: 0.0093 - val_binary_accuracy: 0.9909 - lr: 0.0021\n",
      "Epoch 45/200\n",
      " 49638/125000 [==========>...................] - ETA: 2:12 - loss: 0.0093 - binary_accuracy: 0.9910"
     ]
    },
    {
     "ename": "KeyboardInterrupt",
     "evalue": "",
     "output_type": "error",
     "traceback": [
      "\u001b[0;31m---------------------------------------------------------------------------\u001b[0m",
      "\u001b[0;31mKeyboardInterrupt\u001b[0m                         Traceback (most recent call last)",
      "Cell \u001b[0;32mIn[4], line 1\u001b[0m\n\u001b[0;32m----> 1\u001b[0m pos2vec \u001b[38;5;241m=\u001b[39m \u001b[43mcb\u001b[49m\u001b[38;5;241;43m.\u001b[39;49m\u001b[43mmodel\u001b[49m\u001b[38;5;241;43m.\u001b[39;49m\u001b[43mtrain_pos2vec\u001b[49m\u001b[43m(\u001b[49m\u001b[43mtrain\u001b[49m\u001b[43m,\u001b[49m\u001b[43m \u001b[49m\u001b[43mval\u001b[49m\u001b[43m)\u001b[49m\n",
      "File \u001b[0;32m~/personal/Chess-Bot/chessbot/model.py:149\u001b[0m, in \u001b[0;36mtrain_pos2vec\u001b[0;34m(train, val)\u001b[0m\n\u001b[1;32m    142\u001b[0m     ae\u001b[38;5;241m.\u001b[39mdecoder \u001b[38;5;241m=\u001b[39m Sequential(\n\u001b[1;32m    143\u001b[0m         [Dense(POS2VEC_LAYERS[i \u001b[38;5;241m-\u001b[39m \u001b[38;5;241m1\u001b[39m], activation\u001b[38;5;241m=\u001b[39m\u001b[38;5;124m\"\u001b[39m\u001b[38;5;124mrelu\u001b[39m\u001b[38;5;124m\"\u001b[39m, name\u001b[38;5;241m=\u001b[39m\u001b[38;5;124mf\u001b[39m\u001b[38;5;124m\"\u001b[39m\u001b[38;5;124mdecoder_\u001b[39m\u001b[38;5;132;01m{\u001b[39;00m\u001b[38;5;241m4\u001b[39m\u001b[38;5;241m-\u001b[39mi\u001b[38;5;132;01m}\u001b[39;00m\u001b[38;5;124m\"\u001b[39m)] \u001b[38;5;241m+\u001b[39m layers, name\u001b[38;5;241m=\u001b[39m\u001b[38;5;124m\"\u001b[39m\u001b[38;5;124mae_decoder\u001b[39m\u001b[38;5;124m\"\u001b[39m\n\u001b[1;32m    144\u001b[0m     )\n\u001b[1;32m    146\u001b[0m ae\u001b[38;5;241m.\u001b[39mcompile(\n\u001b[1;32m    147\u001b[0m     optimizer\u001b[38;5;241m=\u001b[39mSGD(learning_rate\u001b[38;5;241m=\u001b[39m\u001b[38;5;241m0.005\u001b[39m), loss\u001b[38;5;241m=\u001b[39mMeanSquaredError(), metrics\u001b[38;5;241m=\u001b[39m[\u001b[38;5;124m\"\u001b[39m\u001b[38;5;124mbinary_accuracy\u001b[39m\u001b[38;5;124m\"\u001b[39m], jit_compile\u001b[38;5;241m=\u001b[39m\u001b[38;5;28;01mTrue\u001b[39;00m\n\u001b[1;32m    148\u001b[0m )\n\u001b[0;32m--> 149\u001b[0m \u001b[43mae\u001b[49m\u001b[38;5;241;43m.\u001b[39;49m\u001b[43mfit\u001b[49m\u001b[43m(\u001b[49m\n\u001b[1;32m    150\u001b[0m \u001b[43m    \u001b[49m\u001b[43mtrain\u001b[49m\u001b[43m,\u001b[49m\n\u001b[1;32m    151\u001b[0m \u001b[43m    \u001b[49m\u001b[43mepochs\u001b[49m\u001b[38;5;241;43m=\u001b[39;49m\u001b[38;5;241;43m200\u001b[39;49m\u001b[43m,\u001b[49m\n\u001b[1;32m    152\u001b[0m \u001b[43m    \u001b[49m\u001b[43mcallbacks\u001b[49m\u001b[38;5;241;43m=\u001b[39;49m\u001b[43m[\u001b[49m\u001b[43mLearningRateScheduler\u001b[49m\u001b[43m(\u001b[49m\u001b[43mAutoEncoder\u001b[49m\u001b[38;5;241;43m.\u001b[39;49m\u001b[43mlr_schedule\u001b[49m\u001b[43m)\u001b[49m\u001b[43m]\u001b[49m\u001b[43m,\u001b[49m\n\u001b[1;32m    153\u001b[0m \u001b[43m    \u001b[49m\u001b[43mworkers\u001b[49m\u001b[38;5;241;43m=\u001b[39;49m\u001b[38;5;241;43m8\u001b[39;49m\u001b[43m,\u001b[49m\n\u001b[1;32m    154\u001b[0m \u001b[43m    \u001b[49m\u001b[43mvalidation_data\u001b[49m\u001b[38;5;241;43m=\u001b[39;49m\u001b[43mval\u001b[49m\u001b[43m,\u001b[49m\n\u001b[1;32m    155\u001b[0m \u001b[43m\u001b[49m\u001b[43m)\u001b[49m\n\u001b[1;32m    157\u001b[0m \u001b[38;5;28;01mfor\u001b[39;00m j, layer \u001b[38;5;129;01min\u001b[39;00m \u001b[38;5;28menumerate\u001b[39m(ae\u001b[38;5;241m.\u001b[39mencoder\u001b[38;5;241m.\u001b[39mlayers):\n\u001b[1;32m    158\u001b[0m     \u001b[38;5;28;01mif\u001b[39;00m j \u001b[38;5;241m==\u001b[39m \u001b[38;5;28mlen\u001b[39m(ae\u001b[38;5;241m.\u001b[39mencoder\u001b[38;5;241m.\u001b[39mlayers) \u001b[38;5;241m-\u001b[39m \u001b[38;5;241m1\u001b[39m:\n",
      "File \u001b[0;32m~/anaconda3/envs/chess/lib/python3.10/site-packages/keras/utils/traceback_utils.py:65\u001b[0m, in \u001b[0;36mfilter_traceback.<locals>.error_handler\u001b[0;34m(*args, **kwargs)\u001b[0m\n\u001b[1;32m     63\u001b[0m filtered_tb \u001b[38;5;241m=\u001b[39m \u001b[38;5;28;01mNone\u001b[39;00m\n\u001b[1;32m     64\u001b[0m \u001b[38;5;28;01mtry\u001b[39;00m:\n\u001b[0;32m---> 65\u001b[0m     \u001b[38;5;28;01mreturn\u001b[39;00m \u001b[43mfn\u001b[49m\u001b[43m(\u001b[49m\u001b[38;5;241;43m*\u001b[39;49m\u001b[43margs\u001b[49m\u001b[43m,\u001b[49m\u001b[43m \u001b[49m\u001b[38;5;241;43m*\u001b[39;49m\u001b[38;5;241;43m*\u001b[39;49m\u001b[43mkwargs\u001b[49m\u001b[43m)\u001b[49m\n\u001b[1;32m     66\u001b[0m \u001b[38;5;28;01mexcept\u001b[39;00m \u001b[38;5;167;01mException\u001b[39;00m \u001b[38;5;28;01mas\u001b[39;00m e:\n\u001b[1;32m     67\u001b[0m     filtered_tb \u001b[38;5;241m=\u001b[39m _process_traceback_frames(e\u001b[38;5;241m.\u001b[39m__traceback__)\n",
      "File \u001b[0;32m~/anaconda3/envs/chess/lib/python3.10/site-packages/keras/engine/training.py:1650\u001b[0m, in \u001b[0;36mModel.fit\u001b[0;34m(self, x, y, batch_size, epochs, verbose, callbacks, validation_split, validation_data, shuffle, class_weight, sample_weight, initial_epoch, steps_per_epoch, validation_steps, validation_batch_size, validation_freq, max_queue_size, workers, use_multiprocessing)\u001b[0m\n\u001b[1;32m   1642\u001b[0m \u001b[38;5;28;01mwith\u001b[39;00m tf\u001b[38;5;241m.\u001b[39mprofiler\u001b[38;5;241m.\u001b[39mexperimental\u001b[38;5;241m.\u001b[39mTrace(\n\u001b[1;32m   1643\u001b[0m     \u001b[38;5;124m\"\u001b[39m\u001b[38;5;124mtrain\u001b[39m\u001b[38;5;124m\"\u001b[39m,\n\u001b[1;32m   1644\u001b[0m     epoch_num\u001b[38;5;241m=\u001b[39mepoch,\n\u001b[0;32m   (...)\u001b[0m\n\u001b[1;32m   1647\u001b[0m     _r\u001b[38;5;241m=\u001b[39m\u001b[38;5;241m1\u001b[39m,\n\u001b[1;32m   1648\u001b[0m ):\n\u001b[1;32m   1649\u001b[0m     callbacks\u001b[38;5;241m.\u001b[39mon_train_batch_begin(step)\n\u001b[0;32m-> 1650\u001b[0m     tmp_logs \u001b[38;5;241m=\u001b[39m \u001b[38;5;28;43mself\u001b[39;49m\u001b[38;5;241;43m.\u001b[39;49m\u001b[43mtrain_function\u001b[49m\u001b[43m(\u001b[49m\u001b[43miterator\u001b[49m\u001b[43m)\u001b[49m\n\u001b[1;32m   1651\u001b[0m     \u001b[38;5;28;01mif\u001b[39;00m data_handler\u001b[38;5;241m.\u001b[39mshould_sync:\n\u001b[1;32m   1652\u001b[0m         context\u001b[38;5;241m.\u001b[39masync_wait()\n",
      "File \u001b[0;32m~/anaconda3/envs/chess/lib/python3.10/site-packages/tensorflow/python/util/traceback_utils.py:150\u001b[0m, in \u001b[0;36mfilter_traceback.<locals>.error_handler\u001b[0;34m(*args, **kwargs)\u001b[0m\n\u001b[1;32m    148\u001b[0m filtered_tb \u001b[38;5;241m=\u001b[39m \u001b[38;5;28;01mNone\u001b[39;00m\n\u001b[1;32m    149\u001b[0m \u001b[38;5;28;01mtry\u001b[39;00m:\n\u001b[0;32m--> 150\u001b[0m   \u001b[38;5;28;01mreturn\u001b[39;00m \u001b[43mfn\u001b[49m\u001b[43m(\u001b[49m\u001b[38;5;241;43m*\u001b[39;49m\u001b[43margs\u001b[49m\u001b[43m,\u001b[49m\u001b[43m \u001b[49m\u001b[38;5;241;43m*\u001b[39;49m\u001b[38;5;241;43m*\u001b[39;49m\u001b[43mkwargs\u001b[49m\u001b[43m)\u001b[49m\n\u001b[1;32m    151\u001b[0m \u001b[38;5;28;01mexcept\u001b[39;00m \u001b[38;5;167;01mException\u001b[39;00m \u001b[38;5;28;01mas\u001b[39;00m e:\n\u001b[1;32m    152\u001b[0m   filtered_tb \u001b[38;5;241m=\u001b[39m _process_traceback_frames(e\u001b[38;5;241m.\u001b[39m__traceback__)\n",
      "File \u001b[0;32m~/anaconda3/envs/chess/lib/python3.10/site-packages/tensorflow/python/eager/polymorphic_function/polymorphic_function.py:880\u001b[0m, in \u001b[0;36mFunction.__call__\u001b[0;34m(self, *args, **kwds)\u001b[0m\n\u001b[1;32m    877\u001b[0m compiler \u001b[38;5;241m=\u001b[39m \u001b[38;5;124m\"\u001b[39m\u001b[38;5;124mxla\u001b[39m\u001b[38;5;124m\"\u001b[39m \u001b[38;5;28;01mif\u001b[39;00m \u001b[38;5;28mself\u001b[39m\u001b[38;5;241m.\u001b[39m_jit_compile \u001b[38;5;28;01melse\u001b[39;00m \u001b[38;5;124m\"\u001b[39m\u001b[38;5;124mnonXla\u001b[39m\u001b[38;5;124m\"\u001b[39m\n\u001b[1;32m    879\u001b[0m \u001b[38;5;28;01mwith\u001b[39;00m OptionalXlaContext(\u001b[38;5;28mself\u001b[39m\u001b[38;5;241m.\u001b[39m_jit_compile):\n\u001b[0;32m--> 880\u001b[0m   result \u001b[38;5;241m=\u001b[39m \u001b[38;5;28;43mself\u001b[39;49m\u001b[38;5;241;43m.\u001b[39;49m\u001b[43m_call\u001b[49m\u001b[43m(\u001b[49m\u001b[38;5;241;43m*\u001b[39;49m\u001b[43margs\u001b[49m\u001b[43m,\u001b[49m\u001b[43m \u001b[49m\u001b[38;5;241;43m*\u001b[39;49m\u001b[38;5;241;43m*\u001b[39;49m\u001b[43mkwds\u001b[49m\u001b[43m)\u001b[49m\n\u001b[1;32m    882\u001b[0m new_tracing_count \u001b[38;5;241m=\u001b[39m \u001b[38;5;28mself\u001b[39m\u001b[38;5;241m.\u001b[39mexperimental_get_tracing_count()\n\u001b[1;32m    883\u001b[0m without_tracing \u001b[38;5;241m=\u001b[39m (tracing_count \u001b[38;5;241m==\u001b[39m new_tracing_count)\n",
      "File \u001b[0;32m~/anaconda3/envs/chess/lib/python3.10/site-packages/tensorflow/python/eager/polymorphic_function/polymorphic_function.py:919\u001b[0m, in \u001b[0;36mFunction._call\u001b[0;34m(self, *args, **kwds)\u001b[0m\n\u001b[1;32m    916\u001b[0m \u001b[38;5;28mself\u001b[39m\u001b[38;5;241m.\u001b[39m_lock\u001b[38;5;241m.\u001b[39mrelease()\n\u001b[1;32m    917\u001b[0m \u001b[38;5;66;03m# In this case we have not created variables on the first call. So we can\u001b[39;00m\n\u001b[1;32m    918\u001b[0m \u001b[38;5;66;03m# run the first trace but we should fail if variables are created.\u001b[39;00m\n\u001b[0;32m--> 919\u001b[0m results \u001b[38;5;241m=\u001b[39m \u001b[38;5;28;43mself\u001b[39;49m\u001b[38;5;241;43m.\u001b[39;49m\u001b[43m_variable_creation_fn\u001b[49m\u001b[43m(\u001b[49m\u001b[38;5;241;43m*\u001b[39;49m\u001b[43margs\u001b[49m\u001b[43m,\u001b[49m\u001b[43m \u001b[49m\u001b[38;5;241;43m*\u001b[39;49m\u001b[38;5;241;43m*\u001b[39;49m\u001b[43mkwds\u001b[49m\u001b[43m)\u001b[49m\n\u001b[1;32m    920\u001b[0m \u001b[38;5;28;01mif\u001b[39;00m \u001b[38;5;28mself\u001b[39m\u001b[38;5;241m.\u001b[39m_created_variables \u001b[38;5;129;01mand\u001b[39;00m \u001b[38;5;129;01mnot\u001b[39;00m ALLOW_DYNAMIC_VARIABLE_CREATION:\n\u001b[1;32m    921\u001b[0m   \u001b[38;5;28;01mraise\u001b[39;00m \u001b[38;5;167;01mValueError\u001b[39;00m(\u001b[38;5;124m\"\u001b[39m\u001b[38;5;124mCreating variables on a non-first call to a function\u001b[39m\u001b[38;5;124m\"\u001b[39m\n\u001b[1;32m    922\u001b[0m                    \u001b[38;5;124m\"\u001b[39m\u001b[38;5;124m decorated with tf.function.\u001b[39m\u001b[38;5;124m\"\u001b[39m)\n",
      "File \u001b[0;32m~/anaconda3/envs/chess/lib/python3.10/site-packages/tensorflow/python/eager/polymorphic_function/tracing_compiler.py:134\u001b[0m, in \u001b[0;36mTracingCompiler.__call__\u001b[0;34m(self, *args, **kwargs)\u001b[0m\n\u001b[1;32m    131\u001b[0m \u001b[38;5;28;01mwith\u001b[39;00m \u001b[38;5;28mself\u001b[39m\u001b[38;5;241m.\u001b[39m_lock:\n\u001b[1;32m    132\u001b[0m   (concrete_function,\n\u001b[1;32m    133\u001b[0m    filtered_flat_args) \u001b[38;5;241m=\u001b[39m \u001b[38;5;28mself\u001b[39m\u001b[38;5;241m.\u001b[39m_maybe_define_function(args, kwargs)\n\u001b[0;32m--> 134\u001b[0m \u001b[38;5;28;01mreturn\u001b[39;00m \u001b[43mconcrete_function\u001b[49m\u001b[38;5;241;43m.\u001b[39;49m\u001b[43m_call_flat\u001b[49m\u001b[43m(\u001b[49m\n\u001b[1;32m    135\u001b[0m \u001b[43m    \u001b[49m\u001b[43mfiltered_flat_args\u001b[49m\u001b[43m,\u001b[49m\u001b[43m \u001b[49m\u001b[43mcaptured_inputs\u001b[49m\u001b[38;5;241;43m=\u001b[39;49m\u001b[43mconcrete_function\u001b[49m\u001b[38;5;241;43m.\u001b[39;49m\u001b[43mcaptured_inputs\u001b[49m\u001b[43m)\u001b[49m\n",
      "File \u001b[0;32m~/anaconda3/envs/chess/lib/python3.10/site-packages/tensorflow/python/eager/polymorphic_function/monomorphic_function.py:1745\u001b[0m, in \u001b[0;36mConcreteFunction._call_flat\u001b[0;34m(self, args, captured_inputs, cancellation_manager)\u001b[0m\n\u001b[1;32m   1741\u001b[0m possible_gradient_type \u001b[38;5;241m=\u001b[39m gradients_util\u001b[38;5;241m.\u001b[39mPossibleTapeGradientTypes(args)\n\u001b[1;32m   1742\u001b[0m \u001b[38;5;28;01mif\u001b[39;00m (possible_gradient_type \u001b[38;5;241m==\u001b[39m gradients_util\u001b[38;5;241m.\u001b[39mPOSSIBLE_GRADIENT_TYPES_NONE\n\u001b[1;32m   1743\u001b[0m     \u001b[38;5;129;01mand\u001b[39;00m executing_eagerly):\n\u001b[1;32m   1744\u001b[0m   \u001b[38;5;66;03m# No tape is watching; skip to running the function.\u001b[39;00m\n\u001b[0;32m-> 1745\u001b[0m   \u001b[38;5;28;01mreturn\u001b[39;00m \u001b[38;5;28mself\u001b[39m\u001b[38;5;241m.\u001b[39m_build_call_outputs(\u001b[38;5;28;43mself\u001b[39;49m\u001b[38;5;241;43m.\u001b[39;49m\u001b[43m_inference_function\u001b[49m\u001b[38;5;241;43m.\u001b[39;49m\u001b[43mcall\u001b[49m\u001b[43m(\u001b[49m\n\u001b[1;32m   1746\u001b[0m \u001b[43m      \u001b[49m\u001b[43mctx\u001b[49m\u001b[43m,\u001b[49m\u001b[43m \u001b[49m\u001b[43margs\u001b[49m\u001b[43m,\u001b[49m\u001b[43m \u001b[49m\u001b[43mcancellation_manager\u001b[49m\u001b[38;5;241;43m=\u001b[39;49m\u001b[43mcancellation_manager\u001b[49m\u001b[43m)\u001b[49m)\n\u001b[1;32m   1747\u001b[0m forward_backward \u001b[38;5;241m=\u001b[39m \u001b[38;5;28mself\u001b[39m\u001b[38;5;241m.\u001b[39m_select_forward_and_backward_functions(\n\u001b[1;32m   1748\u001b[0m     args,\n\u001b[1;32m   1749\u001b[0m     possible_gradient_type,\n\u001b[1;32m   1750\u001b[0m     executing_eagerly)\n\u001b[1;32m   1751\u001b[0m forward_function, args_with_tangents \u001b[38;5;241m=\u001b[39m forward_backward\u001b[38;5;241m.\u001b[39mforward()\n",
      "File \u001b[0;32m~/anaconda3/envs/chess/lib/python3.10/site-packages/tensorflow/python/eager/polymorphic_function/monomorphic_function.py:378\u001b[0m, in \u001b[0;36m_EagerDefinedFunction.call\u001b[0;34m(self, ctx, args, cancellation_manager)\u001b[0m\n\u001b[1;32m    376\u001b[0m \u001b[38;5;28;01mwith\u001b[39;00m _InterpolateFunctionError(\u001b[38;5;28mself\u001b[39m):\n\u001b[1;32m    377\u001b[0m   \u001b[38;5;28;01mif\u001b[39;00m cancellation_manager \u001b[38;5;129;01mis\u001b[39;00m \u001b[38;5;28;01mNone\u001b[39;00m:\n\u001b[0;32m--> 378\u001b[0m     outputs \u001b[38;5;241m=\u001b[39m \u001b[43mexecute\u001b[49m\u001b[38;5;241;43m.\u001b[39;49m\u001b[43mexecute\u001b[49m\u001b[43m(\u001b[49m\n\u001b[1;32m    379\u001b[0m \u001b[43m        \u001b[49m\u001b[38;5;28;43mstr\u001b[39;49m\u001b[43m(\u001b[49m\u001b[38;5;28;43mself\u001b[39;49m\u001b[38;5;241;43m.\u001b[39;49m\u001b[43msignature\u001b[49m\u001b[38;5;241;43m.\u001b[39;49m\u001b[43mname\u001b[49m\u001b[43m)\u001b[49m\u001b[43m,\u001b[49m\n\u001b[1;32m    380\u001b[0m \u001b[43m        \u001b[49m\u001b[43mnum_outputs\u001b[49m\u001b[38;5;241;43m=\u001b[39;49m\u001b[38;5;28;43mself\u001b[39;49m\u001b[38;5;241;43m.\u001b[39;49m\u001b[43m_num_outputs\u001b[49m\u001b[43m,\u001b[49m\n\u001b[1;32m    381\u001b[0m \u001b[43m        \u001b[49m\u001b[43minputs\u001b[49m\u001b[38;5;241;43m=\u001b[39;49m\u001b[43margs\u001b[49m\u001b[43m,\u001b[49m\n\u001b[1;32m    382\u001b[0m \u001b[43m        \u001b[49m\u001b[43mattrs\u001b[49m\u001b[38;5;241;43m=\u001b[39;49m\u001b[43mattrs\u001b[49m\u001b[43m,\u001b[49m\n\u001b[1;32m    383\u001b[0m \u001b[43m        \u001b[49m\u001b[43mctx\u001b[49m\u001b[38;5;241;43m=\u001b[39;49m\u001b[43mctx\u001b[49m\u001b[43m)\u001b[49m\n\u001b[1;32m    384\u001b[0m   \u001b[38;5;28;01melse\u001b[39;00m:\n\u001b[1;32m    385\u001b[0m     outputs \u001b[38;5;241m=\u001b[39m execute\u001b[38;5;241m.\u001b[39mexecute_with_cancellation(\n\u001b[1;32m    386\u001b[0m         \u001b[38;5;28mstr\u001b[39m(\u001b[38;5;28mself\u001b[39m\u001b[38;5;241m.\u001b[39msignature\u001b[38;5;241m.\u001b[39mname),\n\u001b[1;32m    387\u001b[0m         num_outputs\u001b[38;5;241m=\u001b[39m\u001b[38;5;28mself\u001b[39m\u001b[38;5;241m.\u001b[39m_num_outputs,\n\u001b[0;32m   (...)\u001b[0m\n\u001b[1;32m    390\u001b[0m         ctx\u001b[38;5;241m=\u001b[39mctx,\n\u001b[1;32m    391\u001b[0m         cancellation_manager\u001b[38;5;241m=\u001b[39mcancellation_manager)\n",
      "File \u001b[0;32m~/anaconda3/envs/chess/lib/python3.10/site-packages/tensorflow/python/eager/execute.py:52\u001b[0m, in \u001b[0;36mquick_execute\u001b[0;34m(op_name, num_outputs, inputs, attrs, ctx, name)\u001b[0m\n\u001b[1;32m     50\u001b[0m \u001b[38;5;28;01mtry\u001b[39;00m:\n\u001b[1;32m     51\u001b[0m   ctx\u001b[38;5;241m.\u001b[39mensure_initialized()\n\u001b[0;32m---> 52\u001b[0m   tensors \u001b[38;5;241m=\u001b[39m \u001b[43mpywrap_tfe\u001b[49m\u001b[38;5;241;43m.\u001b[39;49m\u001b[43mTFE_Py_Execute\u001b[49m\u001b[43m(\u001b[49m\u001b[43mctx\u001b[49m\u001b[38;5;241;43m.\u001b[39;49m\u001b[43m_handle\u001b[49m\u001b[43m,\u001b[49m\u001b[43m \u001b[49m\u001b[43mdevice_name\u001b[49m\u001b[43m,\u001b[49m\u001b[43m \u001b[49m\u001b[43mop_name\u001b[49m\u001b[43m,\u001b[49m\n\u001b[1;32m     53\u001b[0m \u001b[43m                                      \u001b[49m\u001b[43minputs\u001b[49m\u001b[43m,\u001b[49m\u001b[43m \u001b[49m\u001b[43mattrs\u001b[49m\u001b[43m,\u001b[49m\u001b[43m \u001b[49m\u001b[43mnum_outputs\u001b[49m\u001b[43m)\u001b[49m\n\u001b[1;32m     54\u001b[0m \u001b[38;5;28;01mexcept\u001b[39;00m core\u001b[38;5;241m.\u001b[39m_NotOkStatusException \u001b[38;5;28;01mas\u001b[39;00m e:\n\u001b[1;32m     55\u001b[0m   \u001b[38;5;28;01mif\u001b[39;00m name \u001b[38;5;129;01mis\u001b[39;00m \u001b[38;5;129;01mnot\u001b[39;00m \u001b[38;5;28;01mNone\u001b[39;00m:\n",
      "\u001b[0;31mKeyboardInterrupt\u001b[0m: "
     ]
    }
   ],
   "source": [
    "pos2vec = cb.model.train_pos2vec(train, val)"
   ]
  },
  {
   "cell_type": "markdown",
   "id": "9ffb6409",
   "metadata": {},
   "source": [
    "## DeepChess\n",
    "The DeepChess dataset consists of 1mil position pairs randomly ordered  \n",
    "DeepChess is trained using a shared Pos2Vec instance to perform feature extraction then fed into another neural net to determine which position is best"
   ]
  },
  {
   "cell_type": "code",
   "execution_count": null,
   "id": "0a9edcf0",
   "metadata": {},
   "outputs": [],
   "source": [
    "train, val = cb.dataset.deepchess_dataset()"
   ]
  },
  {
   "cell_type": "code",
   "execution_count": null,
   "id": "cf092d00",
   "metadata": {},
   "outputs": [],
   "source": [
    "deepchess = cb.model.train_deepchess(train, val)"
   ]
  },
  {
   "cell_type": "markdown",
   "id": "17a66f82",
   "metadata": {},
   "source": [
    "## Evaluation"
   ]
  },
  {
   "cell_type": "code",
   "execution_count": null,
   "id": "87064140",
   "metadata": {},
   "outputs": [],
   "source": [
    "deepchess = cb.model.get_deepchess()\n",
    "deepchess.evaluate(train)"
   ]
  },
  {
   "cell_type": "code",
   "execution_count": null,
   "id": "87c3930b",
   "metadata": {},
   "outputs": [],
   "source": [
    "deepchess.deepchess.summary()"
   ]
  },
  {
   "cell_type": "markdown",
   "id": "be153caa",
   "metadata": {},
   "source": [
    "## Engine"
   ]
  },
  {
   "cell_type": "code",
   "execution_count": null,
   "id": "48f516c6",
   "metadata": {},
   "outputs": [],
   "source": [
    "engine = cb.engine.Engine(True)"
   ]
  },
  {
   "cell_type": "markdown",
   "id": "20395b5d",
   "metadata": {},
   "source": [
    "## Play"
   ]
  },
  {
   "cell_type": "code",
   "execution_count": null,
   "id": "5d3233cc",
   "metadata": {},
   "outputs": [],
   "source": [
    "from IPython.display import SVG, display, clear_output\n",
    "import chess\n",
    "\n",
    "PLAY_WHITE = True\n",
    "\n",
    "engine = cb.engine.Engine(not PLAY_WHITE)\n",
    "player_turn = not engine.play_white\n",
    "\n",
    "while not engine.board.is_game_over():\n",
    "    display(SVG(chess.svg.board(engine.board, orientation=not engine.play_white, size=500)))\n",
    "\n",
    "    if player_turn:\n",
    "        move = chess.Move.from_uci(input(\"Enter a move: \"))\n",
    "    else:\n",
    "        print(\"Computer calculating...\")\n",
    "        move = engine.calculate_move()\n",
    "\n",
    "    clear_output(wait=False)\n",
    "\n",
    "    if not engine.board.is_legal(move):\n",
    "        continue\n",
    "\n",
    "    player_turn = not player_turn\n",
    "    engine.board.push(move)\n",
    "\n",
    "display(SVG(chess.svg.board(engine.board, orientation=not engine.play_white, size=500)))\n",
    "engine.board.outcome()"
   ]
  },
  {
   "cell_type": "markdown",
   "id": "2e135bae",
   "metadata": {
    "pycharm": {
     "name": "#%% md\n"
    }
   },
   "source": [
    "## Sandbox"
   ]
  },
  {
   "cell_type": "code",
   "execution_count": null,
   "id": "6dae5c79",
   "metadata": {},
   "outputs": [],
   "source": [
    "board = chess.Board()\n",
    "print(board.pieces(chess.WHITE, chess.PAWN).tolist())"
   ]
  },
  {
   "cell_type": "code",
   "execution_count": null,
   "id": "fab0fd75",
   "metadata": {},
   "outputs": [],
   "source": [
    "train, val = cb.dataset.deepchess_dataset()"
   ]
  },
  {
   "cell_type": "code",
   "execution_count": null,
   "id": "62cc938b",
   "metadata": {},
   "outputs": [],
   "source": [
    "deepchess = cb.model.get_deepchess()\n",
    "deepchess.evaluate(train)"
   ]
  },
  {
   "cell_type": "code",
   "execution_count": null,
   "id": "6c16ba8c",
   "metadata": {},
   "outputs": [],
   "source": [
    "deepchess.metrics"
   ]
  },
  {
   "cell_type": "code",
   "execution_count": null,
   "id": "2d3bae3e",
   "metadata": {},
   "outputs": [],
   "source": [
    "# [1.2469837665557861, 0.6108400225639343]"
   ]
  }
 ],
 "metadata": {
  "kernelspec": {
   "display_name": "Python 3 (ipykernel)",
   "language": "python",
   "name": "python3"
  },
  "language_info": {
   "codemirror_mode": {
    "name": "ipython",
    "version": 3
   },
   "file_extension": ".py",
   "mimetype": "text/x-python",
   "name": "python",
   "nbconvert_exporter": "python",
   "pygments_lexer": "ipython3",
   "version": "3.10.4"
  }
 },
 "nbformat": 4,
 "nbformat_minor": 5
}
