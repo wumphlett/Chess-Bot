{
 "cells": [
  {
   "cell_type": "markdown",
   "id": "e1a0d866",
   "metadata": {
    "pycharm": {
     "name": "#%% md\n"
    }
   },
   "source": [
    "# Chess-Bot\n",
    "An implementation of DeepChess (paper in `docs/deepchess.pdf`) and its use in a chess engine\n",
    "### Differences from the original DeepChess:\n",
    "- Training of the Autoencoder uses BinaryCrossentropy as its loss function. It's unclear what is used in the paper, but I suspect MSE\n",
    "- LeakyReLU instead of ReLU?"
   ]
  },
  {
   "cell_type": "markdown",
   "id": "39990c9e",
   "metadata": {
    "pycharm": {
     "name": "#%% md\n"
    }
   },
   "source": [
    "## Setup"
   ]
  },
  {
   "cell_type": "code",
   "execution_count": 1,
   "id": "44dfb777",
   "metadata": {
    "pycharm": {
     "name": "#%%\n"
    }
   },
   "outputs": [],
   "source": [
    "%load_ext autoreload\n",
    "%autoreload 2\n",
    "\n",
    "import chessbot as cb"
   ]
  },
  {
   "cell_type": "markdown",
   "id": "e0d6da87",
   "metadata": {},
   "source": [
    "## Environment\n",
    "Downloads, unpacks, processes, and splits training data  \n",
    "Should this break, go to http://ccrl.chessdom.com/ccrl/4040/games.html and replace the variable in `chessbot/environment.py` with the updated no-comments game link"
   ]
  },
  {
   "cell_type": "code",
   "execution_count": 2,
   "id": "bc6accdc",
   "metadata": {
    "pycharm": {
     "name": "#%%\n"
    },
    "scrolled": false
   },
   "outputs": [
    {
     "name": "stdout",
     "output_type": "stream",
     "text": [
      "Dataset archive file found at /home/wumphlett/personal/Chess-Bot/data/CCRL-4040.[1505357].pgn.7z\n",
      "Dataset file found at /home/wumphlett/personal/Chess-Bot/data/CCRL-4040.[1505357].pgn\n",
      "Dataset pkl files found at /home/wumphlett/personal/Chess-Bot/data\n",
      "Dataset val pkl files found at /home/wumphlett/personal/Chess-Bot/data\n",
      "Done\n"
     ]
    }
   ],
   "source": [
    "cb.environment.create()"
   ]
  },
  {
   "cell_type": "markdown",
   "id": "0ff71152",
   "metadata": {},
   "source": [
    "## Pos2Vec\n",
    "The Pos2Vec dataset consists of 1mil positions each from white won and black won games  \n",
    "Pos2Vec is trained using a greedy layer-by-layer strategy of an unsupervised autoencoder"
   ]
  },
  {
   "cell_type": "code",
   "execution_count": 3,
   "id": "55e34049",
   "metadata": {},
   "outputs": [],
   "source": [
    "train, val = cb.dataset.pos2vec_dataset()"
   ]
  },
  {
   "cell_type": "code",
   "execution_count": 4,
   "id": "94862d50",
   "metadata": {},
   "outputs": [
    {
     "name": "stdout",
     "output_type": "stream",
     "text": [
      "Training layer 1/4\n",
      "Epoch 1/50\n",
      "40000/40000 [==============================] - 73s 2ms/step - loss: 0.2071 - val_loss: 0.0968 - lr: 0.0050\n",
      "Epoch 2/50\n",
      "40000/40000 [==============================] - 76s 2ms/step - loss: 0.0934 - val_loss: 0.0904 - lr: 0.0049\n",
      "Epoch 3/50\n",
      "40000/40000 [==============================] - 75s 2ms/step - loss: 0.0877 - val_loss: 0.0852 - lr: 0.0048\n",
      "Epoch 4/50\n",
      "40000/40000 [==============================] - 75s 2ms/step - loss: 0.0834 - val_loss: 0.0819 - lr: 0.0047\n",
      "Epoch 5/50\n",
      "40000/40000 [==============================] - 73s 2ms/step - loss: 0.0808 - val_loss: 0.0798 - lr: 0.0046\n",
      "Epoch 6/50\n",
      "40000/40000 [==============================] - 75s 2ms/step - loss: 0.0790 - val_loss: 0.0781 - lr: 0.0045\n",
      "Epoch 7/50\n",
      "40000/40000 [==============================] - 74s 2ms/step - loss: 0.0773 - val_loss: 0.0766 - lr: 0.0044\n",
      "Epoch 8/50\n",
      "40000/40000 [==============================] - 75s 2ms/step - loss: 0.0758 - val_loss: 0.0750 - lr: 0.0043\n",
      "Epoch 9/50\n",
      "40000/40000 [==============================] - 74s 2ms/step - loss: 0.0743 - val_loss: 0.0735 - lr: 0.0043\n",
      "Epoch 10/50\n",
      "40000/40000 [==============================] - 74s 2ms/step - loss: 0.0728 - val_loss: 0.0721 - lr: 0.0042\n",
      "Epoch 11/50\n",
      "40000/40000 [==============================] - 75s 2ms/step - loss: 0.0714 - val_loss: 0.0707 - lr: 0.0041\n",
      "Epoch 12/50\n",
      "40000/40000 [==============================] - 73s 2ms/step - loss: 0.0700 - val_loss: 0.0694 - lr: 0.0040\n",
      "Epoch 13/50\n",
      "40000/40000 [==============================] - 75s 2ms/step - loss: 0.0687 - val_loss: 0.0681 - lr: 0.0039\n",
      "Epoch 14/50\n",
      "40000/40000 [==============================] - 74s 2ms/step - loss: 0.0674 - val_loss: 0.0668 - lr: 0.0038\n",
      "Epoch 15/50\n",
      "40000/40000 [==============================] - 76s 2ms/step - loss: 0.0662 - val_loss: 0.0657 - lr: 0.0038\n",
      "Epoch 16/50\n",
      "40000/40000 [==============================] - 74s 2ms/step - loss: 0.0651 - val_loss: 0.0645 - lr: 0.0037\n",
      "Epoch 17/50\n",
      "40000/40000 [==============================] - 74s 2ms/step - loss: 0.0640 - val_loss: 0.0634 - lr: 0.0036\n",
      "Epoch 18/50\n",
      "40000/40000 [==============================] - 75s 2ms/step - loss: 0.0629 - val_loss: 0.0624 - lr: 0.0035\n",
      "Epoch 19/50\n",
      "40000/40000 [==============================] - 75s 2ms/step - loss: 0.0619 - val_loss: 0.0614 - lr: 0.0035\n",
      "Epoch 20/50\n",
      "40000/40000 [==============================] - 76s 2ms/step - loss: 0.0609 - val_loss: 0.0604 - lr: 0.0034\n",
      "Epoch 21/50\n",
      "40000/40000 [==============================] - 76s 2ms/step - loss: 0.0599 - val_loss: 0.0595 - lr: 0.0033\n",
      "Epoch 22/50\n",
      "40000/40000 [==============================] - 76s 2ms/step - loss: 0.0591 - val_loss: 0.0586 - lr: 0.0033\n",
      "Epoch 23/50\n",
      "40000/40000 [==============================] - 74s 2ms/step - loss: 0.0582 - val_loss: 0.0578 - lr: 0.0032\n",
      "Epoch 24/50\n",
      "40000/40000 [==============================] - 76s 2ms/step - loss: 0.0574 - val_loss: 0.0570 - lr: 0.0031\n",
      "Epoch 25/50\n",
      "40000/40000 [==============================] - 75s 2ms/step - loss: 0.0566 - val_loss: 0.0563 - lr: 0.0031\n",
      "Epoch 26/50\n",
      "40000/40000 [==============================] - 75s 2ms/step - loss: 0.0559 - val_loss: 0.0556 - lr: 0.0030\n",
      "Epoch 27/50\n",
      "40000/40000 [==============================] - 76s 2ms/step - loss: 0.0552 - val_loss: 0.0549 - lr: 0.0030\n",
      "Epoch 28/50\n",
      "40000/40000 [==============================] - 75s 2ms/step - loss: 0.0545 - val_loss: 0.0542 - lr: 0.0029\n",
      "Epoch 29/50\n",
      "40000/40000 [==============================] - 75s 2ms/step - loss: 0.0539 - val_loss: 0.0536 - lr: 0.0028\n",
      "Epoch 30/50\n",
      "40000/40000 [==============================] - 77s 2ms/step - loss: 0.0533 - val_loss: 0.0530 - lr: 0.0028\n",
      "Epoch 31/50\n",
      "40000/40000 [==============================] - 76s 2ms/step - loss: 0.0527 - val_loss: 0.0525 - lr: 0.0027\n",
      "Epoch 32/50\n",
      "40000/40000 [==============================] - 74s 2ms/step - loss: 0.0522 - val_loss: 0.0519 - lr: 0.0027\n",
      "Epoch 33/50\n",
      "40000/40000 [==============================] - 76s 2ms/step - loss: 0.0516 - val_loss: 0.0514 - lr: 0.0026\n",
      "Epoch 34/50\n",
      "40000/40000 [==============================] - 73s 2ms/step - loss: 0.0511 - val_loss: 0.0509 - lr: 0.0026\n",
      "Epoch 35/50\n",
      "40000/40000 [==============================] - 73s 2ms/step - loss: 0.0507 - val_loss: 0.0504 - lr: 0.0025\n",
      "Epoch 36/50\n",
      "40000/40000 [==============================] - 73s 2ms/step - loss: 0.0502 - val_loss: 0.0500 - lr: 0.0025\n",
      "Epoch 37/50\n",
      "40000/40000 [==============================] - 74s 2ms/step - loss: 0.0498 - val_loss: 0.0496 - lr: 0.0024\n",
      "Epoch 38/50\n",
      "40000/40000 [==============================] - 73s 2ms/step - loss: 0.0493 - val_loss: 0.0491 - lr: 0.0024\n",
      "Epoch 39/50\n",
      "40000/40000 [==============================] - 74s 2ms/step - loss: 0.0489 - val_loss: 0.0487 - lr: 0.0023\n",
      "Epoch 40/50\n",
      "40000/40000 [==============================] - 75s 2ms/step - loss: 0.0485 - val_loss: 0.0484 - lr: 0.0023\n",
      "Epoch 41/50\n",
      "40000/40000 [==============================] - 74s 2ms/step - loss: 0.0482 - val_loss: 0.0480 - lr: 0.0022\n",
      "Epoch 42/50\n",
      "40000/40000 [==============================] - 72s 2ms/step - loss: 0.0478 - val_loss: 0.0476 - lr: 0.0022\n",
      "Epoch 43/50\n",
      "40000/40000 [==============================] - 72s 2ms/step - loss: 0.0475 - val_loss: 0.0473 - lr: 0.0021\n",
      "Epoch 44/50\n",
      "40000/40000 [==============================] - 73s 2ms/step - loss: 0.0471 - val_loss: 0.0470 - lr: 0.0021\n",
      "Epoch 45/50\n",
      "40000/40000 [==============================] - 73s 2ms/step - loss: 0.0468 - val_loss: 0.0467 - lr: 0.0021\n",
      "Epoch 46/50\n",
      "40000/40000 [==============================] - 73s 2ms/step - loss: 0.0465 - val_loss: 0.0464 - lr: 0.0020\n",
      "Epoch 47/50\n",
      "40000/40000 [==============================] - 73s 2ms/step - loss: 0.0462 - val_loss: 0.0461 - lr: 0.0020\n",
      "Epoch 48/50\n",
      "40000/40000 [==============================] - 73s 2ms/step - loss: 0.0459 - val_loss: 0.0458 - lr: 0.0019\n",
      "Epoch 49/50\n",
      "40000/40000 [==============================] - 73s 2ms/step - loss: 0.0456 - val_loss: 0.0455 - lr: 0.0019\n",
      "Epoch 50/50\n",
      "40000/40000 [==============================] - 73s 2ms/step - loss: 0.0454 - val_loss: 0.0452 - lr: 0.0019\n",
      "Training layer 2/4\n",
      "Epoch 1/50\n",
      "40000/40000 [==============================] - 77s 2ms/step - loss: 0.0777 - val_loss: 0.0686 - lr: 0.0050\n",
      "Epoch 2/50\n",
      "40000/40000 [==============================] - 76s 2ms/step - loss: 0.0653 - val_loss: 0.0628 - lr: 0.0049\n",
      "Epoch 3/50\n",
      "40000/40000 [==============================] - 78s 2ms/step - loss: 0.0610 - val_loss: 0.0595 - lr: 0.0048\n",
      "Epoch 4/50\n",
      "40000/40000 [==============================] - 75s 2ms/step - loss: 0.0584 - val_loss: 0.0574 - lr: 0.0047\n",
      "Epoch 5/50\n",
      "40000/40000 [==============================] - 75s 2ms/step - loss: 0.0566 - val_loss: 0.0559 - lr: 0.0046\n",
      "Epoch 6/50\n",
      "40000/40000 [==============================] - 77s 2ms/step - loss: 0.0552 - val_loss: 0.0546 - lr: 0.0045\n",
      "Epoch 7/50\n",
      "40000/40000 [==============================] - 77s 2ms/step - loss: 0.0541 - val_loss: 0.0537 - lr: 0.0044\n",
      "Epoch 8/50\n",
      "40000/40000 [==============================] - 75s 2ms/step - loss: 0.0532 - val_loss: 0.0529 - lr: 0.0043\n",
      "Epoch 9/50\n",
      "40000/40000 [==============================] - 77s 2ms/step - loss: 0.0525 - val_loss: 0.0521 - lr: 0.0043\n",
      "Epoch 10/50\n",
      "40000/40000 [==============================] - 77s 2ms/step - loss: 0.0517 - val_loss: 0.0514 - lr: 0.0042\n",
      "Epoch 11/50\n",
      "40000/40000 [==============================] - 77s 2ms/step - loss: 0.0511 - val_loss: 0.0508 - lr: 0.0041\n",
      "Epoch 12/50\n",
      "40000/40000 [==============================] - 75s 2ms/step - loss: 0.0506 - val_loss: 0.0504 - lr: 0.0040\n",
      "Epoch 13/50\n",
      "40000/40000 [==============================] - 76s 2ms/step - loss: 0.0500 - val_loss: 0.0498 - lr: 0.0039\n",
      "Epoch 14/50\n",
      "40000/40000 [==============================] - 76s 2ms/step - loss: 0.0495 - val_loss: 0.0493 - lr: 0.0038\n",
      "Epoch 15/50\n",
      "40000/40000 [==============================] - 77s 2ms/step - loss: 0.0491 - val_loss: 0.0489 - lr: 0.0038\n",
      "Epoch 16/50\n",
      "40000/40000 [==============================] - 76s 2ms/step - loss: 0.0487 - val_loss: 0.0486 - lr: 0.0037\n",
      "Epoch 17/50\n",
      "40000/40000 [==============================] - 76s 2ms/step - loss: 0.0484 - val_loss: 0.0482 - lr: 0.0036\n",
      "Epoch 18/50\n",
      "40000/40000 [==============================] - 76s 2ms/step - loss: 0.0480 - val_loss: 0.0479 - lr: 0.0035\n",
      "Epoch 19/50\n"
     ]
    },
    {
     "name": "stdout",
     "output_type": "stream",
     "text": [
      "40000/40000 [==============================] - 76s 2ms/step - loss: 0.0477 - val_loss: 0.0475 - lr: 0.0035\n",
      "Epoch 20/50\n",
      "40000/40000 [==============================] - 76s 2ms/step - loss: 0.0474 - val_loss: 0.0473 - lr: 0.0034\n",
      "Epoch 21/50\n",
      "40000/40000 [==============================] - 75s 2ms/step - loss: 0.0471 - val_loss: 0.0470 - lr: 0.0033\n",
      "Epoch 22/50\n",
      "40000/40000 [==============================] - 76s 2ms/step - loss: 0.0468 - val_loss: 0.0467 - lr: 0.0033\n",
      "Epoch 23/50\n",
      "40000/40000 [==============================] - 76s 2ms/step - loss: 0.0466 - val_loss: 0.0464 - lr: 0.0032\n",
      "Epoch 24/50\n",
      "40000/40000 [==============================] - 75s 2ms/step - loss: 0.0463 - val_loss: 0.0462 - lr: 0.0031\n",
      "Epoch 25/50\n",
      "40000/40000 [==============================] - 76s 2ms/step - loss: 0.0460 - val_loss: 0.0459 - lr: 0.0031\n",
      "Epoch 26/50\n",
      "40000/40000 [==============================] - 76s 2ms/step - loss: 0.0458 - val_loss: 0.0457 - lr: 0.0030\n",
      "Epoch 27/50\n",
      "40000/40000 [==============================] - 76s 2ms/step - loss: 0.0456 - val_loss: 0.0455 - lr: 0.0030\n",
      "Epoch 28/50\n",
      "40000/40000 [==============================] - 76s 2ms/step - loss: 0.0454 - val_loss: 0.0453 - lr: 0.0029\n",
      "Epoch 29/50\n",
      "40000/40000 [==============================] - 76s 2ms/step - loss: 0.0452 - val_loss: 0.0451 - lr: 0.0028\n",
      "Epoch 30/50\n",
      "40000/40000 [==============================] - 75s 2ms/step - loss: 0.0450 - val_loss: 0.0449 - lr: 0.0028\n",
      "Epoch 31/50\n",
      "40000/40000 [==============================] - 77s 2ms/step - loss: 0.0448 - val_loss: 0.0447 - lr: 0.0027\n",
      "Epoch 32/50\n",
      "40000/40000 [==============================] - 76s 2ms/step - loss: 0.0446 - val_loss: 0.0445 - lr: 0.0027\n",
      "Epoch 33/50\n",
      "40000/40000 [==============================] - 75s 2ms/step - loss: 0.0445 - val_loss: 0.0444 - lr: 0.0026\n",
      "Epoch 34/50\n",
      "40000/40000 [==============================] - 77s 2ms/step - loss: 0.0443 - val_loss: 0.0442 - lr: 0.0026\n",
      "Epoch 35/50\n",
      "40000/40000 [==============================] - 76s 2ms/step - loss: 0.0441 - val_loss: 0.0440 - lr: 0.0025\n",
      "Epoch 36/50\n",
      "40000/40000 [==============================] - 78s 2ms/step - loss: 0.0440 - val_loss: 0.0439 - lr: 0.0025\n",
      "Epoch 37/50\n",
      "40000/40000 [==============================] - 77s 2ms/step - loss: 0.0438 - val_loss: 0.0438 - lr: 0.0024\n",
      "Epoch 38/50\n",
      "40000/40000 [==============================] - 75s 2ms/step - loss: 0.0437 - val_loss: 0.0436 - lr: 0.0024\n",
      "Epoch 39/50\n",
      "40000/40000 [==============================] - 75s 2ms/step - loss: 0.0436 - val_loss: 0.0435 - lr: 0.0023\n",
      "Epoch 40/50\n",
      "40000/40000 [==============================] - 77s 2ms/step - loss: 0.0434 - val_loss: 0.0434 - lr: 0.0023\n",
      "Epoch 41/50\n",
      "40000/40000 [==============================] - 75s 2ms/step - loss: 0.0433 - val_loss: 0.0433 - lr: 0.0022\n",
      "Epoch 42/50\n",
      "40000/40000 [==============================] - 75s 2ms/step - loss: 0.0432 - val_loss: 0.0431 - lr: 0.0022\n",
      "Epoch 43/50\n",
      "40000/40000 [==============================] - 77s 2ms/step - loss: 0.0431 - val_loss: 0.0430 - lr: 0.0021\n",
      "Epoch 44/50\n",
      "40000/40000 [==============================] - 76s 2ms/step - loss: 0.0430 - val_loss: 0.0429 - lr: 0.0021\n",
      "Epoch 45/50\n",
      "40000/40000 [==============================] - 75s 2ms/step - loss: 0.0429 - val_loss: 0.0428 - lr: 0.0021\n",
      "Epoch 46/50\n",
      "40000/40000 [==============================] - 76s 2ms/step - loss: 0.0428 - val_loss: 0.0427 - lr: 0.0020\n",
      "Epoch 47/50\n",
      "40000/40000 [==============================] - 75s 2ms/step - loss: 0.0427 - val_loss: 0.0426 - lr: 0.0020\n",
      "Epoch 48/50\n",
      "40000/40000 [==============================] - 75s 2ms/step - loss: 0.0426 - val_loss: 0.0425 - lr: 0.0019\n",
      "Epoch 49/50\n",
      "40000/40000 [==============================] - 76s 2ms/step - loss: 0.0425 - val_loss: 0.0424 - lr: 0.0019\n",
      "Epoch 50/50\n",
      "40000/40000 [==============================] - 74s 2ms/step - loss: 0.0424 - val_loss: 0.0423 - lr: 0.0019\n",
      "Training layer 3/4\n",
      "Epoch 1/50\n",
      "40000/40000 [==============================] - 78s 2ms/step - loss: 0.0749 - val_loss: 0.0650 - lr: 0.0050\n",
      "Epoch 2/50\n",
      "40000/40000 [==============================] - 78s 2ms/step - loss: 0.0613 - val_loss: 0.0586 - lr: 0.0049\n",
      "Epoch 3/50\n",
      "40000/40000 [==============================] - 77s 2ms/step - loss: 0.0568 - val_loss: 0.0553 - lr: 0.0048\n",
      "Epoch 4/50\n",
      "40000/40000 [==============================] - 77s 2ms/step - loss: 0.0543 - val_loss: 0.0534 - lr: 0.0047\n",
      "Epoch 5/50\n",
      "40000/40000 [==============================] - 77s 2ms/step - loss: 0.0526 - val_loss: 0.0520 - lr: 0.0046\n",
      "Epoch 6/50\n",
      "40000/40000 [==============================] - 77s 2ms/step - loss: 0.0514 - val_loss: 0.0509 - lr: 0.0045\n",
      "Epoch 7/50\n",
      "40000/40000 [==============================] - 77s 2ms/step - loss: 0.0505 - val_loss: 0.0501 - lr: 0.0044\n",
      "Epoch 8/50\n",
      "40000/40000 [==============================] - 80s 2ms/step - loss: 0.0498 - val_loss: 0.0495 - lr: 0.0043\n",
      "Epoch 9/50\n",
      "40000/40000 [==============================] - 78s 2ms/step - loss: 0.0492 - val_loss: 0.0490 - lr: 0.0043\n",
      "Epoch 10/50\n",
      "40000/40000 [==============================] - 76s 2ms/step - loss: 0.0488 - val_loss: 0.0486 - lr: 0.0042\n",
      "Epoch 11/50\n",
      "40000/40000 [==============================] - 76s 2ms/step - loss: 0.0484 - val_loss: 0.0482 - lr: 0.0041\n",
      "Epoch 12/50\n",
      "40000/40000 [==============================] - 78s 2ms/step - loss: 0.0480 - val_loss: 0.0479 - lr: 0.0040\n",
      "Epoch 13/50\n",
      "40000/40000 [==============================] - 77s 2ms/step - loss: 0.0477 - val_loss: 0.0476 - lr: 0.0039\n",
      "Epoch 14/50\n",
      "40000/40000 [==============================] - 77s 2ms/step - loss: 0.0475 - val_loss: 0.0474 - lr: 0.0038\n",
      "Epoch 15/50\n",
      "40000/40000 [==============================] - 79s 2ms/step - loss: 0.0472 - val_loss: 0.0471 - lr: 0.0038\n",
      "Epoch 16/50\n",
      "40000/40000 [==============================] - 77s 2ms/step - loss: 0.0470 - val_loss: 0.0469 - lr: 0.0037\n",
      "Epoch 17/50\n",
      "40000/40000 [==============================] - 77s 2ms/step - loss: 0.0468 - val_loss: 0.0467 - lr: 0.0036\n",
      "Epoch 18/50\n",
      "40000/40000 [==============================] - 78s 2ms/step - loss: 0.0466 - val_loss: 0.0465 - lr: 0.0035\n",
      "Epoch 19/50\n",
      "40000/40000 [==============================] - 76s 2ms/step - loss: 0.0464 - val_loss: 0.0463 - lr: 0.0035\n",
      "Epoch 20/50\n",
      "40000/40000 [==============================] - 77s 2ms/step - loss: 0.0462 - val_loss: 0.0462 - lr: 0.0034\n",
      "Epoch 21/50\n",
      "40000/40000 [==============================] - 78s 2ms/step - loss: 0.0461 - val_loss: 0.0460 - lr: 0.0033\n",
      "Epoch 22/50\n",
      "40000/40000 [==============================] - 77s 2ms/step - loss: 0.0460 - val_loss: 0.0459 - lr: 0.0033\n",
      "Epoch 23/50\n",
      "40000/40000 [==============================] - 76s 2ms/step - loss: 0.0458 - val_loss: 0.0458 - lr: 0.0032\n",
      "Epoch 24/50\n",
      "40000/40000 [==============================] - 78s 2ms/step - loss: 0.0457 - val_loss: 0.0457 - lr: 0.0031\n",
      "Epoch 25/50\n",
      "40000/40000 [==============================] - 77s 2ms/step - loss: 0.0456 - val_loss: 0.0455 - lr: 0.0031\n",
      "Epoch 26/50\n",
      "40000/40000 [==============================] - 76s 2ms/step - loss: 0.0455 - val_loss: 0.0454 - lr: 0.0030\n",
      "Epoch 27/50\n",
      "40000/40000 [==============================] - 78s 2ms/step - loss: 0.0454 - val_loss: 0.0453 - lr: 0.0030\n",
      "Epoch 28/50\n",
      "40000/40000 [==============================] - 77s 2ms/step - loss: 0.0453 - val_loss: 0.0452 - lr: 0.0029\n",
      "Epoch 29/50\n",
      "40000/40000 [==============================] - 77s 2ms/step - loss: 0.0452 - val_loss: 0.0452 - lr: 0.0028\n",
      "Epoch 30/50\n",
      "40000/40000 [==============================] - 79s 2ms/step - loss: 0.0451 - val_loss: 0.0451 - lr: 0.0028\n",
      "Epoch 31/50\n",
      "40000/40000 [==============================] - 76s 2ms/step - loss: 0.0450 - val_loss: 0.0450 - lr: 0.0027\n",
      "Epoch 32/50\n",
      "40000/40000 [==============================] - 76s 2ms/step - loss: 0.0449 - val_loss: 0.0449 - lr: 0.0027\n",
      "Epoch 33/50\n",
      "40000/40000 [==============================] - 79s 2ms/step - loss: 0.0449 - val_loss: 0.0448 - lr: 0.0026\n",
      "Epoch 34/50\n",
      "40000/40000 [==============================] - 76s 2ms/step - loss: 0.0448 - val_loss: 0.0448 - lr: 0.0026\n",
      "Epoch 35/50\n",
      "40000/40000 [==============================] - 77s 2ms/step - loss: 0.0447 - val_loss: 0.0447 - lr: 0.0025\n",
      "Epoch 36/50\n",
      "40000/40000 [==============================] - 79s 2ms/step - loss: 0.0447 - val_loss: 0.0446 - lr: 0.0025\n",
      "Epoch 37/50\n",
      "40000/40000 [==============================] - 77s 2ms/step - loss: 0.0446 - val_loss: 0.0446 - lr: 0.0024\n"
     ]
    },
    {
     "name": "stdout",
     "output_type": "stream",
     "text": [
      "Epoch 38/50\n",
      "40000/40000 [==============================] - 76s 2ms/step - loss: 0.0445 - val_loss: 0.0445 - lr: 0.0024\n",
      "Epoch 39/50\n",
      "40000/40000 [==============================] - 78s 2ms/step - loss: 0.0445 - val_loss: 0.0444 - lr: 0.0023\n",
      "Epoch 40/50\n",
      "40000/40000 [==============================] - 77s 2ms/step - loss: 0.0444 - val_loss: 0.0444 - lr: 0.0023\n",
      "Epoch 41/50\n",
      "40000/40000 [==============================] - 77s 2ms/step - loss: 0.0444 - val_loss: 0.0443 - lr: 0.0022\n",
      "Epoch 42/50\n",
      "40000/40000 [==============================] - 79s 2ms/step - loss: 0.0443 - val_loss: 0.0443 - lr: 0.0022\n",
      "Epoch 43/50\n",
      "40000/40000 [==============================] - 77s 2ms/step - loss: 0.0442 - val_loss: 0.0442 - lr: 0.0021\n",
      "Epoch 44/50\n",
      "40000/40000 [==============================] - 77s 2ms/step - loss: 0.0442 - val_loss: 0.0442 - lr: 0.0021\n",
      "Epoch 45/50\n",
      "40000/40000 [==============================] - 79s 2ms/step - loss: 0.0441 - val_loss: 0.0441 - lr: 0.0021\n",
      "Epoch 46/50\n",
      "40000/40000 [==============================] - 76s 2ms/step - loss: 0.0441 - val_loss: 0.0441 - lr: 0.0020\n",
      "Epoch 47/50\n",
      "40000/40000 [==============================] - 76s 2ms/step - loss: 0.0441 - val_loss: 0.0440 - lr: 0.0020\n",
      "Epoch 48/50\n",
      "40000/40000 [==============================] - 78s 2ms/step - loss: 0.0440 - val_loss: 0.0440 - lr: 0.0019\n",
      "Epoch 49/50\n",
      "40000/40000 [==============================] - 77s 2ms/step - loss: 0.0440 - val_loss: 0.0440 - lr: 0.0019\n",
      "Epoch 50/50\n",
      "40000/40000 [==============================] - 76s 2ms/step - loss: 0.0439 - val_loss: 0.0439 - lr: 0.0019\n",
      "Training layer 4/4\n",
      "Epoch 1/50\n",
      "40000/40000 [==============================] - 83s 2ms/step - loss: 0.0858 - val_loss: 0.0750 - lr: 0.0050\n",
      "Epoch 2/50\n",
      "40000/40000 [==============================] - 81s 2ms/step - loss: 0.0706 - val_loss: 0.0672 - lr: 0.0049\n",
      "Epoch 3/50\n",
      "40000/40000 [==============================] - 81s 2ms/step - loss: 0.0651 - val_loss: 0.0632 - lr: 0.0048\n",
      "Epoch 4/50\n",
      "40000/40000 [==============================] - 83s 2ms/step - loss: 0.0618 - val_loss: 0.0605 - lr: 0.0047\n",
      "Epoch 5/50\n",
      "40000/40000 [==============================] - 81s 2ms/step - loss: 0.0596 - val_loss: 0.0587 - lr: 0.0046\n",
      "Epoch 6/50\n",
      "40000/40000 [==============================] - 80s 2ms/step - loss: 0.0579 - val_loss: 0.0573 - lr: 0.0045\n",
      "Epoch 7/50\n",
      "40000/40000 [==============================] - 83s 2ms/step - loss: 0.0567 - val_loss: 0.0561 - lr: 0.0044\n",
      "Epoch 8/50\n",
      "40000/40000 [==============================] - 80s 2ms/step - loss: 0.0557 - val_loss: 0.0553 - lr: 0.0043\n",
      "Epoch 9/50\n",
      "40000/40000 [==============================] - 80s 2ms/step - loss: 0.0550 - val_loss: 0.0546 - lr: 0.0043\n",
      "Epoch 10/50\n",
      "40000/40000 [==============================] - 82s 2ms/step - loss: 0.0544 - val_loss: 0.0541 - lr: 0.0042\n",
      "Epoch 11/50\n",
      "40000/40000 [==============================] - 81s 2ms/step - loss: 0.0539 - val_loss: 0.0537 - lr: 0.0041\n",
      "Epoch 12/50\n",
      "40000/40000 [==============================] - 81s 2ms/step - loss: 0.0535 - val_loss: 0.0533 - lr: 0.0040\n",
      "Epoch 13/50\n",
      "40000/40000 [==============================] - 81s 2ms/step - loss: 0.0532 - val_loss: 0.0530 - lr: 0.0039\n",
      "Epoch 14/50\n",
      "40000/40000 [==============================] - 81s 2ms/step - loss: 0.0529 - val_loss: 0.0528 - lr: 0.0038\n",
      "Epoch 15/50\n",
      "40000/40000 [==============================] - 81s 2ms/step - loss: 0.0527 - val_loss: 0.0526 - lr: 0.0038\n",
      "Epoch 16/50\n",
      "40000/40000 [==============================] - 83s 2ms/step - loss: 0.0525 - val_loss: 0.0524 - lr: 0.0037\n",
      "Epoch 17/50\n",
      "40000/40000 [==============================] - 82s 2ms/step - loss: 0.0524 - val_loss: 0.0523 - lr: 0.0036\n",
      "Epoch 18/50\n",
      "40000/40000 [==============================] - 80s 2ms/step - loss: 0.0522 - val_loss: 0.0521 - lr: 0.0035\n",
      "Epoch 19/50\n",
      "40000/40000 [==============================] - 84s 2ms/step - loss: 0.0521 - val_loss: 0.0520 - lr: 0.0035\n",
      "Epoch 20/50\n",
      "40000/40000 [==============================] - 82s 2ms/step - loss: 0.0519 - val_loss: 0.0519 - lr: 0.0034\n",
      "Epoch 21/50\n",
      "40000/40000 [==============================] - 80s 2ms/step - loss: 0.0518 - val_loss: 0.0518 - lr: 0.0033\n",
      "Epoch 22/50\n",
      "40000/40000 [==============================] - 84s 2ms/step - loss: 0.0517 - val_loss: 0.0516 - lr: 0.0033\n",
      "Epoch 23/50\n",
      "40000/40000 [==============================] - 81s 2ms/step - loss: 0.0515 - val_loss: 0.0513 - lr: 0.0032\n",
      "Epoch 24/50\n",
      "40000/40000 [==============================] - 81s 2ms/step - loss: 0.0513 - val_loss: 0.0512 - lr: 0.0031\n",
      "Epoch 25/50\n",
      "40000/40000 [==============================] - 82s 2ms/step - loss: 0.0510 - val_loss: 0.0506 - lr: 0.0031\n",
      "Epoch 26/50\n",
      "40000/40000 [==============================] - 81s 2ms/step - loss: 0.0505 - val_loss: 0.0503 - lr: 0.0030\n",
      "Epoch 27/50\n",
      "40000/40000 [==============================] - 82s 2ms/step - loss: 0.0502 - val_loss: 0.0501 - lr: 0.0030\n",
      "Epoch 28/50\n",
      "40000/40000 [==============================] - 82s 2ms/step - loss: 0.0501 - val_loss: 0.0500 - lr: 0.0029\n",
      "Epoch 29/50\n",
      "40000/40000 [==============================] - 81s 2ms/step - loss: 0.0499 - val_loss: 0.0499 - lr: 0.0028\n",
      "Epoch 30/50\n",
      "40000/40000 [==============================] - 82s 2ms/step - loss: 0.0498 - val_loss: 0.0498 - lr: 0.0028\n",
      "Epoch 31/50\n",
      "40000/40000 [==============================] - 82s 2ms/step - loss: 0.0497 - val_loss: 0.0497 - lr: 0.0027\n",
      "Epoch 32/50\n",
      "40000/40000 [==============================] - 81s 2ms/step - loss: 0.0496 - val_loss: 0.0496 - lr: 0.0027\n",
      "Epoch 33/50\n",
      "40000/40000 [==============================] - 82s 2ms/step - loss: 0.0495 - val_loss: 0.0495 - lr: 0.0026\n",
      "Epoch 34/50\n",
      "40000/40000 [==============================] - 81s 2ms/step - loss: 0.0494 - val_loss: 0.0493 - lr: 0.0026\n",
      "Epoch 35/50\n",
      "40000/40000 [==============================] - 81s 2ms/step - loss: 0.0493 - val_loss: 0.0492 - lr: 0.0025\n",
      "Epoch 36/50\n",
      "40000/40000 [==============================] - 82s 2ms/step - loss: 0.0492 - val_loss: 0.0491 - lr: 0.0025\n",
      "Epoch 37/50\n",
      "40000/40000 [==============================] - 81s 2ms/step - loss: 0.0491 - val_loss: 0.0491 - lr: 0.0024\n",
      "Epoch 38/50\n",
      "40000/40000 [==============================] - 83s 2ms/step - loss: 0.0490 - val_loss: 0.0490 - lr: 0.0024\n",
      "Epoch 39/50\n",
      "40000/40000 [==============================] - 84s 2ms/step - loss: 0.0490 - val_loss: 0.0489 - lr: 0.0023\n",
      "Epoch 40/50\n",
      "40000/40000 [==============================] - 81s 2ms/step - loss: 0.0489 - val_loss: 0.0489 - lr: 0.0023\n",
      "Epoch 41/50\n",
      "40000/40000 [==============================] - 81s 2ms/step - loss: 0.0488 - val_loss: 0.0488 - lr: 0.0022\n",
      "Epoch 42/50\n",
      "40000/40000 [==============================] - 84s 2ms/step - loss: 0.0488 - val_loss: 0.0488 - lr: 0.0022\n",
      "Epoch 43/50\n",
      "40000/40000 [==============================] - 81s 2ms/step - loss: 0.0487 - val_loss: 0.0487 - lr: 0.0021\n",
      "Epoch 44/50\n",
      "40000/40000 [==============================] - 81s 2ms/step - loss: 0.0487 - val_loss: 0.0487 - lr: 0.0021\n",
      "Epoch 45/50\n",
      "40000/40000 [==============================] - 83s 2ms/step - loss: 0.0487 - val_loss: 0.0486 - lr: 0.0021\n",
      "Epoch 46/50\n",
      "40000/40000 [==============================] - 82s 2ms/step - loss: 0.0486 - val_loss: 0.0486 - lr: 0.0020\n",
      "Epoch 47/50\n",
      "40000/40000 [==============================] - 80s 2ms/step - loss: 0.0486 - val_loss: 0.0486 - lr: 0.0020\n",
      "Epoch 48/50\n",
      "40000/40000 [==============================] - 82s 2ms/step - loss: 0.0486 - val_loss: 0.0485 - lr: 0.0019\n",
      "Epoch 49/50\n",
      "40000/40000 [==============================] - 82s 2ms/step - loss: 0.0485 - val_loss: 0.0485 - lr: 0.0019\n",
      "Epoch 50/50\n",
      "40000/40000 [==============================] - 81s 2ms/step - loss: 0.0485 - val_loss: 0.0485 - lr: 0.0019\n",
      "Pos2Vec weights loading from /home/wumphlett/personal/Chess-Bot/models/pos2vec.h5\n"
     ]
    }
   ],
   "source": [
    "pos2vec = cb.model.train_pos2vec(train, val)"
   ]
  },
  {
   "cell_type": "markdown",
   "id": "9ffb6409",
   "metadata": {},
   "source": [
    "## DeepChess\n",
    "The DeepChess dataset consists of 1mil position pairs randomly ordered  \n",
    "DeepChess is trained using a shared Pos2Vec instance to perform feature extraction then fed into another neural net to determine which position is best"
   ]
  },
  {
   "cell_type": "code",
   "execution_count": 3,
   "id": "0a9edcf0",
   "metadata": {},
   "outputs": [],
   "source": [
    "train, val = cb.dataset.deepchess_dataset()"
   ]
  },
  {
   "cell_type": "code",
   "execution_count": 7,
   "id": "cf092d00",
   "metadata": {},
   "outputs": [
    {
     "name": "stdout",
     "output_type": "stream",
     "text": [
      "Pos2Vec weights loading from /home/wumphlett/personal/Chess-Bot/models/pos2vec.h5\n",
      "20000/20000 [==============================] - 51s 2ms/step - loss: 0.5704 - accuracy: 0.6857 - val_loss: 0.5475 - val_accuracy: 0.7190 - lr: 0.0100\n",
      "DeepChess weights loading from /home/wumphlett/personal/Chess-Bot/models/deepchess.h5\n"
     ]
    }
   ],
   "source": [
    "deepchess = cb.model.train_deepchess(train, val)"
   ]
  },
  {
   "cell_type": "markdown",
   "id": "17a66f82",
   "metadata": {},
   "source": [
    "## Evaluation"
   ]
  },
  {
   "cell_type": "code",
   "execution_count": 8,
   "id": "87064140",
   "metadata": {},
   "outputs": [
    {
     "name": "stdout",
     "output_type": "stream",
     "text": [
      "DeepChess weights loading from /home/wumphlett/personal/Chess-Bot/models/deepchess.h5\n",
      "20000/20000 [==============================] - 44s 2ms/step - loss: 0.5000 - accuracy: 0.7443\n"
     ]
    },
    {
     "data": {
      "text/plain": [
       "[0.500031054019928, 0.744333028793335]"
      ]
     },
     "execution_count": 8,
     "metadata": {},
     "output_type": "execute_result"
    }
   ],
   "source": [
    "deepchess = cb.model.get_deepchess()\n",
    "deepchess.evaluate(train)"
   ]
  },
  {
   "cell_type": "code",
   "execution_count": 12,
   "id": "87c3930b",
   "metadata": {},
   "outputs": [
    {
     "name": "stdout",
     "output_type": "stream",
     "text": [
      "Model: \"model\"\n",
      "__________________________________________________________________________________________________\n",
      " Layer (type)                   Output Shape         Param #     Connected to                     \n",
      "==================================================================================================\n",
      " dc_input_left (InputLayer)     [(None, 773)]        0           []                               \n",
      "                                                                                                  \n",
      " dc_input_right (InputLayer)    [(None, 773)]        0           []                               \n",
      "                                                                                                  \n",
      " pos2_vec (Pos2Vec)             (None, 100)          1403402     ['dc_input_left[0][0]',          \n",
      "                                                                  'dc_input_right[0][0]']         \n",
      "                                                                                                  \n",
      " concatenate (Concatenate)      (None, 200)          0           ['pos2_vec[0][0]',               \n",
      "                                                                  'pos2_vec[1][0]']               \n",
      "                                                                                                  \n",
      " dc_1 (Dense)                   (None, 400)          80400       ['concatenate[0][0]']            \n",
      "                                                                                                  \n",
      " dc_2 (Dense)                   (None, 200)          80200       ['dc_1[0][0]']                   \n",
      "                                                                                                  \n",
      " dc_3 (Dense)                   (None, 100)          20100       ['dc_2[0][0]']                   \n",
      "                                                                                                  \n",
      " dc_4 (Dense)                   (None, 2)            202         ['dc_3[0][0]']                   \n",
      "                                                                                                  \n",
      "==================================================================================================\n",
      "Total params: 1,584,304\n",
      "Trainable params: 1,584,304\n",
      "Non-trainable params: 0\n",
      "__________________________________________________________________________________________________\n"
     ]
    }
   ],
   "source": [
    "deepchess.deepchess.summary()"
   ]
  },
  {
   "cell_type": "markdown",
   "id": "746cbfb3",
   "metadata": {},
   "source": [
    "## Engine"
   ]
  },
  {
   "cell_type": "code",
   "execution_count": 25,
   "id": "de0a456f",
   "metadata": {},
   "outputs": [
    {
     "name": "stdout",
     "output_type": "stream",
     "text": [
      "DeepChess weights loading from /home/wumphlett/personal/Chess-Bot/models/deepchess.h5\n"
     ]
    }
   ],
   "source": [
    "engine = cb.engine.Engine(True)"
   ]
  },
  {
   "cell_type": "code",
   "execution_count": 27,
   "id": "1b8433ee",
   "metadata": {},
   "outputs": [],
   "source": [
    "move = engine.next_move()"
   ]
  },
  {
   "cell_type": "code",
   "execution_count": null,
   "id": "32857bb3",
   "metadata": {},
   "outputs": [],
   "source": [
    "print(move)"
   ]
  },
  {
   "cell_type": "markdown",
   "id": "da9be306",
   "metadata": {},
   "source": [
    "## Play"
   ]
  },
  {
   "cell_type": "code",
   "execution_count": null,
   "id": "50796f6c",
   "metadata": {},
   "outputs": [
    {
     "data": {
      "image/svg+xml": [
       "<svg xmlns=\"http://www.w3.org/2000/svg\" xmlns:xlink=\"http://www.w3.org/1999/xlink\" version=\"1.2\" baseProfile=\"tiny\" viewBox=\"0 0 390 390\" width=\"500\" height=\"500\"><desc><pre>r n b q k b n r\n",
       "p . p p p p p p\n",
       ". . . . . . . .\n",
       ". p . . . . . .\n",
       ". . . . P . . .\n",
       ". . . . . . . .\n",
       "P P P P . P P P\n",
       "R N B Q K B N R</pre></desc><defs><g id=\"white-pawn\" class=\"white pawn\"><path d=\"M22.5 9c-2.21 0-4 1.79-4 4 0 .89.29 1.71.78 2.38C17.33 16.5 16 18.59 16 21c0 2.03.94 3.84 2.41 5.03-3 1.06-7.41 5.55-7.41 13.47h23c0-7.92-4.41-12.41-7.41-13.47 1.47-1.19 2.41-3 2.41-5.03 0-2.41-1.33-4.5-3.28-5.62.49-.67.78-1.49.78-2.38 0-2.21-1.79-4-4-4z\" fill=\"#fff\" stroke=\"#000\" stroke-width=\"1.5\" stroke-linecap=\"round\"/></g><g id=\"white-knight\" class=\"white knight\" fill=\"none\" fill-rule=\"evenodd\" stroke=\"#000\" stroke-width=\"1.5\" stroke-linecap=\"round\" stroke-linejoin=\"round\"><path d=\"M 22,10 C 32.5,11 38.5,18 38,39 L 15,39 C 15,30 25,32.5 23,18\" style=\"fill:#ffffff; stroke:#000000;\"/><path d=\"M 24,18 C 24.38,20.91 18.45,25.37 16,27 C 13,29 13.18,31.34 11,31 C 9.958,30.06 12.41,27.96 11,28 C 10,28 11.19,29.23 10,30 C 9,30 5.997,31 6,26 C 6,24 12,14 12,14 C 12,14 13.89,12.1 14,10.5 C 13.27,9.506 13.5,8.5 13.5,7.5 C 14.5,6.5 16.5,10 16.5,10 L 18.5,10 C 18.5,10 19.28,8.008 21,7 C 22,7 22,10 22,10\" style=\"fill:#ffffff; stroke:#000000;\"/><path d=\"M 9.5 25.5 A 0.5 0.5 0 1 1 8.5,25.5 A 0.5 0.5 0 1 1 9.5 25.5 z\" style=\"fill:#000000; stroke:#000000;\"/><path d=\"M 15 15.5 A 0.5 1.5 0 1 1 14,15.5 A 0.5 1.5 0 1 1 15 15.5 z\" transform=\"matrix(0.866,0.5,-0.5,0.866,9.693,-5.173)\" style=\"fill:#000000; stroke:#000000;\"/></g><g id=\"white-bishop\" class=\"white bishop\" fill=\"none\" fill-rule=\"evenodd\" stroke=\"#000\" stroke-width=\"1.5\" stroke-linecap=\"round\" stroke-linejoin=\"round\"><g fill=\"#fff\" stroke-linecap=\"butt\"><path d=\"M9 36c3.39-.97 10.11.43 13.5-2 3.39 2.43 10.11 1.03 13.5 2 0 0 1.65.54 3 2-.68.97-1.65.99-3 .5-3.39-.97-10.11.46-13.5-1-3.39 1.46-10.11.03-13.5 1-1.354.49-2.323.47-3-.5 1.354-1.94 3-2 3-2zM15 32c2.5 2.5 12.5 2.5 15 0 .5-1.5 0-2 0-2 0-2.5-2.5-4-2.5-4 5.5-1.5 6-11.5-5-15.5-11 4-10.5 14-5 15.5 0 0-2.5 1.5-2.5 4 0 0-.5.5 0 2zM25 8a2.5 2.5 0 1 1-5 0 2.5 2.5 0 1 1 5 0z\"/></g><path d=\"M17.5 26h10M15 30h15m-7.5-14.5v5M20 18h5\" stroke-linejoin=\"miter\"/></g><g id=\"white-rook\" class=\"white rook\" fill=\"#fff\" fill-rule=\"evenodd\" stroke=\"#000\" stroke-width=\"1.5\" stroke-linecap=\"round\" stroke-linejoin=\"round\"><path d=\"M9 39h27v-3H9v3zM12 36v-4h21v4H12zM11 14V9h4v2h5V9h5v2h5V9h4v5\" stroke-linecap=\"butt\"/><path d=\"M34 14l-3 3H14l-3-3\"/><path d=\"M31 17v12.5H14V17\" stroke-linecap=\"butt\" stroke-linejoin=\"miter\"/><path d=\"M31 29.5l1.5 2.5h-20l1.5-2.5\"/><path d=\"M11 14h23\" fill=\"none\" stroke-linejoin=\"miter\"/></g><g id=\"white-queen\" class=\"white queen\" fill=\"#fff\" fill-rule=\"evenodd\" stroke=\"#000\" stroke-width=\"1.5\" stroke-linecap=\"round\" stroke-linejoin=\"round\"><path d=\"M8 12a2 2 0 1 1-4 0 2 2 0 1 1 4 0zM24.5 7.5a2 2 0 1 1-4 0 2 2 0 1 1 4 0zM41 12a2 2 0 1 1-4 0 2 2 0 1 1 4 0zM16 8.5a2 2 0 1 1-4 0 2 2 0 1 1 4 0zM33 9a2 2 0 1 1-4 0 2 2 0 1 1 4 0z\"/><path d=\"M9 26c8.5-1.5 21-1.5 27 0l2-12-7 11V11l-5.5 13.5-3-15-3 15-5.5-14V25L7 14l2 12zM9 26c0 2 1.5 2 2.5 4 1 1.5 1 1 .5 3.5-1.5 1-1.5 2.5-1.5 2.5-1.5 1.5.5 2.5.5 2.5 6.5 1 16.5 1 23 0 0 0 1.5-1 0-2.5 0 0 .5-1.5-1-2.5-.5-2.5-.5-2 .5-3.5 1-2 2.5-2 2.5-4-8.5-1.5-18.5-1.5-27 0z\" stroke-linecap=\"butt\"/><path d=\"M11.5 30c3.5-1 18.5-1 22 0M12 33.5c6-1 15-1 21 0\" fill=\"none\"/></g><g id=\"white-king\" class=\"white king\" fill=\"none\" fill-rule=\"evenodd\" stroke=\"#000\" stroke-width=\"1.5\" stroke-linecap=\"round\" stroke-linejoin=\"round\"><path d=\"M22.5 11.63V6M20 8h5\" stroke-linejoin=\"miter\"/><path d=\"M22.5 25s4.5-7.5 3-10.5c0 0-1-2.5-3-2.5s-3 2.5-3 2.5c-1.5 3 3 10.5 3 10.5\" fill=\"#fff\" stroke-linecap=\"butt\" stroke-linejoin=\"miter\"/><path d=\"M11.5 37c5.5 3.5 15.5 3.5 21 0v-7s9-4.5 6-10.5c-4-6.5-13.5-3.5-16 4V27v-3.5c-3.5-7.5-13-10.5-16-4-3 6 5 10 5 10V37z\" fill=\"#fff\"/><path d=\"M11.5 30c5.5-3 15.5-3 21 0m-21 3.5c5.5-3 15.5-3 21 0m-21 3.5c5.5-3 15.5-3 21 0\"/></g><g id=\"black-pawn\" class=\"black pawn\"><path d=\"M22.5 9c-2.21 0-4 1.79-4 4 0 .89.29 1.71.78 2.38C17.33 16.5 16 18.59 16 21c0 2.03.94 3.84 2.41 5.03-3 1.06-7.41 5.55-7.41 13.47h23c0-7.92-4.41-12.41-7.41-13.47 1.47-1.19 2.41-3 2.41-5.03 0-2.41-1.33-4.5-3.28-5.62.49-.67.78-1.49.78-2.38 0-2.21-1.79-4-4-4z\" fill=\"#000\" stroke=\"#000\" stroke-width=\"1.5\" stroke-linecap=\"round\"/></g><g id=\"black-knight\" class=\"black knight\" fill=\"none\" fill-rule=\"evenodd\" stroke=\"#000\" stroke-width=\"1.5\" stroke-linecap=\"round\" stroke-linejoin=\"round\"><path d=\"M 22,10 C 32.5,11 38.5,18 38,39 L 15,39 C 15,30 25,32.5 23,18\" style=\"fill:#000000; stroke:#000000;\"/><path d=\"M 24,18 C 24.38,20.91 18.45,25.37 16,27 C 13,29 13.18,31.34 11,31 C 9.958,30.06 12.41,27.96 11,28 C 10,28 11.19,29.23 10,30 C 9,30 5.997,31 6,26 C 6,24 12,14 12,14 C 12,14 13.89,12.1 14,10.5 C 13.27,9.506 13.5,8.5 13.5,7.5 C 14.5,6.5 16.5,10 16.5,10 L 18.5,10 C 18.5,10 19.28,8.008 21,7 C 22,7 22,10 22,10\" style=\"fill:#000000; stroke:#000000;\"/><path d=\"M 9.5 25.5 A 0.5 0.5 0 1 1 8.5,25.5 A 0.5 0.5 0 1 1 9.5 25.5 z\" style=\"fill:#ececec; stroke:#ececec;\"/><path d=\"M 15 15.5 A 0.5 1.5 0 1 1 14,15.5 A 0.5 1.5 0 1 1 15 15.5 z\" transform=\"matrix(0.866,0.5,-0.5,0.866,9.693,-5.173)\" style=\"fill:#ececec; stroke:#ececec;\"/><path d=\"M 24.55,10.4 L 24.1,11.85 L 24.6,12 C 27.75,13 30.25,14.49 32.5,18.75 C 34.75,23.01 35.75,29.06 35.25,39 L 35.2,39.5 L 37.45,39.5 L 37.5,39 C 38,28.94 36.62,22.15 34.25,17.66 C 31.88,13.17 28.46,11.02 25.06,10.5 L 24.55,10.4 z \" style=\"fill:#ececec; stroke:none;\"/></g><g id=\"black-bishop\" class=\"black bishop\" fill=\"none\" fill-rule=\"evenodd\" stroke=\"#000\" stroke-width=\"1.5\" stroke-linecap=\"round\" stroke-linejoin=\"round\"><path d=\"M9 36c3.39-.97 10.11.43 13.5-2 3.39 2.43 10.11 1.03 13.5 2 0 0 1.65.54 3 2-.68.97-1.65.99-3 .5-3.39-.97-10.11.46-13.5-1-3.39 1.46-10.11.03-13.5 1-1.354.49-2.323.47-3-.5 1.354-1.94 3-2 3-2zm6-4c2.5 2.5 12.5 2.5 15 0 .5-1.5 0-2 0-2 0-2.5-2.5-4-2.5-4 5.5-1.5 6-11.5-5-15.5-11 4-10.5 14-5 15.5 0 0-2.5 1.5-2.5 4 0 0-.5.5 0 2zM25 8a2.5 2.5 0 1 1-5 0 2.5 2.5 0 1 1 5 0z\" fill=\"#000\" stroke-linecap=\"butt\"/><path d=\"M17.5 26h10M15 30h15m-7.5-14.5v5M20 18h5\" stroke=\"#fff\" stroke-linejoin=\"miter\"/></g><g id=\"black-rook\" class=\"black rook\" fill=\"#000\" fill-rule=\"evenodd\" stroke=\"#000\" stroke-width=\"1.5\" stroke-linecap=\"round\" stroke-linejoin=\"round\"><path d=\"M9 39h27v-3H9v3zM12.5 32l1.5-2.5h17l1.5 2.5h-20zM12 36v-4h21v4H12z\" stroke-linecap=\"butt\"/><path d=\"M14 29.5v-13h17v13H14z\" stroke-linecap=\"butt\" stroke-linejoin=\"miter\"/><path d=\"M14 16.5L11 14h23l-3 2.5H14zM11 14V9h4v2h5V9h5v2h5V9h4v5H11z\" stroke-linecap=\"butt\"/><path d=\"M12 35.5h21M13 31.5h19M14 29.5h17M14 16.5h17M11 14h23\" fill=\"none\" stroke=\"#fff\" stroke-width=\"1\" stroke-linejoin=\"miter\"/></g><g id=\"black-queen\" class=\"black queen\" fill=\"#000\" fill-rule=\"evenodd\" stroke=\"#000\" stroke-width=\"1.5\" stroke-linecap=\"round\" stroke-linejoin=\"round\"><g fill=\"#000\" stroke=\"none\"><circle cx=\"6\" cy=\"12\" r=\"2.75\"/><circle cx=\"14\" cy=\"9\" r=\"2.75\"/><circle cx=\"22.5\" cy=\"8\" r=\"2.75\"/><circle cx=\"31\" cy=\"9\" r=\"2.75\"/><circle cx=\"39\" cy=\"12\" r=\"2.75\"/></g><path d=\"M9 26c8.5-1.5 21-1.5 27 0l2.5-12.5L31 25l-.3-14.1-5.2 13.6-3-14.5-3 14.5-5.2-13.6L14 25 6.5 13.5 9 26zM9 26c0 2 1.5 2 2.5 4 1 1.5 1 1 .5 3.5-1.5 1-1.5 2.5-1.5 2.5-1.5 1.5.5 2.5.5 2.5 6.5 1 16.5 1 23 0 0 0 1.5-1 0-2.5 0 0 .5-1.5-1-2.5-.5-2.5-.5-2 .5-3.5 1-2 2.5-2 2.5-4-8.5-1.5-18.5-1.5-27 0z\" stroke-linecap=\"butt\"/><path d=\"M11 38.5a35 35 1 0 0 23 0\" fill=\"none\" stroke-linecap=\"butt\"/><path d=\"M11 29a35 35 1 0 1 23 0M12.5 31.5h20M11.5 34.5a35 35 1 0 0 22 0M10.5 37.5a35 35 1 0 0 24 0\" fill=\"none\" stroke=\"#fff\"/></g><g id=\"black-king\" class=\"black king\" fill=\"none\" fill-rule=\"evenodd\" stroke=\"#000\" stroke-width=\"1.5\" stroke-linecap=\"round\" stroke-linejoin=\"round\"><path d=\"M22.5 11.63V6\" stroke-linejoin=\"miter\"/><path d=\"M22.5 25s4.5-7.5 3-10.5c0 0-1-2.5-3-2.5s-3 2.5-3 2.5c-1.5 3 3 10.5 3 10.5\" fill=\"#000\" stroke-linecap=\"butt\" stroke-linejoin=\"miter\"/><path d=\"M11.5 37c5.5 3.5 15.5 3.5 21 0v-7s9-4.5 6-10.5c-4-6.5-13.5-3.5-16 4V27v-3.5c-3.5-7.5-13-10.5-16-4-3 6 5 10 5 10V37z\" fill=\"#000\"/><path d=\"M20 8h5\" stroke-linejoin=\"miter\"/><path d=\"M32 29.5s8.5-4 6.03-9.65C34.15 14 25 18 22.5 24.5l.01 2.1-.01-2.1C20 18 9.906 14 6.997 19.85c-2.497 5.65 4.853 9 4.853 9M11.5 30c5.5-3 15.5-3 21 0m-21 3.5c5.5-3 15.5-3 21 0m-21 3.5c5.5-3 15.5-3 21 0\" stroke=\"#fff\"/></g></defs><rect x=\"0\" y=\"0\" width=\"390\" height=\"390\" fill=\"#212121\"/><g transform=\"translate(20, 0) scale(0.75, 0.75)\" fill=\"#e5e5e5\" stroke=\"#e5e5e5\"><path d=\"M23.328 10.016q-1.742 0-2.414.398-.672.398-.672 1.36 0 .765.5 1.218.508.445 1.375.445 1.196 0 1.914-.843.727-.852.727-2.258v-.32zm2.867-.594v4.992h-1.437v-1.328q-.492.797-1.227 1.18-.734.375-1.797.375-1.343 0-2.14-.75-.79-.758-.79-2.024 0-1.476.985-2.226.992-.75 2.953-.75h2.016V8.75q0-.992-.656-1.531-.649-.547-1.829-.547-.75 0-1.46.18-.711.18-1.368.539V6.062q.79-.304 1.532-.453.742-.156 1.445-.156 1.898 0 2.836.984.937.985.937 2.985z\"/></g><g transform=\"translate(20, 375) scale(0.75, 0.75)\" fill=\"#e5e5e5\" stroke=\"#e5e5e5\"><path d=\"M23.328 10.016q-1.742 0-2.414.398-.672.398-.672 1.36 0 .765.5 1.218.508.445 1.375.445 1.196 0 1.914-.843.727-.852.727-2.258v-.32zm2.867-.594v4.992h-1.437v-1.328q-.492.797-1.227 1.18-.734.375-1.797.375-1.343 0-2.14-.75-.79-.758-.79-2.024 0-1.476.985-2.226.992-.75 2.953-.75h2.016V8.75q0-.992-.656-1.531-.649-.547-1.829-.547-.75 0-1.46.18-.711.18-1.368.539V6.062q.79-.304 1.532-.453.742-.156 1.445-.156 1.898 0 2.836.984.937.985.937 2.985z\"/></g><g transform=\"translate(65, 0) scale(0.75, 0.75)\" fill=\"#e5e5e5\" stroke=\"#e5e5e5\"><path d=\"M24.922 10.047q0-1.586-.656-2.485-.649-.906-1.79-.906-1.14 0-1.796.906-.649.899-.649 2.485 0 1.586.649 2.492.656.898 1.797.898 1.14 0 1.789-.898.656-.906.656-2.492zm-4.89-3.055q.452-.781 1.14-1.156.695-.383 1.656-.383 1.594 0 2.586 1.266 1 1.265 1 3.328 0 2.062-1 3.328-.992 1.266-2.586 1.266-.96 0-1.656-.375-.688-.383-1.14-1.164v1.312h-1.446V2.258h1.445z\"/></g><g transform=\"translate(65, 375) scale(0.75, 0.75)\" fill=\"#e5e5e5\" stroke=\"#e5e5e5\"><path d=\"M24.922 10.047q0-1.586-.656-2.485-.649-.906-1.79-.906-1.14 0-1.796.906-.649.899-.649 2.485 0 1.586.649 2.492.656.898 1.797.898 1.14 0 1.789-.898.656-.906.656-2.492zm-4.89-3.055q.452-.781 1.14-1.156.695-.383 1.656-.383 1.594 0 2.586 1.266 1 1.265 1 3.328 0 2.062-1 3.328-.992 1.266-2.586 1.266-.96 0-1.656-.375-.688-.383-1.14-1.164v1.312h-1.446V2.258h1.445z\"/></g><g transform=\"translate(110, 0) scale(0.75, 0.75)\" fill=\"#e5e5e5\" stroke=\"#e5e5e5\"><path d=\"M25.96 6v1.344q-.608-.336-1.226-.5-.609-.172-1.234-.172-1.398 0-2.172.89-.773.883-.773 2.485 0 1.601.773 2.492.774.883 2.172.883.625 0 1.234-.164.618-.172 1.227-.508v1.328q-.602.281-1.25.422-.64.14-1.367.14-1.977 0-3.14-1.242-1.165-1.242-1.165-3.351 0-2.14 1.172-3.367 1.18-1.227 3.227-1.227.664 0 1.296.14.633.134 1.227.407z\"/></g><g transform=\"translate(110, 375) scale(0.75, 0.75)\" fill=\"#e5e5e5\" stroke=\"#e5e5e5\"><path d=\"M25.96 6v1.344q-.608-.336-1.226-.5-.609-.172-1.234-.172-1.398 0-2.172.89-.773.883-.773 2.485 0 1.601.773 2.492.774.883 2.172.883.625 0 1.234-.164.618-.172 1.227-.508v1.328q-.602.281-1.25.422-.64.14-1.367.14-1.977 0-3.14-1.242-1.165-1.242-1.165-3.351 0-2.14 1.172-3.367 1.18-1.227 3.227-1.227.664 0 1.296.14.633.134 1.227.407z\"/></g><g transform=\"translate(155, 0) scale(0.75, 0.75)\" fill=\"#e5e5e5\" stroke=\"#e5e5e5\"><path d=\"M24.973 6.992V2.258h1.437v12.156h-1.437v-1.312q-.453.78-1.149 1.164-.687.375-1.656.375-1.586 0-2.586-1.266-.992-1.266-.992-3.328 0-2.063.992-3.328 1-1.266 2.586-1.266.969 0 1.656.383.696.375 1.149 1.156zm-4.899 3.055q0 1.586.649 2.492.656.898 1.797.898 1.14 0 1.796-.898.657-.906.657-2.492 0-1.586-.657-2.485-.656-.906-1.796-.906-1.141 0-1.797.906-.649.899-.649 2.485z\"/></g><g transform=\"translate(155, 375) scale(0.75, 0.75)\" fill=\"#e5e5e5\" stroke=\"#e5e5e5\"><path d=\"M24.973 6.992V2.258h1.437v12.156h-1.437v-1.312q-.453.78-1.149 1.164-.687.375-1.656.375-1.586 0-2.586-1.266-.992-1.266-.992-3.328 0-2.063.992-3.328 1-1.266 2.586-1.266.969 0 1.656.383.696.375 1.149 1.156zm-4.899 3.055q0 1.586.649 2.492.656.898 1.797.898 1.14 0 1.796-.898.657-.906.657-2.492 0-1.586-.657-2.485-.656-.906-1.796-.906-1.141 0-1.797.906-.649.899-.649 2.485z\"/></g><g transform=\"translate(200, 0) scale(0.75, 0.75)\" fill=\"#e5e5e5\" stroke=\"#e5e5e5\"><path d=\"M26.555 9.68v.703h-6.61q.094 1.484.89 2.265.806.774 2.235.774.828 0 1.602-.203.781-.203 1.547-.61v1.36q-.774.328-1.586.5-.813.172-1.649.172-2.093 0-3.32-1.22-1.219-1.218-1.219-3.296 0-2.148 1.157-3.406 1.164-1.266 3.132-1.266 1.766 0 2.79 1.14 1.03 1.134 1.03 3.087zm-1.438-.422q-.015-1.18-.664-1.883-.64-.703-1.703-.703-1.203 0-1.93.68-.718.68-.828 1.914z\"/></g><g transform=\"translate(200, 375) scale(0.75, 0.75)\" fill=\"#e5e5e5\" stroke=\"#e5e5e5\"><path d=\"M26.555 9.68v.703h-6.61q.094 1.484.89 2.265.806.774 2.235.774.828 0 1.602-.203.781-.203 1.547-.61v1.36q-.774.328-1.586.5-.813.172-1.649.172-2.093 0-3.32-1.22-1.219-1.218-1.219-3.296 0-2.148 1.157-3.406 1.164-1.266 3.132-1.266 1.766 0 2.79 1.14 1.03 1.134 1.03 3.087zm-1.438-.422q-.015-1.18-.664-1.883-.64-.703-1.703-.703-1.203 0-1.93.68-.718.68-.828 1.914z\"/></g><g transform=\"translate(245, 0) scale(0.75, 0.75)\" fill=\"#e5e5e5\" stroke=\"#e5e5e5\"><path d=\"M25.285 2.258v1.195H23.91q-.773 0-1.078.313-.297.312-.297 1.125v.773h2.367v1.117h-2.367v7.633H21.09V6.781h-1.375V5.664h1.375v-.61q0-1.46.68-2.124.68-.672 2.156-.672z\"/></g><g transform=\"translate(245, 375) scale(0.75, 0.75)\" fill=\"#e5e5e5\" stroke=\"#e5e5e5\"><path d=\"M25.285 2.258v1.195H23.91q-.773 0-1.078.313-.297.312-.297 1.125v.773h2.367v1.117h-2.367v7.633H21.09V6.781h-1.375V5.664h1.375v-.61q0-1.46.68-2.124.68-.672 2.156-.672z\"/></g><g transform=\"translate(290, 0) scale(0.75, 0.75)\" fill=\"#e5e5e5\" stroke=\"#e5e5e5\"><path d=\"M24.973 9.937q0-1.562-.649-2.421-.64-.86-1.804-.86-1.157 0-1.805.86-.64.859-.64 2.421 0 1.555.64 2.415.648.859 1.805.859 1.164 0 1.804-.86.649-.859.649-2.414zm1.437 3.391q0 2.234-.992 3.32-.992 1.094-3.04 1.094-.757 0-1.429-.117-.672-.11-1.304-.344v-1.398q.632.344 1.25.508.617.164 1.257.164 1.414 0 2.118-.743.703-.734.703-2.226v-.711q-.446.773-1.141 1.156-.695.383-1.664.383-1.61 0-2.594-1.227-.984-1.226-.984-3.25 0-2.03.984-3.257.985-1.227 2.594-1.227.969 0 1.664.383t1.14 1.156V5.664h1.438z\"/></g><g transform=\"translate(290, 375) scale(0.75, 0.75)\" fill=\"#e5e5e5\" stroke=\"#e5e5e5\"><path d=\"M24.973 9.937q0-1.562-.649-2.421-.64-.86-1.804-.86-1.157 0-1.805.86-.64.859-.64 2.421 0 1.555.64 2.415.648.859 1.805.859 1.164 0 1.804-.86.649-.859.649-2.414zm1.437 3.391q0 2.234-.992 3.32-.992 1.094-3.04 1.094-.757 0-1.429-.117-.672-.11-1.304-.344v-1.398q.632.344 1.25.508.617.164 1.257.164 1.414 0 2.118-.743.703-.734.703-2.226v-.711q-.446.773-1.141 1.156-.695.383-1.664.383-1.61 0-2.594-1.227-.984-1.226-.984-3.25 0-2.03.984-3.257.985-1.227 2.594-1.227.969 0 1.664.383t1.14 1.156V5.664h1.438z\"/></g><g transform=\"translate(335, 0) scale(0.75, 0.75)\" fill=\"#e5e5e5\" stroke=\"#e5e5e5\"><path d=\"M26.164 9.133v5.281h-1.437V9.18q0-1.243-.485-1.86-.484-.617-1.453-.617-1.164 0-1.836.742-.672.742-.672 2.024v4.945h-1.445V2.258h1.445v4.765q.516-.789 1.211-1.18.703-.39 1.617-.39 1.508 0 2.282.938.773.93.773 2.742z\"/></g><g transform=\"translate(335, 375) scale(0.75, 0.75)\" fill=\"#e5e5e5\" stroke=\"#e5e5e5\"><path d=\"M26.164 9.133v5.281h-1.437V9.18q0-1.243-.485-1.86-.484-.617-1.453-.617-1.164 0-1.836.742-.672.742-.672 2.024v4.945h-1.445V2.258h1.445v4.765q.516-.789 1.211-1.18.703-.39 1.617-.39 1.508 0 2.282.938.773.93.773 2.742z\"/></g><g transform=\"translate(0, 335) scale(0.75, 0.75)\" fill=\"#e5e5e5\" stroke=\"#e5e5e5\"><path d=\"M6.754 26.996h2.578v-8.898l-2.805.562v-1.437l2.79-.563h1.578v10.336h2.578v1.328h-6.72z\"/></g><g transform=\"translate(375, 335) scale(0.75, 0.75)\" fill=\"#e5e5e5\" stroke=\"#e5e5e5\"><path d=\"M6.754 26.996h2.578v-8.898l-2.805.562v-1.437l2.79-.563h1.578v10.336h2.578v1.328h-6.72z\"/></g><g transform=\"translate(0, 290) scale(0.75, 0.75)\" fill=\"#e5e5e5\" stroke=\"#e5e5e5\"><path d=\"M8.195 26.996h5.508v1.328H6.297v-1.328q.898-.93 2.445-2.492 1.555-1.57 1.953-2.024.758-.851 1.055-1.437.305-.594.305-1.164 0-.93-.657-1.516-.648-.586-1.695-.586-.742 0-1.57.258-.82.258-1.758.781v-1.593q.953-.383 1.781-.578.828-.196 1.516-.196 1.812 0 2.89.906 1.079.907 1.079 2.422 0 .72-.274 1.368-.265.64-.976 1.515-.196.227-1.243 1.313-1.046 1.078-2.953 3.023z\"/></g><g transform=\"translate(375, 290) scale(0.75, 0.75)\" fill=\"#e5e5e5\" stroke=\"#e5e5e5\"><path d=\"M8.195 26.996h5.508v1.328H6.297v-1.328q.898-.93 2.445-2.492 1.555-1.57 1.953-2.024.758-.851 1.055-1.437.305-.594.305-1.164 0-.93-.657-1.516-.648-.586-1.695-.586-.742 0-1.57.258-.82.258-1.758.781v-1.593q.953-.383 1.781-.578.828-.196 1.516-.196 1.812 0 2.89.906 1.079.907 1.079 2.422 0 .72-.274 1.368-.265.64-.976 1.515-.196.227-1.243 1.313-1.046 1.078-2.953 3.023z\"/></g><g transform=\"translate(0, 245) scale(0.75, 0.75)\" fill=\"#e5e5e5\" stroke=\"#e5e5e5\"><path d=\"M11.434 22.035q1.132.242 1.765 1.008.64.766.64 1.89 0 1.727-1.187 2.672-1.187.946-3.375.946-.734 0-1.515-.149-.774-.14-1.602-.43V26.45q.656.383 1.438.578.78.196 1.632.196 1.485 0 2.258-.586.782-.586.782-1.703 0-1.032-.727-1.61-.719-.586-2.008-.586h-1.36v-1.297h1.423q1.164 0 1.78-.46.618-.47.618-1.344 0-.899-.64-1.375-.633-.485-1.82-.485-.65 0-1.391.141-.743.14-1.633.437V16.95q.898-.25 1.68-.375.788-.125 1.484-.125 1.797 0 2.844.82 1.046.813 1.046 2.204 0 .968-.554 1.64-.555.664-1.578.922z\"/></g><g transform=\"translate(375, 245) scale(0.75, 0.75)\" fill=\"#e5e5e5\" stroke=\"#e5e5e5\"><path d=\"M11.434 22.035q1.132.242 1.765 1.008.64.766.64 1.89 0 1.727-1.187 2.672-1.187.946-3.375.946-.734 0-1.515-.149-.774-.14-1.602-.43V26.45q.656.383 1.438.578.78.196 1.632.196 1.485 0 2.258-.586.782-.586.782-1.703 0-1.032-.727-1.61-.719-.586-2.008-.586h-1.36v-1.297h1.423q1.164 0 1.78-.46.618-.47.618-1.344 0-.899-.64-1.375-.633-.485-1.82-.485-.65 0-1.391.141-.743.14-1.633.437V16.95q.898-.25 1.68-.375.788-.125 1.484-.125 1.797 0 2.844.82 1.046.813 1.046 2.204 0 .968-.554 1.64-.555.664-1.578.922z\"/></g><g transform=\"translate(0, 200) scale(0.75, 0.75)\" fill=\"#e5e5e5\" stroke=\"#e5e5e5\"><path d=\"M11.016 18.035L7.03 24.262h3.985zm-.414-1.375h1.984v7.602h1.664v1.312h-1.664v2.75h-1.57v-2.75H5.75v-1.523z\"/></g><g transform=\"translate(375, 200) scale(0.75, 0.75)\" fill=\"#e5e5e5\" stroke=\"#e5e5e5\"><path d=\"M11.016 18.035L7.03 24.262h3.985zm-.414-1.375h1.984v7.602h1.664v1.312h-1.664v2.75h-1.57v-2.75H5.75v-1.523z\"/></g><g transform=\"translate(0, 155) scale(0.75, 0.75)\" fill=\"#e5e5e5\" stroke=\"#e5e5e5\"><path d=\"M6.719 16.66h6.195v1.328h-4.75v2.86q.344-.118.688-.172.343-.063.687-.063 1.953 0 3.094 1.07 1.14 1.07 1.14 2.899 0 1.883-1.171 2.93-1.172 1.039-3.305 1.039-.735 0-1.5-.125-.758-.125-1.57-.375v-1.586q.703.383 1.453.57.75.188 1.586.188 1.351 0 2.14-.711.79-.711.79-1.93 0-1.219-.79-1.93-.789-.71-2.14-.71-.633 0-1.266.14-.625.14-1.281.438z\"/></g><g transform=\"translate(375, 155) scale(0.75, 0.75)\" fill=\"#e5e5e5\" stroke=\"#e5e5e5\"><path d=\"M6.719 16.66h6.195v1.328h-4.75v2.86q.344-.118.688-.172.343-.063.687-.063 1.953 0 3.094 1.07 1.14 1.07 1.14 2.899 0 1.883-1.171 2.93-1.172 1.039-3.305 1.039-.735 0-1.5-.125-.758-.125-1.57-.375v-1.586q.703.383 1.453.57.75.188 1.586.188 1.351 0 2.14-.711.79-.711.79-1.93 0-1.219-.79-1.93-.789-.71-2.14-.71-.633 0-1.266.14-.625.14-1.281.438z\"/></g><g transform=\"translate(0, 110) scale(0.75, 0.75)\" fill=\"#e5e5e5\" stroke=\"#e5e5e5\"><path d=\"M10.137 21.863q-1.063 0-1.688.727-.617.726-.617 1.992 0 1.258.617 1.992.625.727 1.688.727 1.062 0 1.68-.727.624-.734.624-1.992 0-1.266-.625-1.992-.617-.727-1.68-.727zm3.133-4.945v1.437q-.594-.28-1.204-.43-.601-.148-1.195-.148-1.562 0-2.39 1.055-.82 1.055-.938 3.188.46-.68 1.156-1.04.696-.367 1.531-.367 1.758 0 2.774 1.07 1.023 1.063 1.023 2.899 0 1.797-1.062 2.883-1.063 1.086-2.828 1.086-2.024 0-3.094-1.547-1.07-1.555-1.07-4.5 0-2.766 1.312-4.406 1.313-1.649 3.524-1.649.593 0 1.195.117.61.118 1.266.352z\"/></g><g transform=\"translate(375, 110) scale(0.75, 0.75)\" fill=\"#e5e5e5\" stroke=\"#e5e5e5\"><path d=\"M10.137 21.863q-1.063 0-1.688.727-.617.726-.617 1.992 0 1.258.617 1.992.625.727 1.688.727 1.062 0 1.68-.727.624-.734.624-1.992 0-1.266-.625-1.992-.617-.727-1.68-.727zm3.133-4.945v1.437q-.594-.28-1.204-.43-.601-.148-1.195-.148-1.562 0-2.39 1.055-.82 1.055-.938 3.188.46-.68 1.156-1.04.696-.367 1.531-.367 1.758 0 2.774 1.07 1.023 1.063 1.023 2.899 0 1.797-1.062 2.883-1.063 1.086-2.828 1.086-2.024 0-3.094-1.547-1.07-1.555-1.07-4.5 0-2.766 1.312-4.406 1.313-1.649 3.524-1.649.593 0 1.195.117.61.118 1.266.352z\"/></g><g transform=\"translate(0, 65) scale(0.75, 0.75)\" fill=\"#e5e5e5\" stroke=\"#e5e5e5\"><path d=\"M6.25 16.66h7.5v.672L9.516 28.324H7.867l3.985-10.336H6.25z\"/></g><g transform=\"translate(375, 65) scale(0.75, 0.75)\" fill=\"#e5e5e5\" stroke=\"#e5e5e5\"><path d=\"M6.25 16.66h7.5v.672L9.516 28.324H7.867l3.985-10.336H6.25z\"/></g><g transform=\"translate(0, 20) scale(0.75, 0.75)\" fill=\"#e5e5e5\" stroke=\"#e5e5e5\"><path d=\"M10 22.785q-1.125 0-1.773.602-.641.601-.641 1.656t.64 1.656q.649.602 1.774.602t1.773-.602q.649-.61.649-1.656 0-1.055-.649-1.656-.64-.602-1.773-.602zm-1.578-.672q-1.016-.25-1.586-.945-.563-.695-.563-1.695 0-1.399.993-2.211 1-.813 2.734-.813 1.742 0 2.734.813.993.812.993 2.21 0 1-.57 1.696-.563.695-1.571.945 1.14.266 1.773 1.04.641.773.641 1.89 0 1.695-1.04 2.602-1.03.906-2.96.906t-2.969-.906Q6 26.738 6 25.043q0-1.117.64-1.89.641-.774 1.782-1.04zm-.578-2.492q0 .906.562 1.414.57.508 1.594.508 1.016 0 1.586-.508.578-.508.578-1.414 0-.906-.578-1.414-.57-.508-1.586-.508-1.023 0-1.594.508-.562.508-.562 1.414z\"/></g><g transform=\"translate(375, 20) scale(0.75, 0.75)\" fill=\"#e5e5e5\" stroke=\"#e5e5e5\"><path d=\"M10 22.785q-1.125 0-1.773.602-.641.601-.641 1.656t.64 1.656q.649.602 1.774.602t1.773-.602q.649-.61.649-1.656 0-1.055-.649-1.656-.64-.602-1.773-.602zm-1.578-.672q-1.016-.25-1.586-.945-.563-.695-.563-1.695 0-1.399.993-2.211 1-.813 2.734-.813 1.742 0 2.734.813.993.812.993 2.21 0 1-.57 1.696-.563.695-1.571.945 1.14.266 1.773 1.04.641.773.641 1.89 0 1.695-1.04 2.602-1.03.906-2.96.906t-2.969-.906Q6 26.738 6 25.043q0-1.117.64-1.89.641-.774 1.782-1.04zm-.578-2.492q0 .906.562 1.414.57.508 1.594.508 1.016 0 1.586-.508.578-.508.578-1.414 0-.906-.578-1.414-.57-.508-1.586-.508-1.023 0-1.594.508-.562.508-.562 1.414z\"/></g><rect x=\"15\" y=\"330\" width=\"45\" height=\"45\" class=\"square dark a1\" stroke=\"none\" fill=\"#d18b47\"/><rect x=\"60\" y=\"330\" width=\"45\" height=\"45\" class=\"square light b1\" stroke=\"none\" fill=\"#ffce9e\"/><rect x=\"105\" y=\"330\" width=\"45\" height=\"45\" class=\"square dark c1\" stroke=\"none\" fill=\"#d18b47\"/><rect x=\"150\" y=\"330\" width=\"45\" height=\"45\" class=\"square light d1\" stroke=\"none\" fill=\"#ffce9e\"/><rect x=\"195\" y=\"330\" width=\"45\" height=\"45\" class=\"square dark e1\" stroke=\"none\" fill=\"#d18b47\"/><rect x=\"240\" y=\"330\" width=\"45\" height=\"45\" class=\"square light f1\" stroke=\"none\" fill=\"#ffce9e\"/><rect x=\"285\" y=\"330\" width=\"45\" height=\"45\" class=\"square dark g1\" stroke=\"none\" fill=\"#d18b47\"/><rect x=\"330\" y=\"330\" width=\"45\" height=\"45\" class=\"square light h1\" stroke=\"none\" fill=\"#ffce9e\"/><rect x=\"15\" y=\"285\" width=\"45\" height=\"45\" class=\"square light a2\" stroke=\"none\" fill=\"#ffce9e\"/><rect x=\"60\" y=\"285\" width=\"45\" height=\"45\" class=\"square dark b2\" stroke=\"none\" fill=\"#d18b47\"/><rect x=\"105\" y=\"285\" width=\"45\" height=\"45\" class=\"square light c2\" stroke=\"none\" fill=\"#ffce9e\"/><rect x=\"150\" y=\"285\" width=\"45\" height=\"45\" class=\"square dark d2\" stroke=\"none\" fill=\"#d18b47\"/><rect x=\"195\" y=\"285\" width=\"45\" height=\"45\" class=\"square light e2\" stroke=\"none\" fill=\"#ffce9e\"/><rect x=\"240\" y=\"285\" width=\"45\" height=\"45\" class=\"square dark f2\" stroke=\"none\" fill=\"#d18b47\"/><rect x=\"285\" y=\"285\" width=\"45\" height=\"45\" class=\"square light g2\" stroke=\"none\" fill=\"#ffce9e\"/><rect x=\"330\" y=\"285\" width=\"45\" height=\"45\" class=\"square dark h2\" stroke=\"none\" fill=\"#d18b47\"/><rect x=\"15\" y=\"240\" width=\"45\" height=\"45\" class=\"square dark a3\" stroke=\"none\" fill=\"#d18b47\"/><rect x=\"60\" y=\"240\" width=\"45\" height=\"45\" class=\"square light b3\" stroke=\"none\" fill=\"#ffce9e\"/><rect x=\"105\" y=\"240\" width=\"45\" height=\"45\" class=\"square dark c3\" stroke=\"none\" fill=\"#d18b47\"/><rect x=\"150\" y=\"240\" width=\"45\" height=\"45\" class=\"square light d3\" stroke=\"none\" fill=\"#ffce9e\"/><rect x=\"195\" y=\"240\" width=\"45\" height=\"45\" class=\"square dark e3\" stroke=\"none\" fill=\"#d18b47\"/><rect x=\"240\" y=\"240\" width=\"45\" height=\"45\" class=\"square light f3\" stroke=\"none\" fill=\"#ffce9e\"/><rect x=\"285\" y=\"240\" width=\"45\" height=\"45\" class=\"square dark g3\" stroke=\"none\" fill=\"#d18b47\"/><rect x=\"330\" y=\"240\" width=\"45\" height=\"45\" class=\"square light h3\" stroke=\"none\" fill=\"#ffce9e\"/><rect x=\"15\" y=\"195\" width=\"45\" height=\"45\" class=\"square light a4\" stroke=\"none\" fill=\"#ffce9e\"/><rect x=\"60\" y=\"195\" width=\"45\" height=\"45\" class=\"square dark b4\" stroke=\"none\" fill=\"#d18b47\"/><rect x=\"105\" y=\"195\" width=\"45\" height=\"45\" class=\"square light c4\" stroke=\"none\" fill=\"#ffce9e\"/><rect x=\"150\" y=\"195\" width=\"45\" height=\"45\" class=\"square dark d4\" stroke=\"none\" fill=\"#d18b47\"/><rect x=\"195\" y=\"195\" width=\"45\" height=\"45\" class=\"square light e4\" stroke=\"none\" fill=\"#ffce9e\"/><rect x=\"240\" y=\"195\" width=\"45\" height=\"45\" class=\"square dark f4\" stroke=\"none\" fill=\"#d18b47\"/><rect x=\"285\" y=\"195\" width=\"45\" height=\"45\" class=\"square light g4\" stroke=\"none\" fill=\"#ffce9e\"/><rect x=\"330\" y=\"195\" width=\"45\" height=\"45\" class=\"square dark h4\" stroke=\"none\" fill=\"#d18b47\"/><rect x=\"15\" y=\"150\" width=\"45\" height=\"45\" class=\"square dark a5\" stroke=\"none\" fill=\"#d18b47\"/><rect x=\"60\" y=\"150\" width=\"45\" height=\"45\" class=\"square light b5\" stroke=\"none\" fill=\"#ffce9e\"/><rect x=\"105\" y=\"150\" width=\"45\" height=\"45\" class=\"square dark c5\" stroke=\"none\" fill=\"#d18b47\"/><rect x=\"150\" y=\"150\" width=\"45\" height=\"45\" class=\"square light d5\" stroke=\"none\" fill=\"#ffce9e\"/><rect x=\"195\" y=\"150\" width=\"45\" height=\"45\" class=\"square dark e5\" stroke=\"none\" fill=\"#d18b47\"/><rect x=\"240\" y=\"150\" width=\"45\" height=\"45\" class=\"square light f5\" stroke=\"none\" fill=\"#ffce9e\"/><rect x=\"285\" y=\"150\" width=\"45\" height=\"45\" class=\"square dark g5\" stroke=\"none\" fill=\"#d18b47\"/><rect x=\"330\" y=\"150\" width=\"45\" height=\"45\" class=\"square light h5\" stroke=\"none\" fill=\"#ffce9e\"/><rect x=\"15\" y=\"105\" width=\"45\" height=\"45\" class=\"square light a6\" stroke=\"none\" fill=\"#ffce9e\"/><rect x=\"60\" y=\"105\" width=\"45\" height=\"45\" class=\"square dark b6\" stroke=\"none\" fill=\"#d18b47\"/><rect x=\"105\" y=\"105\" width=\"45\" height=\"45\" class=\"square light c6\" stroke=\"none\" fill=\"#ffce9e\"/><rect x=\"150\" y=\"105\" width=\"45\" height=\"45\" class=\"square dark d6\" stroke=\"none\" fill=\"#d18b47\"/><rect x=\"195\" y=\"105\" width=\"45\" height=\"45\" class=\"square light e6\" stroke=\"none\" fill=\"#ffce9e\"/><rect x=\"240\" y=\"105\" width=\"45\" height=\"45\" class=\"square dark f6\" stroke=\"none\" fill=\"#d18b47\"/><rect x=\"285\" y=\"105\" width=\"45\" height=\"45\" class=\"square light g6\" stroke=\"none\" fill=\"#ffce9e\"/><rect x=\"330\" y=\"105\" width=\"45\" height=\"45\" class=\"square dark h6\" stroke=\"none\" fill=\"#d18b47\"/><rect x=\"15\" y=\"60\" width=\"45\" height=\"45\" class=\"square dark a7\" stroke=\"none\" fill=\"#d18b47\"/><rect x=\"60\" y=\"60\" width=\"45\" height=\"45\" class=\"square light b7\" stroke=\"none\" fill=\"#ffce9e\"/><rect x=\"105\" y=\"60\" width=\"45\" height=\"45\" class=\"square dark c7\" stroke=\"none\" fill=\"#d18b47\"/><rect x=\"150\" y=\"60\" width=\"45\" height=\"45\" class=\"square light d7\" stroke=\"none\" fill=\"#ffce9e\"/><rect x=\"195\" y=\"60\" width=\"45\" height=\"45\" class=\"square dark e7\" stroke=\"none\" fill=\"#d18b47\"/><rect x=\"240\" y=\"60\" width=\"45\" height=\"45\" class=\"square light f7\" stroke=\"none\" fill=\"#ffce9e\"/><rect x=\"285\" y=\"60\" width=\"45\" height=\"45\" class=\"square dark g7\" stroke=\"none\" fill=\"#d18b47\"/><rect x=\"330\" y=\"60\" width=\"45\" height=\"45\" class=\"square light h7\" stroke=\"none\" fill=\"#ffce9e\"/><rect x=\"15\" y=\"15\" width=\"45\" height=\"45\" class=\"square light a8\" stroke=\"none\" fill=\"#ffce9e\"/><rect x=\"60\" y=\"15\" width=\"45\" height=\"45\" class=\"square dark b8\" stroke=\"none\" fill=\"#d18b47\"/><rect x=\"105\" y=\"15\" width=\"45\" height=\"45\" class=\"square light c8\" stroke=\"none\" fill=\"#ffce9e\"/><rect x=\"150\" y=\"15\" width=\"45\" height=\"45\" class=\"square dark d8\" stroke=\"none\" fill=\"#d18b47\"/><rect x=\"195\" y=\"15\" width=\"45\" height=\"45\" class=\"square light e8\" stroke=\"none\" fill=\"#ffce9e\"/><rect x=\"240\" y=\"15\" width=\"45\" height=\"45\" class=\"square dark f8\" stroke=\"none\" fill=\"#d18b47\"/><rect x=\"285\" y=\"15\" width=\"45\" height=\"45\" class=\"square light g8\" stroke=\"none\" fill=\"#ffce9e\"/><rect x=\"330\" y=\"15\" width=\"45\" height=\"45\" class=\"square dark h8\" stroke=\"none\" fill=\"#d18b47\"/><use href=\"#white-rook\" xlink:href=\"#white-rook\" transform=\"translate(15, 330)\"/><use href=\"#white-knight\" xlink:href=\"#white-knight\" transform=\"translate(60, 330)\"/><use href=\"#white-bishop\" xlink:href=\"#white-bishop\" transform=\"translate(105, 330)\"/><use href=\"#white-queen\" xlink:href=\"#white-queen\" transform=\"translate(150, 330)\"/><use href=\"#white-king\" xlink:href=\"#white-king\" transform=\"translate(195, 330)\"/><use href=\"#white-bishop\" xlink:href=\"#white-bishop\" transform=\"translate(240, 330)\"/><use href=\"#white-knight\" xlink:href=\"#white-knight\" transform=\"translate(285, 330)\"/><use href=\"#white-rook\" xlink:href=\"#white-rook\" transform=\"translate(330, 330)\"/><use href=\"#white-pawn\" xlink:href=\"#white-pawn\" transform=\"translate(15, 285)\"/><use href=\"#white-pawn\" xlink:href=\"#white-pawn\" transform=\"translate(60, 285)\"/><use href=\"#white-pawn\" xlink:href=\"#white-pawn\" transform=\"translate(105, 285)\"/><use href=\"#white-pawn\" xlink:href=\"#white-pawn\" transform=\"translate(150, 285)\"/><use href=\"#white-pawn\" xlink:href=\"#white-pawn\" transform=\"translate(240, 285)\"/><use href=\"#white-pawn\" xlink:href=\"#white-pawn\" transform=\"translate(285, 285)\"/><use href=\"#white-pawn\" xlink:href=\"#white-pawn\" transform=\"translate(330, 285)\"/><use href=\"#white-pawn\" xlink:href=\"#white-pawn\" transform=\"translate(195, 195)\"/><use href=\"#black-pawn\" xlink:href=\"#black-pawn\" transform=\"translate(60, 150)\"/><use href=\"#black-pawn\" xlink:href=\"#black-pawn\" transform=\"translate(15, 60)\"/><use href=\"#black-pawn\" xlink:href=\"#black-pawn\" transform=\"translate(105, 60)\"/><use href=\"#black-pawn\" xlink:href=\"#black-pawn\" transform=\"translate(150, 60)\"/><use href=\"#black-pawn\" xlink:href=\"#black-pawn\" transform=\"translate(195, 60)\"/><use href=\"#black-pawn\" xlink:href=\"#black-pawn\" transform=\"translate(240, 60)\"/><use href=\"#black-pawn\" xlink:href=\"#black-pawn\" transform=\"translate(285, 60)\"/><use href=\"#black-pawn\" xlink:href=\"#black-pawn\" transform=\"translate(330, 60)\"/><use href=\"#black-rook\" xlink:href=\"#black-rook\" transform=\"translate(15, 15)\"/><use href=\"#black-knight\" xlink:href=\"#black-knight\" transform=\"translate(60, 15)\"/><use href=\"#black-bishop\" xlink:href=\"#black-bishop\" transform=\"translate(105, 15)\"/><use href=\"#black-queen\" xlink:href=\"#black-queen\" transform=\"translate(150, 15)\"/><use href=\"#black-king\" xlink:href=\"#black-king\" transform=\"translate(195, 15)\"/><use href=\"#black-bishop\" xlink:href=\"#black-bishop\" transform=\"translate(240, 15)\"/><use href=\"#black-knight\" xlink:href=\"#black-knight\" transform=\"translate(285, 15)\"/><use href=\"#black-rook\" xlink:href=\"#black-rook\" transform=\"translate(330, 15)\"/></svg>"
      ],
      "text/plain": [
       "<IPython.core.display.SVG object>"
      ]
     },
     "metadata": {},
     "output_type": "display_data"
    }
   ],
   "source": [
    "from IPython.display import SVG, display, clear_output\n",
    "import chess\n",
    "\n",
    "PLAY_WHITE = True\n",
    "\n",
    "engine = cb.engine.Engine(not PLAY_WHITE)\n",
    "player_turn = not engine.play_white\n",
    "\n",
    "while not engine.board.is_game_over():\n",
    "    display(SVG(chess.svg.board(engine.board, orientation=not engine.play_white, size=500)))\n",
    "\n",
    "    if player_turn:\n",
    "        move = chess.Move.from_uci(input(\"Enter a move: \"))\n",
    "    else:\n",
    "        print(\"Computer calculating...\")\n",
    "        move = engine.calculate_move()\n",
    "\n",
    "    clear_output(wait=False)\n",
    "\n",
    "    if not engine.board.is_pseudo_legal(move):\n",
    "            continue\n",
    "\n",
    "    player_turn = not player_turn\n",
    "    engine.board.push(move)\n",
    "\n",
    "display(SVG(chess.svg.board(engine.board, orientation=not engine.play_white, size=500)))\n",
    "engine.board.outcome()"
   ]
  },
  {
   "cell_type": "markdown",
   "id": "2e135bae",
   "metadata": {
    "pycharm": {
     "name": "#%% md\n"
    }
   },
   "source": [
    "## Sandbox"
   ]
  },
  {
   "cell_type": "code",
   "execution_count": null,
   "id": "73b4524b",
   "metadata": {},
   "outputs": [],
   "source": [
    "import numpy as np\n",
    "\n",
    "train, val = cb.dataset.pos2vec_dataset()"
   ]
  },
  {
   "cell_type": "code",
   "execution_count": null,
   "id": "7422449b",
   "metadata": {},
   "outputs": [],
   "source": [
    "pos2vec = cb.model.get_pos2vec()\n",
    "\n",
    "left = pos2vec.predict(np.reshape(train[0][0][0], (1, 773)))\n",
    "right = pos2vec.predict(np.reshape(train[0][0][1], (1, 773))\n",
    "\n",
    "print(left, right)"
   ]
  },
  {
   "cell_type": "code",
   "execution_count": null,
   "id": "8d28eefb",
   "metadata": {},
   "outputs": [],
   "source": [
    "import tensorflow as tf\n",
    "\n",
    "tf.keras.layers.Concatenate(axis=1)([left, right]).numpy().shape"
   ]
  },
  {
   "cell_type": "code",
   "execution_count": null,
   "id": "988ff0bf",
   "metadata": {},
   "outputs": [],
   "source": []
  }
 ],
 "metadata": {
  "kernelspec": {
   "display_name": "Python 3 (ipykernel)",
   "language": "python",
   "name": "python3"
  },
  "language_info": {
   "codemirror_mode": {
    "name": "ipython",
    "version": 3
   },
   "file_extension": ".py",
   "mimetype": "text/x-python",
   "name": "python",
   "nbconvert_exporter": "python",
   "pygments_lexer": "ipython3",
   "version": "3.10.4"
  }
 },
 "nbformat": 4,
 "nbformat_minor": 5
}
