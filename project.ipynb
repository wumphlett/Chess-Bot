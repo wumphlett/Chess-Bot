{
 "cells": [
  {
   "cell_type": "markdown",
   "id": "e1a0d866",
   "metadata": {
    "pycharm": {
     "name": "#%% md\n"
    }
   },
   "source": [
    "# Chess-Bot"
   ]
  },
  {
   "cell_type": "markdown",
   "id": "39990c9e",
   "metadata": {
    "pycharm": {
     "name": "#%% md\n"
    }
   },
   "source": [
    "## Setup"
   ]
  },
  {
   "cell_type": "code",
   "execution_count": 1,
   "id": "44dfb777",
   "metadata": {
    "pycharm": {
     "name": "#%%\n"
    }
   },
   "outputs": [],
   "source": [
    "%load_ext autoreload\n",
    "%autoreload 2\n",
    "\n",
    "import chessbot as cb"
   ]
  },
  {
   "cell_type": "markdown",
   "id": "e0d6da87",
   "metadata": {},
   "source": [
    "## Environment"
   ]
  },
  {
   "cell_type": "code",
   "execution_count": 2,
   "id": "bc6accdc",
   "metadata": {
    "pycharm": {
     "name": "#%%\n"
    },
    "scrolled": false
   },
   "outputs": [
    {
     "name": "stdout",
     "output_type": "stream",
     "text": [
      "Dataset archive file found at /home/wumphlett/personal/Chess-Bot/data/CCRL-4040.[1505357].pgn.7z\n",
      "Dataset file found at /home/wumphlett/personal/Chess-Bot/data/CCRL-4040.[1505357].pgn\n",
      "Dataset pkl files found at /home/wumphlett/personal/Chess-Bot/data\n",
      "Dataset val pkl files found at /home/wumphlett/personal/Chess-Bot/data\n",
      "Done\n"
     ]
    }
   ],
   "source": [
    "cb.environment.create()"
   ]
  },
  {
   "cell_type": "markdown",
   "id": "0ff71152",
   "metadata": {},
   "source": [
    "## Pos2Vec"
   ]
  },
  {
   "cell_type": "code",
   "execution_count": 3,
   "id": "55e34049",
   "metadata": {},
   "outputs": [],
   "source": [
    "train, val = cb.dataset.pos2vec_dataset()"
   ]
  },
  {
   "cell_type": "code",
   "execution_count": 4,
   "id": "94862d50",
   "metadata": {},
   "outputs": [
    {
     "name": "stdout",
     "output_type": "stream",
     "text": [
      "Training layer 1/4\n",
      "40000/40000 [==============================] - 72s 2ms/step - loss: 0.3115 - val_loss: 0.1193 - lr: 0.0050\n",
      "Training layer 2/4\n",
      "40000/40000 [==============================] - 75s 2ms/step - loss: 0.1077 - val_loss: 0.1033 - lr: 0.0050\n",
      "Training layer 3/4\n",
      "40000/40000 [==============================] - 77s 2ms/step - loss: 0.1060 - val_loss: 0.1033 - lr: 0.0050\n",
      "Training layer 4/4\n",
      "40000/40000 [==============================] - 79s 2ms/step - loss: 0.1057 - val_loss: 0.1037 - lr: 0.0050\n",
      "Pos2Vec weights loading from /home/wumphlett/personal/Chess-Bot/models/pos2vec.h5\n"
     ]
    }
   ],
   "source": [
    "pos2vec = cb.model.train_pos2vec(train, val)"
   ]
  },
  {
   "cell_type": "markdown",
   "id": "9ffb6409",
   "metadata": {},
   "source": [
    "## DeepChess"
   ]
  },
  {
   "cell_type": "code",
   "execution_count": 5,
   "id": "0a9edcf0",
   "metadata": {},
   "outputs": [],
   "source": [
    "train, val = cb.dataset.deepchess_dataset()"
   ]
  },
  {
   "cell_type": "code",
   "execution_count": 6,
   "id": "cf092d00",
   "metadata": {},
   "outputs": [
    {
     "name": "stdout",
     "output_type": "stream",
     "text": [
      "Pos2Vec weights loading from /home/wumphlett/personal/Chess-Bot/models/pos2vec.h5\n",
      "20000/20000 [==============================] - 47s 2ms/step - loss: 0.5824 - accuracy: 0.6604 - val_loss: 0.4860 - val_accuracy: 0.7540 - lr: 0.0100\n",
      "DeepChess weights loading from /home/wumphlett/personal/Chess-Bot/models/deepchess.h5\n"
     ]
    }
   ],
   "source": [
    "deepchess = cb.model.train_deepchess(train, val)"
   ]
  },
  {
   "cell_type": "markdown",
   "id": "17a66f82",
   "metadata": {},
   "source": [
    "## Evaluation"
   ]
  },
  {
   "cell_type": "code",
   "execution_count": 7,
   "id": "87064140",
   "metadata": {},
   "outputs": [
    {
     "name": "stdout",
     "output_type": "stream",
     "text": [
      "DeepChess weights loading from /home/wumphlett/personal/Chess-Bot/models/deepchess.h5\n",
      "20000/20000 [==============================] - 42s 2ms/step - loss: 0.4810 - accuracy: 0.7566\n"
     ]
    },
    {
     "data": {
      "text/plain": [
       "[0.48097753524780273, 0.7566220164299011]"
      ]
     },
     "execution_count": 7,
     "metadata": {},
     "output_type": "execute_result"
    }
   ],
   "source": [
    "deepchess = cb.model.get_deepchess()\n",
    "deepchess.evaluate(train)"
   ]
  },
  {
   "cell_type": "code",
   "execution_count": 8,
   "id": "87c3930b",
   "metadata": {},
   "outputs": [
    {
     "name": "stdout",
     "output_type": "stream",
     "text": [
      "Model: \"model\"\n",
      "__________________________________________________________________________________________________\n",
      " Layer (type)                   Output Shape         Param #     Connected to                     \n",
      "==================================================================================================\n",
      " dc_input_left (InputLayer)     [(None, 773)]        0           []                               \n",
      "                                                                                                  \n",
      " dc_input_right (InputLayer)    [(None, 773)]        0           []                               \n",
      "                                                                                                  \n",
      " pos2_vec (Pos2Vec)             (None, 100)          805100      ['dc_input_left[0][0]',          \n",
      "                                                                  'dc_input_right[0][0]']         \n",
      "                                                                                                  \n",
      " concatenate (Concatenate)      (None, 200)          0           ['pos2_vec[0][0]',               \n",
      "                                                                  'pos2_vec[1][0]']               \n",
      "                                                                                                  \n",
      " dc_1 (Dense)                   (None, 400)          80400       ['concatenate[0][0]']            \n",
      "                                                                                                  \n",
      " dc_2 (Dense)                   (None, 200)          80200       ['dc_1[0][0]']                   \n",
      "                                                                                                  \n",
      " dc_3 (Dense)                   (None, 100)          20100       ['dc_2[0][0]']                   \n",
      "                                                                                                  \n",
      " dc_4 (Dense)                   (None, 2)            202         ['dc_3[0][0]']                   \n",
      "                                                                                                  \n",
      "==================================================================================================\n",
      "Total params: 986,002\n",
      "Trainable params: 986,002\n",
      "Non-trainable params: 0\n",
      "__________________________________________________________________________________________________\n"
     ]
    }
   ],
   "source": [
    "deepchess.deepchess.summary()"
   ]
  },
  {
   "cell_type": "markdown",
   "id": "2e135bae",
   "metadata": {
    "pycharm": {
     "name": "#%% md\n"
    }
   },
   "source": [
    "## Sandbox"
   ]
  },
  {
   "cell_type": "code",
   "execution_count": 9,
   "id": "73b4524b",
   "metadata": {},
   "outputs": [
    {
     "name": "stdout",
     "output_type": "stream",
     "text": [
      "1/1 [==============================] - 0s 179ms/step\n",
      "[0.         0.         0.05426151 3.4136026  0.         0.\n",
      " 0.49206942 3.8256633  2.2102838  2.5707335  1.6201493  5.093736\n",
      " 0.33165812 0.         0.         3.1722078  2.5910048  0.83677685\n",
      " 5.3608108  4.5097613  5.3332176  0.39744782 0.8848188  0.\n",
      " 0.         2.0036798  0.         0.         9.573278   1.1792725\n",
      " 0.         0.         0.         0.09011578 0.         0.\n",
      " 0.         3.944925   0.         0.         0.         4.257313\n",
      " 0.         0.         0.         0.         6.7119684  0.2539918\n",
      " 0.         1.6370635  0.         0.         0.         4.038688\n",
      " 0.         0.9278788  1.1670526  4.988118   0.97508526 0.\n",
      " 0.6324027  2.9999447  1.3851306  0.         0.949603   1.4727182\n",
      " 0.         0.         0.         0.         0.         5.5183034\n",
      " 1.0147842  0.         0.         0.         2.1796873  0.50186616\n",
      " 0.         2.627653   0.         7.954449   2.0838501  0.16131324\n",
      " 0.         0.         2.5351393  0.8253303  0.         2.5651317\n",
      " 5.218243   5.331614   2.4928145  1.7587808  0.         0.\n",
      " 2.4354737  0.         1.9085037  0.6471122 ]\n"
     ]
    }
   ],
   "source": [
    "import numpy as np\n",
    "\n",
    "train, val = cb.dataset.pos2vec_dataset()\n",
    "\n",
    "enc = np.reshape(train[0][0][0], (1, 773))\n",
    "print(pos2vec.predict(enc)[0])"
   ]
  }
 ],
 "metadata": {
  "kernelspec": {
   "display_name": "Python 3 (ipykernel)",
   "language": "python",
   "name": "python3"
  },
  "language_info": {
   "codemirror_mode": {
    "name": "ipython",
    "version": 3
   },
   "file_extension": ".py",
   "mimetype": "text/x-python",
   "name": "python",
   "nbconvert_exporter": "python",
   "pygments_lexer": "ipython3",
   "version": "3.10.4"
  }
 },
 "nbformat": 4,
 "nbformat_minor": 5
}
