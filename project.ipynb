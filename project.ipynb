{
 "cells": [
  {
   "cell_type": "markdown",
   "id": "e1a0d866",
   "metadata": {
    "pycharm": {
     "name": "#%% md\n"
    }
   },
   "source": [
    "# Chess-Bot"
   ]
  },
  {
   "cell_type": "markdown",
   "id": "39990c9e",
   "metadata": {
    "pycharm": {
     "name": "#%% md\n"
    }
   },
   "source": [
    "## Setup"
   ]
  },
  {
   "cell_type": "code",
   "execution_count": 1,
   "id": "44dfb777",
   "metadata": {
    "pycharm": {
     "name": "#%%\n"
    }
   },
   "outputs": [],
   "source": [
    "%load_ext autoreload\n",
    "%autoreload 2\n",
    "\n",
    "import chessbot as cb"
   ]
  },
  {
   "cell_type": "markdown",
   "id": "e0d6da87",
   "metadata": {},
   "source": [
    "## Environment"
   ]
  },
  {
   "cell_type": "code",
   "execution_count": 2,
   "id": "bc6accdc",
   "metadata": {
    "pycharm": {
     "name": "#%%\n"
    },
    "scrolled": false
   },
   "outputs": [
    {
     "name": "stdout",
     "output_type": "stream",
     "text": [
      "Dataset archive file found at /home/wumphlett/personal/Chess-Bot/data/CCRL-4040.[1505357].pgn.7z\n",
      "Dataset file found at /home/wumphlett/personal/Chess-Bot/data/CCRL-4040.[1505357].pgn\n",
      "Dataset pkl files found at /home/wumphlett/personal/Chess-Bot/data\n",
      "Dataset val pkl files found at /home/wumphlett/personal/Chess-Bot/data\n",
      "Done\n"
     ]
    }
   ],
   "source": [
    "cb.environment.create()"
   ]
  },
  {
   "cell_type": "markdown",
   "id": "0ff71152",
   "metadata": {},
   "source": [
    "## Pos2Vec"
   ]
  },
  {
   "cell_type": "code",
   "execution_count": 3,
   "id": "55e34049",
   "metadata": {},
   "outputs": [],
   "source": [
    "train, val = cb.dataset.pos2vec_dataset()"
   ]
  },
  {
   "cell_type": "code",
   "execution_count": 4,
   "id": "94862d50",
   "metadata": {},
   "outputs": [
    {
     "name": "stdout",
     "output_type": "stream",
     "text": [
      "Training layer 1/4\n",
      "40000/40000 [==============================] - 72s 2ms/step - loss: 0.3130 - val_loss: 0.1196 - lr: 0.0050\n",
      "Training layer 2/4\n",
      "40000/40000 [==============================] - 71s 2ms/step - loss: 0.1093 - val_loss: 0.1046 - lr: 0.0050\n",
      "Training layer 3/4\n",
      "40000/40000 [==============================] - 78s 2ms/step - loss: 0.1066 - val_loss: 0.1040 - lr: 0.0050\n",
      "Training layer 4/4\n",
      "40000/40000 [==============================] - 80s 2ms/step - loss: 0.1060 - val_loss: 0.1041 - lr: 0.0050\n",
      "Pos2Vec weights loading from /home/wumphlett/personal/Chess-Bot/models/pos2vec.h5\n"
     ]
    }
   ],
   "source": [
    "pos2vec = cb.model.train_pos2vec(train, val)"
   ]
  },
  {
   "cell_type": "code",
   "execution_count": 16,
   "id": "6a4dd94d",
   "metadata": {},
   "outputs": [
    {
     "name": "stdout",
     "output_type": "stream",
     "text": [
      "(773,)\n",
      "ex\n",
      "[[False False False False False False False False False  True False False\n",
      "  False  True False False  True False False False False False False False\n",
      "  False False False False False False False False False False False False\n",
      "  False False False False False False False False False False False False\n",
      "  False False False False False False False False False False False False\n",
      "  False False False False False False False False False False False False\n",
      "  False False False False False False False False False False False False\n",
      "  False False False False False False False False False False False False\n",
      "  False False False False False False False False False False False False\n",
      "  False False False False False False False False False False False False\n",
      "  False False False False False False False False False False False False\n",
      "  False False False False False False False False False False False False\n",
      "  False False False False False False False False False False False False\n",
      "  False False False False False False False False False False False False\n",
      "  False False False False False False False False False False False False\n",
      "  False False False False False False False False False False False False\n",
      "  False False False False False False False False False False False False\n",
      "  False False False False False False False False False False False False\n",
      "  False False False False False False False False False False False False\n",
      "  False False False False False False False False False False False False\n",
      "  False False False False False False False False False False False False\n",
      "  False False False False False False False False False False False False\n",
      "  False False False False False False False False False False False False\n",
      "  False False False False False False False False False False False False\n",
      "  False False False False False False False False False False False False\n",
      "  False False False False False False False False False False False False\n",
      "  False False False False False  True False False False False False False\n",
      "  False False False False False False False False False False False  True\n",
      "  False False False False False False False False False False False False\n",
      "  False False False False False False False False False False False False\n",
      "  False False False False False False False False False False False False\n",
      "  False False False False False False False False False False False False\n",
      "  False False False False False False False False False False False False\n",
      "  False False False False False False False False False False False False\n",
      "   True False False False False False  True False False  True False False\n",
      "  False False False False False False False False False False False  True\n",
      "  False False False False False False  True False False False False False\n",
      "  False False False False False False False False False False False False\n",
      "  False False False False False False False False False False False False\n",
      "  False False False False False False  True False False False False False\n",
      "  False False False  True False False False False False False False False\n",
      "  False False False False False False False False False False False False\n",
      "  False False False False False False False False False False False False\n",
      "  False False False False False False False False False False False False\n",
      "  False False False False False False False False False False False False\n",
      "  False False False False False False False False False False False False\n",
      "  False False False False False False False False False False False False\n",
      "  False False False False False False False False False False False False\n",
      "  False False False False False False False False False False False False\n",
      "  False False False False False False False False False False False False\n",
      "  False False False False False False False False False False False False\n",
      "  False False False False False False False False False False False False\n",
      "  False False False False False False False False False False False False\n",
      "  False False False False False False False False False False False False\n",
      "  False False False False False False False False False False False False\n",
      "  False False False False False False False False False False False False\n",
      "  False False False False False False False False False False False False\n",
      "  False False False False False False False False False False False False\n",
      "  False False False False False False False False False False False False\n",
      "  False False False False False False False False False False False False\n",
      "  False False False False False False False False False False False False\n",
      "  False False False False False False False False False False False False\n",
      "  False False False False False False False False False False False False\n",
      "  False False False  True False False False False False False False False\n",
      "  False False False False False]]\n",
      "enc\n",
      "1/1 [==============================] - 0s 14ms/step\n",
      "[0.         1.3411388  0.         0.         0.         0.\n",
      " 0.         0.65952474 2.4422884  0.         0.8862132  2.8324437\n",
      " 0.         1.9097022  0.         0.         0.         0.\n",
      " 0.         1.3269426  0.         0.         0.         0.\n",
      " 2.3531418  1.2510628  0.2874325  4.306373   0.         2.3934376\n",
      " 0.         0.         0.         0.         1.1886985  0.66245764\n",
      " 2.2806444  2.7585163  0.         1.8396103  0.         0.43339986\n",
      " 0.         0.         0.         0.         0.         0.\n",
      " 0.         0.         4.4336505  2.1357877  0.         0.\n",
      " 0.04905084 3.2390337  3.1417189  0.12085381 0.         0.7471361\n",
      " 0.         0.         0.         2.7216015  0.         0.\n",
      " 0.         0.         0.39869064 0.98797756 0.         0.\n",
      " 0.8266141  0.         0.         0.         0.         0.\n",
      " 0.         0.23280674 2.0111287  0.         1.6251653  0.\n",
      " 1.9518445  3.699935   5.2175913  2.686319   0.         0.\n",
      " 2.4547632  0.         0.         0.         1.5000277  0.\n",
      " 0.         0.44895953 0.         2.8640041 ]\n"
     ]
    }
   ],
   "source": [
    "import numpy as np\n",
    "\n",
    "ex = np.reshape(train[0][0][0], (1, 773))\n",
    "\n",
    "print(train[0][0][0].shape)\n",
    "print(\"ex\")\n",
    "print(ex)\n",
    "\n",
    "print(\"enc\")\n",
    "print(pos2vec.predict(ex)[0])"
   ]
  },
  {
   "cell_type": "markdown",
   "id": "83baadc2",
   "metadata": {},
   "source": [
    "## DeepChess"
   ]
  },
  {
   "cell_type": "code",
   "execution_count": 33,
   "id": "7266c7db",
   "metadata": {},
   "outputs": [],
   "source": [
    "train, val = cb.dataset.deepchess_dataset()"
   ]
  },
  {
   "cell_type": "code",
   "execution_count": 38,
   "id": "fb7bea8a",
   "metadata": {},
   "outputs": [
    {
     "name": "stdout",
     "output_type": "stream",
     "text": [
      "Pos2Vec weights loading from /home/wumphlett/personal/Chess-Bot/models/pos2vec.h5\n",
      "20000/20000 [==============================] - 47s 2ms/step - loss: 0.5566 - accuracy: 0.6887 - val_loss: 0.4562 - val_accuracy: 0.7750 - lr: 0.0100\n"
     ]
    }
   ],
   "source": [
    "deepchess = cb.model.train_deepchess(train, val)"
   ]
  },
  {
   "cell_type": "markdown",
   "id": "5b1e54de",
   "metadata": {},
   "source": [
    "## Evaluation"
   ]
  },
  {
   "cell_type": "code",
   "execution_count": 45,
   "id": "1803c354",
   "metadata": {},
   "outputs": [
    {
     "name": "stdout",
     "output_type": "stream",
     "text": [
      "DeepChess weights loading from /home/wumphlett/personal/Chess-Bot/models/deepchess.h5\n",
      "WARNING:tensorflow:5 out of the last 4004 calls to <function Model.make_test_function.<locals>.test_function at 0x7f743df7dbd0> triggered tf.function retracing. Tracing is expensive and the excessive number of tracings could be due to (1) creating @tf.function repeatedly in a loop, (2) passing tensors with different shapes, (3) passing Python objects instead of tensors. For (1), please define your @tf.function outside of the loop. For (2), @tf.function has reduce_retracing=True option that can avoid unnecessary retracing. For (3), please refer to https://www.tensorflow.org/guide/function#controlling_retracing and https://www.tensorflow.org/api_docs/python/tf/function for  more details.\n",
      "20000/20000 [==============================] - 44s 2ms/step - loss: 0.4753 - accuracy: 0.7592\n"
     ]
    },
    {
     "data": {
      "text/plain": [
       "[0.4753116965293884, 0.7591639757156372]"
      ]
     },
     "execution_count": 45,
     "metadata": {},
     "output_type": "execute_result"
    }
   ],
   "source": [
    "deepchess = cb.model.get_deepchess()\n",
    "deepchess.evaluate(train)"
   ]
  },
  {
   "cell_type": "code",
   "execution_count": null,
   "id": "770f8038",
   "metadata": {},
   "outputs": [],
   "source": [
    "deepc"
   ]
  },
  {
   "cell_type": "markdown",
   "id": "2e135bae",
   "metadata": {
    "pycharm": {
     "name": "#%% md\n"
    }
   },
   "source": [
    "## Sandbox"
   ]
  },
  {
   "cell_type": "code",
   "execution_count": null,
   "id": "73b4524b",
   "metadata": {},
   "outputs": [],
   "source": []
  }
 ],
 "metadata": {
  "kernelspec": {
   "display_name": "Python 3 (ipykernel)",
   "language": "python",
   "name": "python3"
  },
  "language_info": {
   "codemirror_mode": {
    "name": "ipython",
    "version": 3
   },
   "file_extension": ".py",
   "mimetype": "text/x-python",
   "name": "python",
   "nbconvert_exporter": "python",
   "pygments_lexer": "ipython3",
   "version": "3.10.4"
  }
 },
 "nbformat": 4,
 "nbformat_minor": 5
}
