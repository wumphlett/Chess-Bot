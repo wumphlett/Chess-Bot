{
 "cells": [
  {
   "cell_type": "markdown",
   "id": "e1a0d866",
   "metadata": {
    "pycharm": {
     "name": "#%% md\n"
    }
   },
   "source": [
    "# Chess-Bot"
   ]
  },
  {
   "cell_type": "markdown",
   "id": "39990c9e",
   "metadata": {
    "pycharm": {
     "name": "#%% md\n"
    }
   },
   "source": [
    "## Setup"
   ]
  },
  {
   "cell_type": "code",
   "execution_count": 1,
   "id": "44dfb777",
   "metadata": {
    "pycharm": {
     "name": "#%%\n"
    }
   },
   "outputs": [
    {
     "name": "stderr",
     "output_type": "stream",
     "text": [
      "2022-12-22 02:04:14.252705: I tensorflow/core/platform/cpu_feature_guard.cc:193] This TensorFlow binary is optimized with oneAPI Deep Neural Network Library (oneDNN) to use the following CPU instructions in performance-critical operations:  AVX2 AVX_VNNI FMA\n",
      "To enable them in other operations, rebuild TensorFlow with the appropriate compiler flags.\n",
      "2022-12-22 02:04:14.345377: I tensorflow/core/util/port.cc:104] oneDNN custom operations are on. You may see slightly different numerical results due to floating-point round-off errors from different computation orders. To turn them off, set the environment variable `TF_ENABLE_ONEDNN_OPTS=0`.\n",
      "2022-12-22 02:04:14.347978: W tensorflow/compiler/xla/stream_executor/platform/default/dso_loader.cc:64] Could not load dynamic library 'libcudart.so.11.0'; dlerror: libcudart.so.11.0: cannot open shared object file: No such file or directory\n",
      "2022-12-22 02:04:14.347992: I tensorflow/compiler/xla/stream_executor/cuda/cudart_stub.cc:29] Ignore above cudart dlerror if you do not have a GPU set up on your machine.\n",
      "2022-12-22 02:04:14.775139: W tensorflow/compiler/xla/stream_executor/platform/default/dso_loader.cc:64] Could not load dynamic library 'libnvinfer.so.7'; dlerror: libnvinfer.so.7: cannot open shared object file: No such file or directory\n",
      "2022-12-22 02:04:14.775211: W tensorflow/compiler/xla/stream_executor/platform/default/dso_loader.cc:64] Could not load dynamic library 'libnvinfer_plugin.so.7'; dlerror: libnvinfer_plugin.so.7: cannot open shared object file: No such file or directory\n",
      "2022-12-22 02:04:14.775216: W tensorflow/compiler/tf2tensorrt/utils/py_utils.cc:38] TF-TRT Warning: Cannot dlopen some TensorRT libraries. If you would like to use Nvidia GPU with TensorRT, please make sure the missing libraries mentioned above are installed properly.\n"
     ]
    }
   ],
   "source": [
    "%load_ext autoreload\n",
    "%autoreload 2\n",
    "\n",
    "import chessbot as cb"
   ]
  },
  {
   "cell_type": "markdown",
   "id": "e0d6da87",
   "metadata": {},
   "source": [
    "## Environment"
   ]
  },
  {
   "cell_type": "code",
   "execution_count": 2,
   "id": "bc6accdc",
   "metadata": {
    "pycharm": {
     "name": "#%%\n"
    },
    "scrolled": false
   },
   "outputs": [
    {
     "name": "stdout",
     "output_type": "stream",
     "text": [
      "Dataset archive file found at /home/whumphlett/personal/Chess-Bot/data/CCRL-4040.[1505357].pgn.7z\n",
      "Dataset file found at /home/whumphlett/personal/Chess-Bot/data/CCRL-4040.[1505357].pgn\n",
      "Dataset pkl files found at /home/whumphlett/personal/Chess-Bot/data\n",
      "Dataset val pkl files found at /home/whumphlett/personal/Chess-Bot/data\n",
      "Done\n"
     ]
    }
   ],
   "source": [
    "cb.environment.create()"
   ]
  },
  {
   "cell_type": "markdown",
   "id": "225c7d62",
   "metadata": {},
   "source": [
    "## Pos2Vec"
   ]
  },
  {
   "cell_type": "code",
   "execution_count": null,
   "id": "ae764971",
   "metadata": {},
   "outputs": [
    {
     "name": "stderr",
     "output_type": "stream",
     "text": [
      "2022-12-22 02:04:43.418133: I tensorflow/compiler/xla/stream_executor/cuda/cuda_gpu_executor.cc:967] could not open file to read NUMA node: /sys/bus/pci/devices/0000:01:00.0/numa_node\n",
      "Your kernel may have been built without NUMA support.\n",
      "2022-12-22 02:04:43.418303: W tensorflow/compiler/xla/stream_executor/platform/default/dso_loader.cc:64] Could not load dynamic library 'libcudart.so.11.0'; dlerror: libcudart.so.11.0: cannot open shared object file: No such file or directory\n",
      "2022-12-22 02:04:43.418363: W tensorflow/compiler/xla/stream_executor/platform/default/dso_loader.cc:64] Could not load dynamic library 'libcublas.so.11'; dlerror: libcublas.so.11: cannot open shared object file: No such file or directory\n",
      "2022-12-22 02:04:43.418414: W tensorflow/compiler/xla/stream_executor/platform/default/dso_loader.cc:64] Could not load dynamic library 'libcublasLt.so.11'; dlerror: libcublasLt.so.11: cannot open shared object file: No such file or directory\n",
      "2022-12-22 02:04:43.418436: W tensorflow/compiler/xla/stream_executor/platform/default/dso_loader.cc:64] Could not load dynamic library 'libcufft.so.10'; dlerror: libcufft.so.10: cannot open shared object file: No such file or directory\n",
      "2022-12-22 02:04:43.418459: W tensorflow/compiler/xla/stream_executor/platform/default/dso_loader.cc:64] Could not load dynamic library 'libcurand.so.10'; dlerror: libcurand.so.10: cannot open shared object file: No such file or directory\n",
      "2022-12-22 02:04:43.418481: W tensorflow/compiler/xla/stream_executor/platform/default/dso_loader.cc:64] Could not load dynamic library 'libcusolver.so.11'; dlerror: libcusolver.so.11: cannot open shared object file: No such file or directory\n",
      "2022-12-22 02:04:43.418501: W tensorflow/compiler/xla/stream_executor/platform/default/dso_loader.cc:64] Could not load dynamic library 'libcusparse.so.11'; dlerror: libcusparse.so.11: cannot open shared object file: No such file or directory\n",
      "2022-12-22 02:04:43.418523: W tensorflow/compiler/xla/stream_executor/platform/default/dso_loader.cc:64] Could not load dynamic library 'libcudnn.so.8'; dlerror: libcudnn.so.8: cannot open shared object file: No such file or directory\n",
      "2022-12-22 02:04:43.418529: W tensorflow/core/common_runtime/gpu/gpu_device.cc:1934] Cannot dlopen some GPU libraries. Please make sure the missing libraries mentioned above are installed properly if you would like to use GPU. Follow the guide at https://www.tensorflow.org/install/gpu for how to download and setup the required libraries for your platform.\n",
      "Skipping registering GPU devices...\n",
      "2022-12-22 02:04:43.418794: I tensorflow/core/platform/cpu_feature_guard.cc:193] This TensorFlow binary is optimized with oneAPI Deep Neural Network Library (oneDNN) to use the following CPU instructions in performance-critical operations:  AVX2 AVX_VNNI FMA\n",
      "To enable them in other operations, rebuild TensorFlow with the appropriate compiler flags.\n"
     ]
    },
    {
     "name": "stdout",
     "output_type": "stream",
     "text": [
      "Training layer 1/5\n",
      "40000/40000 [==============================] - 210s 5ms/step - loss: 0.2749 - accuracy: 0.0140 - val_loss: 0.1031 - val_accuracy: 0.0050 - lr: 0.0050\n",
      "Training layer 2/5\n",
      "  453/40000 [..............................] - ETA: 3:57 - loss: 0.1898 - accuracy: 4.4150e-05"
     ]
    }
   ],
   "source": [
    "x_train, x_val = cb.dataset.pos2vec_dataset()\n",
    "pos2vec = cb.model.train_pos2vec(x_train, x_val)"
   ]
  },
  {
   "cell_type": "code",
   "execution_count": null,
   "id": "8a17ae37",
   "metadata": {},
   "outputs": [],
   "source": [
    "import numpy as np\n",
    "\n",
    "ex = np.reshape(x_train[0][0][0], (1, 773))\n",
    "\n",
    "print(\"ex\")\n",
    "print(ex)\n",
    "\n",
    "print(\"enc\")\n",
    "print(len(pos2vec(ex)[0]))"
   ]
  },
  {
   "cell_type": "code",
   "execution_count": null,
   "id": "6f8579de",
   "metadata": {},
   "outputs": [],
   "source": [
    "temp = cb.dataset.pos2vec_dataset()"
   ]
  },
  {
   "cell_type": "code",
   "execution_count": null,
   "id": "f426403e",
   "metadata": {},
   "outputs": [],
   "source": [
    "print(len(temp[0]))"
   ]
  },
  {
   "cell_type": "code",
   "execution_count": null,
   "id": "d49b181f",
   "metadata": {},
   "outputs": [],
   "source": [
    "# example = np.reshape(x_train[0][0][0], (1, 773))\n",
    "# print(example)\n",
    "# encoded = pos2vec.encoder(example)\n",
    "# print(encoded)\n",
    "# print(pos2vec.decoder(encoded))"
   ]
  },
  {
   "cell_type": "markdown",
   "id": "273f3c66",
   "metadata": {},
   "source": [
    "## Sandbox"
   ]
  },
  {
   "cell_type": "code",
   "execution_count": null,
   "id": "b292b77a",
   "metadata": {
    "pycharm": {
     "name": "#%%\n"
    }
   },
   "outputs": [],
   "source": [
    "import numpy as np\n",
    "import pandas as pd\n",
    "\n",
    "win = pd.read_pickle(\"./data/win.pkl\")\n",
    "print(win.head())\n",
    "print(len(win))\n",
    "\n",
    "win_val = pd.read_pickle(\"./data/win_val.pkl\")\n",
    "print(win_val.head())\n",
    "print(len(win_val))"
   ]
  },
  {
   "cell_type": "code",
   "execution_count": null,
   "id": "4074522d",
   "metadata": {},
   "outputs": [],
   "source": []
  },
  {
   "cell_type": "markdown",
   "id": "bf3cb6b3",
   "metadata": {},
   "source": [
    "## TODO\n",
    "- Parquet, read w/ fastparquet write w/ pyarrow"
   ]
  },
  {
   "cell_type": "code",
   "execution_count": null,
   "id": "e61a3a52",
   "metadata": {},
   "outputs": [],
   "source": []
  }
 ],
 "metadata": {
  "kernelspec": {
   "display_name": "Python 3 (ipykernel)",
   "language": "python",
   "name": "python3"
  },
  "language_info": {
   "codemirror_mode": {
    "name": "ipython",
    "version": 3
   },
   "file_extension": ".py",
   "mimetype": "text/x-python",
   "name": "python",
   "nbconvert_exporter": "python",
   "pygments_lexer": "ipython3",
   "version": "3.10.7"
  }
 },
 "nbformat": 4,
 "nbformat_minor": 5
}
